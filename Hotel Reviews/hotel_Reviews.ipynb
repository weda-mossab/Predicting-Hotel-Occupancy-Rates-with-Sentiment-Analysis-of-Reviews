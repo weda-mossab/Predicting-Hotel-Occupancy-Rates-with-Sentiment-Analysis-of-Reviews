{
 "cells": [
  {
   "cell_type": "markdown",
   "metadata": {},
   "source": [
    "# Introduction:\n",
    "\n",
    "Sentiment analysis, or opinion mining, involves analyzing text data to determine emotional tone. In hotel bookings, it helps understand customer satisfaction by analyzing guest reviews. Positive reviews can boost bookings by enhancing the hotel's reputation, while negative reviews can lower occupancy rates.\n",
    "\n",
    "This notebook uses the TextBlob library to perform sentiment analysis on hotel reviews. We will classify reviews into positive, negative and neutral based on polarity and subjectivity scores, and visualize the results to identify trends. \n",
    "\n",
    "Finally, we will explore the relationship between review sentiment and hotel occupancy rates, demonstrating how customer opinions influence booking behaviors."
   ]
  },
  {
   "cell_type": "markdown",
   "metadata": {},
   "source": [
    "# I. Business Understanding\n",
    "This section lays the foundation for our project to analyze hotel reviews using sentiment analysis. It covers key steps to align our data analysis objectives with business goals, including goal setting, situation assessment, defining data mining objectives, and producing a project plan.\n",
    "\n",
    "### 1. Determining Business Objectives:\n",
    "We aim to enhance customer satisfaction, improve online reputation, and identify service improvement areas through sentiment analysis of hotel reviews.\n",
    "\n",
    "### 2. Situation Assessment:\n",
    "We will assess the business environment, including market trends, competitor feedback, and current customer feedback channels, to ensure our sentiment analysis is relevant and effective.\n",
    "\n",
    "### 3. Production of a Project Plan:\n",
    "We will develop a project plan detailing steps, resources, timelines, and responsibilities to ensure organized and efficient project execution."
   ]
  },
  {
   "cell_type": "markdown",
   "metadata": {},
   "source": [
    "# Packages import"
   ]
  },
  {
   "cell_type": "code",
   "execution_count": 2,
   "metadata": {},
   "outputs": [],
   "source": [
    "import pandas as pd\n",
    "import numpy as np\n",
    "import seaborn as sns\n",
    "import matplotlib.pyplot as plt\n",
    "from matplotlib.gridspec import GridSpec\n",
    "import folium\n",
    "import plotly.express as px\n",
    "import sort_dataframeby_monthorweek as sd\n",
    "\n",
    "#library used for visualizing missing data in datasets\n",
    "import missingno as msno \n",
    "\n",
    "#NLP packages\n",
    "from textblob import TextBlob\n",
    "\n",
    "plt.style.use('fivethirtyeight')\n",
    "%matplotlib inline\n",
    "pd.set_option('display.max_columns', 25)\n",
    "df= pd.read_csv('Datafiniti_Hotel_Reviews.csv', sep=',')"
   ]
  },
  {
   "cell_type": "markdown",
   "metadata": {},
   "source": [
    "# II. Data Understanding"
   ]
  },
  {
   "cell_type": "markdown",
   "metadata": {},
   "source": [
    "## 0. Dataset Loading"
   ]
  },
  {
   "cell_type": "code",
   "execution_count": 3,
   "metadata": {},
   "outputs": [
    {
     "data": {
      "text/html": [
       "<div>\n",
       "<style scoped>\n",
       "    .dataframe tbody tr th:only-of-type {\n",
       "        vertical-align: middle;\n",
       "    }\n",
       "\n",
       "    .dataframe tbody tr th {\n",
       "        vertical-align: top;\n",
       "    }\n",
       "\n",
       "    .dataframe thead th {\n",
       "        text-align: right;\n",
       "    }\n",
       "</style>\n",
       "<table border=\"1\" class=\"dataframe\">\n",
       "  <thead>\n",
       "    <tr style=\"text-align: right;\">\n",
       "      <th></th>\n",
       "      <th>id</th>\n",
       "      <th>dateAdded</th>\n",
       "      <th>dateUpdated</th>\n",
       "      <th>address</th>\n",
       "      <th>categories</th>\n",
       "      <th>primaryCategories</th>\n",
       "      <th>city</th>\n",
       "      <th>country</th>\n",
       "      <th>keys</th>\n",
       "      <th>latitude</th>\n",
       "      <th>longitude</th>\n",
       "      <th>name</th>\n",
       "      <th>postalCode</th>\n",
       "      <th>province</th>\n",
       "      <th>reviews.date</th>\n",
       "      <th>reviews.dateSeen</th>\n",
       "      <th>reviews.rating</th>\n",
       "      <th>reviews.sourceURLs</th>\n",
       "      <th>reviews.text</th>\n",
       "      <th>reviews.title</th>\n",
       "      <th>reviews.userCity</th>\n",
       "      <th>reviews.userProvince</th>\n",
       "      <th>reviews.username</th>\n",
       "      <th>sourceURLs</th>\n",
       "      <th>websites</th>\n",
       "    </tr>\n",
       "  </thead>\n",
       "  <tbody>\n",
       "    <tr>\n",
       "      <th>0</th>\n",
       "      <td>AVwc252WIN2L1WUfpqLP</td>\n",
       "      <td>2016-10-30T21:42:42Z</td>\n",
       "      <td>2018-09-10T21:06:27Z</td>\n",
       "      <td>5921 Valencia Cir</td>\n",
       "      <td>Hotels,Hotels and motels,Hotel and motel reser...</td>\n",
       "      <td>Accommodation &amp; Food Services</td>\n",
       "      <td>Rancho Santa Fe</td>\n",
       "      <td>US</td>\n",
       "      <td>us/ca/ranchosantafe/5921valenciacir/359754519</td>\n",
       "      <td>32.990959</td>\n",
       "      <td>-117.186136</td>\n",
       "      <td>Rancho Valencia Resort Spa</td>\n",
       "      <td>92067</td>\n",
       "      <td>CA</td>\n",
       "      <td>2013-11-14T00:00:00Z</td>\n",
       "      <td>2016-08-03T00:00:00Z,2016-07-26T00:00:00Z,2016...</td>\n",
       "      <td>5.0</td>\n",
       "      <td>https://www.hotels.com/hotel/125419/reviews%20/</td>\n",
       "      <td>Our experience at Rancho Valencia was absolute...</td>\n",
       "      <td>Best romantic vacation ever!!!!</td>\n",
       "      <td>NaN</td>\n",
       "      <td>NaN</td>\n",
       "      <td>Paula</td>\n",
       "      <td>http://www.hotels.com/ho125419/%25252525253Flo...</td>\n",
       "      <td>http://www.ranchovalencia.com</td>\n",
       "    </tr>\n",
       "    <tr>\n",
       "      <th>1</th>\n",
       "      <td>AVwc252WIN2L1WUfpqLP</td>\n",
       "      <td>2016-10-30T21:42:42Z</td>\n",
       "      <td>2018-09-10T21:06:27Z</td>\n",
       "      <td>5921 Valencia Cir</td>\n",
       "      <td>Hotels,Hotels and motels,Hotel and motel reser...</td>\n",
       "      <td>Accommodation &amp; Food Services</td>\n",
       "      <td>Rancho Santa Fe</td>\n",
       "      <td>US</td>\n",
       "      <td>us/ca/ranchosantafe/5921valenciacir/359754519</td>\n",
       "      <td>32.990959</td>\n",
       "      <td>-117.186136</td>\n",
       "      <td>Rancho Valencia Resort Spa</td>\n",
       "      <td>92067</td>\n",
       "      <td>CA</td>\n",
       "      <td>2014-07-06T00:00:00Z</td>\n",
       "      <td>2016-08-02T00:00:00Z,2016-08-26T00:00:00Z,2016...</td>\n",
       "      <td>5.0</td>\n",
       "      <td>https://www.hotels.com/hotel/125419/reviews%20/</td>\n",
       "      <td>Amazing place. Everyone was extremely warm and...</td>\n",
       "      <td>Sweet sweet serenity</td>\n",
       "      <td>NaN</td>\n",
       "      <td>NaN</td>\n",
       "      <td>D</td>\n",
       "      <td>http://www.hotels.com/ho125419/%25252525253Flo...</td>\n",
       "      <td>http://www.ranchovalencia.com</td>\n",
       "    </tr>\n",
       "    <tr>\n",
       "      <th>2</th>\n",
       "      <td>AVwc252WIN2L1WUfpqLP</td>\n",
       "      <td>2016-10-30T21:42:42Z</td>\n",
       "      <td>2018-09-10T21:06:27Z</td>\n",
       "      <td>5921 Valencia Cir</td>\n",
       "      <td>Hotels,Hotels and motels,Hotel and motel reser...</td>\n",
       "      <td>Accommodation &amp; Food Services</td>\n",
       "      <td>Rancho Santa Fe</td>\n",
       "      <td>US</td>\n",
       "      <td>us/ca/ranchosantafe/5921valenciacir/359754519</td>\n",
       "      <td>32.990959</td>\n",
       "      <td>-117.186136</td>\n",
       "      <td>Rancho Valencia Resort Spa</td>\n",
       "      <td>92067</td>\n",
       "      <td>CA</td>\n",
       "      <td>2015-01-02T00:00:00Z</td>\n",
       "      <td>2016-11-15T00:00:00Z,2016-08-23T00:00:00Z,2016...</td>\n",
       "      <td>5.0</td>\n",
       "      <td>https://www.hotels.com/hotel/125419/reviews%20/</td>\n",
       "      <td>We booked a 3 night stay at Rancho Valencia to...</td>\n",
       "      <td>Amazing Property and Experience</td>\n",
       "      <td>NaN</td>\n",
       "      <td>NaN</td>\n",
       "      <td>Ron</td>\n",
       "      <td>http://www.hotels.com/ho125419/%25252525253Flo...</td>\n",
       "      <td>http://www.ranchovalencia.com</td>\n",
       "    </tr>\n",
       "    <tr>\n",
       "      <th>3</th>\n",
       "      <td>AVwdOclqIN2L1WUfti38</td>\n",
       "      <td>2015-11-28T19:19:35Z</td>\n",
       "      <td>2018-09-10T21:06:16Z</td>\n",
       "      <td>7520 Teague Rd</td>\n",
       "      <td>Hotels,Hotels and motels,Travel agencies and b...</td>\n",
       "      <td>Accommodation &amp; Food Services</td>\n",
       "      <td>Hanover</td>\n",
       "      <td>US</td>\n",
       "      <td>us/md/hanover/7520teaguerd/-2043779672</td>\n",
       "      <td>39.155929</td>\n",
       "      <td>-76.716341</td>\n",
       "      <td>Aloft Arundel Mills</td>\n",
       "      <td>21076</td>\n",
       "      <td>MD</td>\n",
       "      <td>2016-05-15T00:00:00Z</td>\n",
       "      <td>2016-05-21T00:00:00Z,2016-07-31T00:00:00Z</td>\n",
       "      <td>2.0</td>\n",
       "      <td>https://www.tripadvisor.com/Hotel_Review-g4118...</td>\n",
       "      <td>Currently in bed writing this for the past hr ...</td>\n",
       "      <td>Never again...beware, if you want sleep.</td>\n",
       "      <td>Richmond</td>\n",
       "      <td>VA</td>\n",
       "      <td>jaeem2016</td>\n",
       "      <td>http://www.yellowbook.com/profile/aloft-arunde...</td>\n",
       "      <td>http://www.starwoodhotels.com/alofthotels/prop...</td>\n",
       "    </tr>\n",
       "    <tr>\n",
       "      <th>4</th>\n",
       "      <td>AVwdOclqIN2L1WUfti38</td>\n",
       "      <td>2015-11-28T19:19:35Z</td>\n",
       "      <td>2018-09-10T21:06:16Z</td>\n",
       "      <td>7520 Teague Rd</td>\n",
       "      <td>Hotels,Hotels and motels,Travel agencies and b...</td>\n",
       "      <td>Accommodation &amp; Food Services</td>\n",
       "      <td>Hanover</td>\n",
       "      <td>US</td>\n",
       "      <td>us/md/hanover/7520teaguerd/-2043779672</td>\n",
       "      <td>39.155929</td>\n",
       "      <td>-76.716341</td>\n",
       "      <td>Aloft Arundel Mills</td>\n",
       "      <td>21076</td>\n",
       "      <td>MD</td>\n",
       "      <td>2016-07-09T00:00:00Z</td>\n",
       "      <td>2016-07-31T00:00:00Z</td>\n",
       "      <td>5.0</td>\n",
       "      <td>https://www.tripadvisor.com/Hotel_Review-g4118...</td>\n",
       "      <td>I live in Md and the Aloft is my Home away fro...</td>\n",
       "      <td>ALWAYS GREAT STAY...</td>\n",
       "      <td>Laurel</td>\n",
       "      <td>MD</td>\n",
       "      <td>MamaNiaOne</td>\n",
       "      <td>http://www.yellowbook.com/profile/aloft-arunde...</td>\n",
       "      <td>http://www.starwoodhotels.com/alofthotels/prop...</td>\n",
       "    </tr>\n",
       "  </tbody>\n",
       "</table>\n",
       "</div>"
      ],
      "text/plain": [
       "                     id             dateAdded           dateUpdated  \\\n",
       "0  AVwc252WIN2L1WUfpqLP  2016-10-30T21:42:42Z  2018-09-10T21:06:27Z   \n",
       "1  AVwc252WIN2L1WUfpqLP  2016-10-30T21:42:42Z  2018-09-10T21:06:27Z   \n",
       "2  AVwc252WIN2L1WUfpqLP  2016-10-30T21:42:42Z  2018-09-10T21:06:27Z   \n",
       "3  AVwdOclqIN2L1WUfti38  2015-11-28T19:19:35Z  2018-09-10T21:06:16Z   \n",
       "4  AVwdOclqIN2L1WUfti38  2015-11-28T19:19:35Z  2018-09-10T21:06:16Z   \n",
       "\n",
       "             address                                         categories  \\\n",
       "0  5921 Valencia Cir  Hotels,Hotels and motels,Hotel and motel reser...   \n",
       "1  5921 Valencia Cir  Hotels,Hotels and motels,Hotel and motel reser...   \n",
       "2  5921 Valencia Cir  Hotels,Hotels and motels,Hotel and motel reser...   \n",
       "3     7520 Teague Rd  Hotels,Hotels and motels,Travel agencies and b...   \n",
       "4     7520 Teague Rd  Hotels,Hotels and motels,Travel agencies and b...   \n",
       "\n",
       "               primaryCategories             city country  \\\n",
       "0  Accommodation & Food Services  Rancho Santa Fe      US   \n",
       "1  Accommodation & Food Services  Rancho Santa Fe      US   \n",
       "2  Accommodation & Food Services  Rancho Santa Fe      US   \n",
       "3  Accommodation & Food Services          Hanover      US   \n",
       "4  Accommodation & Food Services          Hanover      US   \n",
       "\n",
       "                                            keys   latitude   longitude  \\\n",
       "0  us/ca/ranchosantafe/5921valenciacir/359754519  32.990959 -117.186136   \n",
       "1  us/ca/ranchosantafe/5921valenciacir/359754519  32.990959 -117.186136   \n",
       "2  us/ca/ranchosantafe/5921valenciacir/359754519  32.990959 -117.186136   \n",
       "3         us/md/hanover/7520teaguerd/-2043779672  39.155929  -76.716341   \n",
       "4         us/md/hanover/7520teaguerd/-2043779672  39.155929  -76.716341   \n",
       "\n",
       "                         name postalCode province          reviews.date  \\\n",
       "0  Rancho Valencia Resort Spa      92067       CA  2013-11-14T00:00:00Z   \n",
       "1  Rancho Valencia Resort Spa      92067       CA  2014-07-06T00:00:00Z   \n",
       "2  Rancho Valencia Resort Spa      92067       CA  2015-01-02T00:00:00Z   \n",
       "3         Aloft Arundel Mills      21076       MD  2016-05-15T00:00:00Z   \n",
       "4         Aloft Arundel Mills      21076       MD  2016-07-09T00:00:00Z   \n",
       "\n",
       "                                    reviews.dateSeen  reviews.rating  \\\n",
       "0  2016-08-03T00:00:00Z,2016-07-26T00:00:00Z,2016...             5.0   \n",
       "1  2016-08-02T00:00:00Z,2016-08-26T00:00:00Z,2016...             5.0   \n",
       "2  2016-11-15T00:00:00Z,2016-08-23T00:00:00Z,2016...             5.0   \n",
       "3          2016-05-21T00:00:00Z,2016-07-31T00:00:00Z             2.0   \n",
       "4                               2016-07-31T00:00:00Z             5.0   \n",
       "\n",
       "                                  reviews.sourceURLs  \\\n",
       "0    https://www.hotels.com/hotel/125419/reviews%20/   \n",
       "1    https://www.hotels.com/hotel/125419/reviews%20/   \n",
       "2    https://www.hotels.com/hotel/125419/reviews%20/   \n",
       "3  https://www.tripadvisor.com/Hotel_Review-g4118...   \n",
       "4  https://www.tripadvisor.com/Hotel_Review-g4118...   \n",
       "\n",
       "                                        reviews.text  \\\n",
       "0  Our experience at Rancho Valencia was absolute...   \n",
       "1  Amazing place. Everyone was extremely warm and...   \n",
       "2  We booked a 3 night stay at Rancho Valencia to...   \n",
       "3  Currently in bed writing this for the past hr ...   \n",
       "4  I live in Md and the Aloft is my Home away fro...   \n",
       "\n",
       "                              reviews.title reviews.userCity  \\\n",
       "0           Best romantic vacation ever!!!!              NaN   \n",
       "1                      Sweet sweet serenity              NaN   \n",
       "2           Amazing Property and Experience              NaN   \n",
       "3  Never again...beware, if you want sleep.         Richmond   \n",
       "4                      ALWAYS GREAT STAY...           Laurel   \n",
       "\n",
       "  reviews.userProvince reviews.username  \\\n",
       "0                  NaN            Paula   \n",
       "1                  NaN                D   \n",
       "2                  NaN              Ron   \n",
       "3                   VA        jaeem2016   \n",
       "4                   MD       MamaNiaOne   \n",
       "\n",
       "                                          sourceURLs  \\\n",
       "0  http://www.hotels.com/ho125419/%25252525253Flo...   \n",
       "1  http://www.hotels.com/ho125419/%25252525253Flo...   \n",
       "2  http://www.hotels.com/ho125419/%25252525253Flo...   \n",
       "3  http://www.yellowbook.com/profile/aloft-arunde...   \n",
       "4  http://www.yellowbook.com/profile/aloft-arunde...   \n",
       "\n",
       "                                            websites  \n",
       "0                      http://www.ranchovalencia.com  \n",
       "1                      http://www.ranchovalencia.com  \n",
       "2                      http://www.ranchovalencia.com  \n",
       "3  http://www.starwoodhotels.com/alofthotels/prop...  \n",
       "4  http://www.starwoodhotels.com/alofthotels/prop...  "
      ]
     },
     "execution_count": 3,
     "metadata": {},
     "output_type": "execute_result"
    }
   ],
   "source": [
    "df.head()"
   ]
  },
  {
   "cell_type": "markdown",
   "metadata": {},
   "source": [
    "## 1.1 The data dimension\n",
    "The quantity of data is a crucial factor in machine learning\n",
    "(machine learning) and plays an essential role in the performance and predictive\n",
    "predictive capacity of models"
   ]
  },
  {
   "cell_type": "code",
   "execution_count": 40,
   "metadata": {},
   "outputs": [
    {
     "name": "stdout",
     "output_type": "stream",
     "text": [
      "Lignes number : 10000 \n",
      "\n",
      "Columns number : 25 \n",
      "\n"
     ]
    }
   ],
   "source": [
    "#Nombre de lignes\n",
    "print(\"Lignes number :\", df.shape[0], \"\\n\")\n",
    "\n",
    "#Nombre de colonnes\n",
    "print(\"Columns number :\", df.shape[1], \"\\n\")"
   ]
  },
  {
   "cell_type": "markdown",
   "metadata": {},
   "source": [
    "The reservation data files consist of 10000 rows\n",
    "and 25 columns. The amount of data is more than sufficient to achieve our\n",
    "objective"
   ]
  },
  {
   "cell_type": "markdown",
   "metadata": {},
   "source": [
    "## 1.2 Data information\n",
    "This can be very useful for quickly understanding the data structure,\n",
    "identify columns with missing values and determine data types\n",
    "to plan data cleansing and manipulation, especially for analysis or\n",
    "analysis or modeling."
   ]
  },
  {
   "cell_type": "code",
   "execution_count": 41,
   "metadata": {},
   "outputs": [
    {
     "name": "stdout",
     "output_type": "stream",
     "text": [
      "<class 'pandas.core.frame.DataFrame'>\n",
      "RangeIndex: 10000 entries, 0 to 9999\n",
      "Data columns (total 25 columns):\n",
      " #   Column                Non-Null Count  Dtype  \n",
      "---  ------                --------------  -----  \n",
      " 0   id                    10000 non-null  object \n",
      " 1   dateAdded             10000 non-null  object \n",
      " 2   dateUpdated           10000 non-null  object \n",
      " 3   address               10000 non-null  object \n",
      " 4   categories            10000 non-null  object \n",
      " 5   primaryCategories     10000 non-null  object \n",
      " 6   city                  10000 non-null  object \n",
      " 7   country               10000 non-null  object \n",
      " 8   keys                  10000 non-null  object \n",
      " 9   latitude              10000 non-null  float64\n",
      " 10  longitude             10000 non-null  float64\n",
      " 11  name                  10000 non-null  object \n",
      " 12  postalCode            10000 non-null  object \n",
      " 13  province              10000 non-null  object \n",
      " 14  reviews.date          10000 non-null  object \n",
      " 15  reviews.dateSeen      10000 non-null  object \n",
      " 16  reviews.rating        10000 non-null  float64\n",
      " 17  reviews.sourceURLs    10000 non-null  object \n",
      " 18  reviews.text          9999 non-null   object \n",
      " 19  reviews.title         9999 non-null   object \n",
      " 20  reviews.userCity      4164 non-null   object \n",
      " 21  reviews.userProvince  2705 non-null   object \n",
      " 22  reviews.username      10000 non-null  object \n",
      " 23  sourceURLs            10000 non-null  object \n",
      " 24  websites              10000 non-null  object \n",
      "dtypes: float64(3), object(22)\n",
      "memory usage: 1.9+ MB\n",
      "None\n"
     ]
    }
   ],
   "source": [
    "# Afficher les informations sur le DataFrame\n",
    "print(df.info())"
   ]
  },
  {
   "cell_type": "code",
   "execution_count": 42,
   "metadata": {},
   "outputs": [
    {
     "name": "stdout",
     "output_type": "stream",
     "text": [
      "Index(['id', 'dateAdded', 'dateUpdated', 'address', 'categories',\n",
      "       'primaryCategories', 'city', 'country', 'keys', 'latitude', 'longitude',\n",
      "       'name', 'postalCode', 'province', 'reviews.date', 'reviews.dateSeen',\n",
      "       'reviews.rating', 'reviews.sourceURLs', 'reviews.text', 'reviews.title',\n",
      "       'reviews.userCity', 'reviews.userProvince', 'reviews.username',\n",
      "       'sourceURLs', 'websites'],\n",
      "      dtype='object') \n",
      "\n"
     ]
    }
   ],
   "source": [
    "# Affichage des colonnes\n",
    "print(df.columns, \"\\n\")"
   ]
  },
  {
   "cell_type": "code",
   "execution_count": 43,
   "metadata": {},
   "outputs": [
    {
     "name": "stdout",
     "output_type": "stream",
     "text": [
      "Number of unique values in each column:\n",
      " id                      1853\n",
      "dateAdded               1788\n",
      "dateUpdated             1632\n",
      "address                 1846\n",
      "categories              1148\n",
      "primaryCategories          6\n",
      "city                    1021\n",
      "country                    1\n",
      "keys                    1853\n",
      "latitude                1849\n",
      "longitude               1850\n",
      "name                    1670\n",
      "postalCode              1474\n",
      "province                  49\n",
      "reviews.date            3188\n",
      "reviews.dateSeen        2053\n",
      "reviews.rating            30\n",
      "reviews.sourceURLs      6386\n",
      "reviews.text            9981\n",
      "reviews.title           8622\n",
      "reviews.userCity        2051\n",
      "reviews.userProvince     177\n",
      "reviews.username        6942\n",
      "sourceURLs              1853\n",
      "websites                1746\n",
      "dtype: int64\n"
     ]
    }
   ],
   "source": [
    "unique_counts = df.nunique()\n",
    "print(\"Number of unique values in each column:\\n\", unique_counts)\n"
   ]
  },
  {
   "cell_type": "markdown",
   "metadata": {},
   "source": [
    "## 2. Check data quality"
   ]
  },
  {
   "cell_type": "markdown",
   "metadata": {},
   "source": [
    "### 2.1 Identification of duplicates"
   ]
  },
  {
   "cell_type": "code",
   "execution_count": 4,
   "metadata": {},
   "outputs": [
    {
     "name": "stdout",
     "output_type": "stream",
     "text": [
      "\n",
      "Nombre de lignes en double (à l'exclusion de l'ID): 0\n"
     ]
    }
   ],
   "source": [
    "# Duplicate lines\n",
    "doublons = df.duplicated().sum()\n",
    "print(\"\\nNombre de lignes en double (à l'exclusion de l'ID):\", doublons)\n",
    "\n",
    "# 0"
   ]
  },
  {
   "cell_type": "markdown",
   "metadata": {},
   "source": [
    "#### 2.2. Identification of null values and their percentage"
   ]
  },
  {
   "cell_type": "code",
   "execution_count": 5,
   "metadata": {},
   "outputs": [
    {
     "data": {
      "text/html": [
       "<div>\n",
       "<style scoped>\n",
       "    .dataframe tbody tr th:only-of-type {\n",
       "        vertical-align: middle;\n",
       "    }\n",
       "\n",
       "    .dataframe tbody tr th {\n",
       "        vertical-align: top;\n",
       "    }\n",
       "\n",
       "    .dataframe thead th {\n",
       "        text-align: right;\n",
       "    }\n",
       "</style>\n",
       "<table border=\"1\" class=\"dataframe\">\n",
       "  <thead>\n",
       "    <tr style=\"text-align: right;\">\n",
       "      <th></th>\n",
       "      <th>Null Values</th>\n",
       "      <th>Percentage Null Values</th>\n",
       "    </tr>\n",
       "  </thead>\n",
       "  <tbody>\n",
       "    <tr>\n",
       "      <th>id</th>\n",
       "      <td>0</td>\n",
       "      <td>0.00</td>\n",
       "    </tr>\n",
       "    <tr>\n",
       "      <th>dateAdded</th>\n",
       "      <td>0</td>\n",
       "      <td>0.00</td>\n",
       "    </tr>\n",
       "    <tr>\n",
       "      <th>dateUpdated</th>\n",
       "      <td>0</td>\n",
       "      <td>0.00</td>\n",
       "    </tr>\n",
       "    <tr>\n",
       "      <th>address</th>\n",
       "      <td>0</td>\n",
       "      <td>0.00</td>\n",
       "    </tr>\n",
       "    <tr>\n",
       "      <th>categories</th>\n",
       "      <td>0</td>\n",
       "      <td>0.00</td>\n",
       "    </tr>\n",
       "    <tr>\n",
       "      <th>primaryCategories</th>\n",
       "      <td>0</td>\n",
       "      <td>0.00</td>\n",
       "    </tr>\n",
       "    <tr>\n",
       "      <th>city</th>\n",
       "      <td>0</td>\n",
       "      <td>0.00</td>\n",
       "    </tr>\n",
       "    <tr>\n",
       "      <th>country</th>\n",
       "      <td>0</td>\n",
       "      <td>0.00</td>\n",
       "    </tr>\n",
       "    <tr>\n",
       "      <th>keys</th>\n",
       "      <td>0</td>\n",
       "      <td>0.00</td>\n",
       "    </tr>\n",
       "    <tr>\n",
       "      <th>latitude</th>\n",
       "      <td>0</td>\n",
       "      <td>0.00</td>\n",
       "    </tr>\n",
       "    <tr>\n",
       "      <th>longitude</th>\n",
       "      <td>0</td>\n",
       "      <td>0.00</td>\n",
       "    </tr>\n",
       "    <tr>\n",
       "      <th>name</th>\n",
       "      <td>0</td>\n",
       "      <td>0.00</td>\n",
       "    </tr>\n",
       "    <tr>\n",
       "      <th>postalCode</th>\n",
       "      <td>0</td>\n",
       "      <td>0.00</td>\n",
       "    </tr>\n",
       "    <tr>\n",
       "      <th>province</th>\n",
       "      <td>0</td>\n",
       "      <td>0.00</td>\n",
       "    </tr>\n",
       "    <tr>\n",
       "      <th>reviews.date</th>\n",
       "      <td>0</td>\n",
       "      <td>0.00</td>\n",
       "    </tr>\n",
       "    <tr>\n",
       "      <th>reviews.dateSeen</th>\n",
       "      <td>0</td>\n",
       "      <td>0.00</td>\n",
       "    </tr>\n",
       "    <tr>\n",
       "      <th>reviews.rating</th>\n",
       "      <td>0</td>\n",
       "      <td>0.00</td>\n",
       "    </tr>\n",
       "    <tr>\n",
       "      <th>reviews.sourceURLs</th>\n",
       "      <td>0</td>\n",
       "      <td>0.00</td>\n",
       "    </tr>\n",
       "    <tr>\n",
       "      <th>reviews.text</th>\n",
       "      <td>1</td>\n",
       "      <td>0.01</td>\n",
       "    </tr>\n",
       "    <tr>\n",
       "      <th>reviews.title</th>\n",
       "      <td>1</td>\n",
       "      <td>0.01</td>\n",
       "    </tr>\n",
       "    <tr>\n",
       "      <th>reviews.userCity</th>\n",
       "      <td>5836</td>\n",
       "      <td>58.36</td>\n",
       "    </tr>\n",
       "    <tr>\n",
       "      <th>reviews.userProvince</th>\n",
       "      <td>7295</td>\n",
       "      <td>72.95</td>\n",
       "    </tr>\n",
       "    <tr>\n",
       "      <th>reviews.username</th>\n",
       "      <td>0</td>\n",
       "      <td>0.00</td>\n",
       "    </tr>\n",
       "    <tr>\n",
       "      <th>sourceURLs</th>\n",
       "      <td>0</td>\n",
       "      <td>0.00</td>\n",
       "    </tr>\n",
       "    <tr>\n",
       "      <th>websites</th>\n",
       "      <td>0</td>\n",
       "      <td>0.00</td>\n",
       "    </tr>\n",
       "  </tbody>\n",
       "</table>\n",
       "</div>"
      ],
      "text/plain": [
       "                      Null Values  Percentage Null Values\n",
       "id                              0                    0.00\n",
       "dateAdded                       0                    0.00\n",
       "dateUpdated                     0                    0.00\n",
       "address                         0                    0.00\n",
       "categories                      0                    0.00\n",
       "primaryCategories               0                    0.00\n",
       "city                            0                    0.00\n",
       "country                         0                    0.00\n",
       "keys                            0                    0.00\n",
       "latitude                        0                    0.00\n",
       "longitude                       0                    0.00\n",
       "name                            0                    0.00\n",
       "postalCode                      0                    0.00\n",
       "province                        0                    0.00\n",
       "reviews.date                    0                    0.00\n",
       "reviews.dateSeen                0                    0.00\n",
       "reviews.rating                  0                    0.00\n",
       "reviews.sourceURLs              0                    0.00\n",
       "reviews.text                    1                    0.01\n",
       "reviews.title                   1                    0.01\n",
       "reviews.userCity             5836                   58.36\n",
       "reviews.userProvince         7295                   72.95\n",
       "reviews.username                0                    0.00\n",
       "sourceURLs                      0                    0.00\n",
       "websites                        0                    0.00"
      ]
     },
     "execution_count": 5,
     "metadata": {},
     "output_type": "execute_result"
    }
   ],
   "source": [
    "# Identifier les valeurs nulles et leur pourcentage\n",
    "val_null = pd.DataFrame({'Null Values' : df.isna().sum(), 'Percentage Null Values' : (df.isna().sum()) / (df.shape[0]) * (100)})\n",
    "val_null"
   ]
  },
  {
   "cell_type": "code",
   "execution_count": 17,
   "metadata": {},
   "outputs": [
    {
     "data": {
      "image/png": "[encoded data removed]",
      "text/plain": [
       "<Figure size 2500x1000 with 3 Axes>"
      ]
     },
     "metadata": {},
     "output_type": "display_data"
    }
   ],
   "source": [
    "msno.bar(df)\n",
    "plt.show()"
   ]
  },
  {
   "cell_type": "markdown",
   "metadata": {},
   "source": [
    "## 3. Examine the distribution of variables"
   ]
  },
  {
   "cell_type": "markdown",
   "metadata": {},
   "source": [
    "### 3.2 Handling null values"
   ]
  },
  {
   "cell_type": "markdown",
   "metadata": {},
   "source": [
    "#### 3.2.1 Replace null values"
   ]
  },
  {
   "cell_type": "code",
   "execution_count": 108,
   "metadata": {},
   "outputs": [],
   "source": [
    "# Remplacer les valeurs nulles par les valeurs les plus fréquentes\n",
    "df['reviews.userCity'] = df['reviews.userCity'].fillna(df['reviews.userCity'].mode()[0])\n",
    "df['reviews.userProvince'] = df['reviews.userProvince'].fillna(df['reviews.userProvince'].mode()[0])"
   ]
  },
  {
   "cell_type": "markdown",
   "metadata": {},
   "source": [
    "### 3.2.2 Removing Unnecessary Columns and Rows"
   ]
  },
  {
   "cell_type": "code",
   "execution_count": 47,
   "metadata": {},
   "outputs": [
    {
     "name": "stdout",
     "output_type": "stream",
     "text": [
      "Colonnes (presque) vides et pouvant être supprimées: []\n"
     ]
    }
   ],
   "source": [
    "# Colonnes presque vides\n",
    "colonnes_presque_vides = [colonne for colonne in df.columns if df[colonne].isnull().sum() >= 0.9 * len(df)]\n",
    "print(\"Colonnes (presque) vides et pouvant être supprimées:\",colonnes_presque_vides)"
   ]
  },
  {
   "cell_type": "code",
   "execution_count": 109,
   "metadata": {},
   "outputs": [
    {
     "name": "stdout",
     "output_type": "stream",
     "text": [
      "Remaining columns:\n",
      " Index(['id', 'address', 'categories', 'primaryCategories', 'city', 'country',\n",
      "       'name', 'province', 'reviews.date', 'reviews.rating',\n",
      "       'reviews.sourceURLs', 'reviews.text', 'reviews.title',\n",
      "       'reviews.userCity'],\n",
      "      dtype='object')\n"
     ]
    }
   ],
   "source": [
    "columns_to_drop = [\n",
    "    'longitude', 'latitude', 'keys', 'postalCode','reviews.dateSeen', 'reviews.userProvince',\n",
    "    'dateAdded', 'dateUpdated', 'sourceURLs', 'websites', 'reviews.username'\n",
    "]\n",
    "\n",
    "df = df.drop(columns=columns_to_drop)\n",
    "\n",
    "# Verify the columns have been dropped\n",
    "print(\"Remaining columns:\\n\", df.columns)"
   ]
  },
  {
   "cell_type": "markdown",
   "metadata": {},
   "source": [
    "## 4. Data Transformation"
   ]
  },
  {
   "cell_type": "code",
   "execution_count": 39,
   "metadata": {},
   "outputs": [
    {
     "data": {
      "text/plain": [
       "array(['Accommodation & Food Services', 'Healthcare & Social Assistance',\n",
       "       'Arts Entertainment & Recreation', 'Wholesale Trade', 'Utilities'],\n",
       "      dtype=object)"
      ]
     },
     "execution_count": 39,
     "metadata": {},
     "output_type": "execute_result"
    }
   ],
   "source": [
    "categories_to_modify = [\n",
    "    'Healthcare & Social Assistance,Accommodation & Food Services',\n",
    "    'Accommodation & Food Services,Arts Entertainment & Recreation',\n",
    "    'Wholesale Trade,Accommodation & Food Services'\n",
    "]\n",
    "\n",
    "# Fonction pour suprimer le segment repeter dans chaque service (primaryCategories)\n",
    "def remove_repeated_segment(category):\n",
    "    if category in categories_to_modify:\n",
    "        # supprimer 'Accommodation & Food Services,' et ',Accommodation & Food Services' dans les noms des services\n",
    "        return category.replace('Accommodation & Food Services,', '').replace(',Accommodation & Food Services', '')\n",
    "    else:\n",
    "        return category\n",
    "    \n",
    "# application du fonction\n",
    "df['primaryCategories'] = df['primaryCategories'].apply(remove_repeated_segment)\n",
    "\n",
    "df['primaryCategories'].unique()"
   ]
  },
  {
   "cell_type": "markdown",
   "metadata": {},
   "source": [
    "## 5. Descriptive statistics"
   ]
  },
  {
   "cell_type": "markdown",
   "metadata": {},
   "source": [
    "### 5.1 Frequency of Reviews rating"
   ]
  },
  {
   "cell_type": "code",
   "execution_count": 111,
   "metadata": {},
   "outputs": [
    {
     "name": "stdout",
     "output_type": "stream",
     "text": [
      "descriptive statistics for the column 'reviews.rating': \n",
      "\n",
      "count    10000.000000\n",
      "mean         4.034265\n",
      "std          1.162240\n",
      "min          1.000000\n",
      "25%          3.350000\n",
      "50%          4.000000\n",
      "75%          5.000000\n",
      "max          5.000000\n",
      "Name: reviews.rating, dtype: float64 \n",
      "\n"
     ]
    },
    {
     "data": {
      "text/plain": [
       "reviews.rating\n",
       "5.00    4384\n",
       "4.00    2397\n",
       "3.00    1187\n",
       "1.00     572\n",
       "2.00     561\n",
       "4.80     162\n",
       "4.60     155\n",
       "4.40     102\n",
       "3.75      91\n",
       "4.15      78\n",
       "3.95      52\n",
       "3.55      50\n",
       "3.35      40\n",
       "3.15      37\n",
       "2.90      34\n",
       "2.70      23\n",
       "2.50      19\n",
       "2.30      12\n",
       "2.10      11\n",
       "1.65       8\n",
       "1.45       6\n",
       "1.90       4\n",
       "4.50       4\n",
       "3.50       2\n",
       "4.25       2\n",
       "1.25       2\n",
       "3.25       2\n",
       "2.75       1\n",
       "3.45       1\n",
       "4.75       1\n",
       "Name: count, dtype: int64"
      ]
     },
     "execution_count": 111,
     "metadata": {},
     "output_type": "execute_result"
    }
   ],
   "source": [
    "print (\"descriptive statistics for the column 'reviews.rating': \\n\")\n",
    "print(df['reviews.rating'].describe(), \"\\n\")\n",
    "\n",
    "rating_frequency = df['reviews.rating'].value_counts()\n",
    "\n",
    "rating_frequency"
   ]
  },
  {
   "cell_type": "markdown",
   "metadata": {},
   "source": [
    "### 5.1 Analysis of ratings by Primary categories"
   ]
  },
  {
   "cell_type": "code",
   "execution_count": 25,
   "metadata": {},
   "outputs": [
    {
     "data": {
      "text/html": [
       "<div>\n",
       "<style scoped>\n",
       "    .dataframe tbody tr th:only-of-type {\n",
       "        vertical-align: middle;\n",
       "    }\n",
       "\n",
       "    .dataframe tbody tr th {\n",
       "        vertical-align: top;\n",
       "    }\n",
       "\n",
       "    .dataframe thead th {\n",
       "        text-align: right;\n",
       "    }\n",
       "</style>\n",
       "<table border=\"1\" class=\"dataframe\">\n",
       "  <thead>\n",
       "    <tr style=\"text-align: right;\">\n",
       "      <th></th>\n",
       "      <th>reviews.rating</th>\n",
       "      <th>primaryCategories</th>\n",
       "      <th>rating_count</th>\n",
       "    </tr>\n",
       "  </thead>\n",
       "  <tbody>\n",
       "    <tr>\n",
       "      <th>0</th>\n",
       "      <td>1.00</td>\n",
       "      <td>Accommodation &amp; Food Services</td>\n",
       "      <td>568</td>\n",
       "    </tr>\n",
       "    <tr>\n",
       "      <th>1</th>\n",
       "      <td>1.00</td>\n",
       "      <td>Arts Entertainment &amp; Recreation</td>\n",
       "      <td>2</td>\n",
       "    </tr>\n",
       "    <tr>\n",
       "      <th>2</th>\n",
       "      <td>1.00</td>\n",
       "      <td>Healthcare &amp; Social Assistance</td>\n",
       "      <td>1</td>\n",
       "    </tr>\n",
       "    <tr>\n",
       "      <th>3</th>\n",
       "      <td>1.00</td>\n",
       "      <td>Wholesale Trade</td>\n",
       "      <td>1</td>\n",
       "    </tr>\n",
       "    <tr>\n",
       "      <th>4</th>\n",
       "      <td>1.25</td>\n",
       "      <td>Accommodation &amp; Food Services</td>\n",
       "      <td>2</td>\n",
       "    </tr>\n",
       "    <tr>\n",
       "      <th>5</th>\n",
       "      <td>1.45</td>\n",
       "      <td>Accommodation &amp; Food Services</td>\n",
       "      <td>6</td>\n",
       "    </tr>\n",
       "    <tr>\n",
       "      <th>6</th>\n",
       "      <td>1.65</td>\n",
       "      <td>Accommodation &amp; Food Services</td>\n",
       "      <td>8</td>\n",
       "    </tr>\n",
       "    <tr>\n",
       "      <th>7</th>\n",
       "      <td>1.90</td>\n",
       "      <td>Accommodation &amp; Food Services</td>\n",
       "      <td>4</td>\n",
       "    </tr>\n",
       "    <tr>\n",
       "      <th>8</th>\n",
       "      <td>2.00</td>\n",
       "      <td>Accommodation &amp; Food Services</td>\n",
       "      <td>560</td>\n",
       "    </tr>\n",
       "    <tr>\n",
       "      <th>9</th>\n",
       "      <td>2.00</td>\n",
       "      <td>Arts Entertainment &amp; Recreation</td>\n",
       "      <td>1</td>\n",
       "    </tr>\n",
       "    <tr>\n",
       "      <th>10</th>\n",
       "      <td>2.10</td>\n",
       "      <td>Accommodation &amp; Food Services</td>\n",
       "      <td>11</td>\n",
       "    </tr>\n",
       "    <tr>\n",
       "      <th>11</th>\n",
       "      <td>2.30</td>\n",
       "      <td>Accommodation &amp; Food Services</td>\n",
       "      <td>12</td>\n",
       "    </tr>\n",
       "    <tr>\n",
       "      <th>12</th>\n",
       "      <td>2.50</td>\n",
       "      <td>Accommodation &amp; Food Services</td>\n",
       "      <td>19</td>\n",
       "    </tr>\n",
       "    <tr>\n",
       "      <th>13</th>\n",
       "      <td>2.70</td>\n",
       "      <td>Accommodation &amp; Food Services</td>\n",
       "      <td>23</td>\n",
       "    </tr>\n",
       "    <tr>\n",
       "      <th>14</th>\n",
       "      <td>2.75</td>\n",
       "      <td>Accommodation &amp; Food Services</td>\n",
       "      <td>1</td>\n",
       "    </tr>\n",
       "    <tr>\n",
       "      <th>15</th>\n",
       "      <td>2.90</td>\n",
       "      <td>Accommodation &amp; Food Services</td>\n",
       "      <td>34</td>\n",
       "    </tr>\n",
       "    <tr>\n",
       "      <th>16</th>\n",
       "      <td>3.00</td>\n",
       "      <td>Accommodation &amp; Food Services</td>\n",
       "      <td>1181</td>\n",
       "    </tr>\n",
       "    <tr>\n",
       "      <th>17</th>\n",
       "      <td>3.00</td>\n",
       "      <td>Arts Entertainment &amp; Recreation</td>\n",
       "      <td>3</td>\n",
       "    </tr>\n",
       "    <tr>\n",
       "      <th>18</th>\n",
       "      <td>3.00</td>\n",
       "      <td>Healthcare &amp; Social Assistance</td>\n",
       "      <td>3</td>\n",
       "    </tr>\n",
       "    <tr>\n",
       "      <th>19</th>\n",
       "      <td>3.15</td>\n",
       "      <td>Accommodation &amp; Food Services</td>\n",
       "      <td>37</td>\n",
       "    </tr>\n",
       "    <tr>\n",
       "      <th>20</th>\n",
       "      <td>3.25</td>\n",
       "      <td>Accommodation &amp; Food Services</td>\n",
       "      <td>2</td>\n",
       "    </tr>\n",
       "    <tr>\n",
       "      <th>21</th>\n",
       "      <td>3.35</td>\n",
       "      <td>Accommodation &amp; Food Services</td>\n",
       "      <td>40</td>\n",
       "    </tr>\n",
       "    <tr>\n",
       "      <th>22</th>\n",
       "      <td>3.45</td>\n",
       "      <td>Accommodation &amp; Food Services</td>\n",
       "      <td>1</td>\n",
       "    </tr>\n",
       "    <tr>\n",
       "      <th>23</th>\n",
       "      <td>3.50</td>\n",
       "      <td>Accommodation &amp; Food Services</td>\n",
       "      <td>2</td>\n",
       "    </tr>\n",
       "    <tr>\n",
       "      <th>24</th>\n",
       "      <td>3.55</td>\n",
       "      <td>Accommodation &amp; Food Services</td>\n",
       "      <td>50</td>\n",
       "    </tr>\n",
       "    <tr>\n",
       "      <th>25</th>\n",
       "      <td>3.75</td>\n",
       "      <td>Accommodation &amp; Food Services</td>\n",
       "      <td>91</td>\n",
       "    </tr>\n",
       "    <tr>\n",
       "      <th>26</th>\n",
       "      <td>3.95</td>\n",
       "      <td>Accommodation &amp; Food Services</td>\n",
       "      <td>52</td>\n",
       "    </tr>\n",
       "    <tr>\n",
       "      <th>27</th>\n",
       "      <td>4.00</td>\n",
       "      <td>Accommodation &amp; Food Services</td>\n",
       "      <td>2379</td>\n",
       "    </tr>\n",
       "    <tr>\n",
       "      <th>28</th>\n",
       "      <td>4.00</td>\n",
       "      <td>Arts Entertainment &amp; Recreation</td>\n",
       "      <td>12</td>\n",
       "    </tr>\n",
       "    <tr>\n",
       "      <th>29</th>\n",
       "      <td>4.00</td>\n",
       "      <td>Healthcare &amp; Social Assistance</td>\n",
       "      <td>4</td>\n",
       "    </tr>\n",
       "    <tr>\n",
       "      <th>30</th>\n",
       "      <td>4.00</td>\n",
       "      <td>Wholesale Trade</td>\n",
       "      <td>2</td>\n",
       "    </tr>\n",
       "    <tr>\n",
       "      <th>31</th>\n",
       "      <td>4.15</td>\n",
       "      <td>Accommodation &amp; Food Services</td>\n",
       "      <td>78</td>\n",
       "    </tr>\n",
       "    <tr>\n",
       "      <th>32</th>\n",
       "      <td>4.25</td>\n",
       "      <td>Accommodation &amp; Food Services</td>\n",
       "      <td>2</td>\n",
       "    </tr>\n",
       "    <tr>\n",
       "      <th>33</th>\n",
       "      <td>4.40</td>\n",
       "      <td>Accommodation &amp; Food Services</td>\n",
       "      <td>102</td>\n",
       "    </tr>\n",
       "    <tr>\n",
       "      <th>34</th>\n",
       "      <td>4.50</td>\n",
       "      <td>Accommodation &amp; Food Services</td>\n",
       "      <td>4</td>\n",
       "    </tr>\n",
       "    <tr>\n",
       "      <th>35</th>\n",
       "      <td>4.60</td>\n",
       "      <td>Accommodation &amp; Food Services</td>\n",
       "      <td>155</td>\n",
       "    </tr>\n",
       "    <tr>\n",
       "      <th>36</th>\n",
       "      <td>4.75</td>\n",
       "      <td>Accommodation &amp; Food Services</td>\n",
       "      <td>1</td>\n",
       "    </tr>\n",
       "    <tr>\n",
       "      <th>37</th>\n",
       "      <td>4.80</td>\n",
       "      <td>Accommodation &amp; Food Services</td>\n",
       "      <td>162</td>\n",
       "    </tr>\n",
       "    <tr>\n",
       "      <th>38</th>\n",
       "      <td>5.00</td>\n",
       "      <td>Accommodation &amp; Food Services</td>\n",
       "      <td>4341</td>\n",
       "    </tr>\n",
       "    <tr>\n",
       "      <th>39</th>\n",
       "      <td>5.00</td>\n",
       "      <td>Arts Entertainment &amp; Recreation</td>\n",
       "      <td>28</td>\n",
       "    </tr>\n",
       "    <tr>\n",
       "      <th>40</th>\n",
       "      <td>5.00</td>\n",
       "      <td>Healthcare &amp; Social Assistance</td>\n",
       "      <td>10</td>\n",
       "    </tr>\n",
       "    <tr>\n",
       "      <th>41</th>\n",
       "      <td>5.00</td>\n",
       "      <td>Utilities</td>\n",
       "      <td>1</td>\n",
       "    </tr>\n",
       "    <tr>\n",
       "      <th>42</th>\n",
       "      <td>5.00</td>\n",
       "      <td>Wholesale Trade</td>\n",
       "      <td>4</td>\n",
       "    </tr>\n",
       "  </tbody>\n",
       "</table>\n",
       "</div>"
      ],
      "text/plain": [
       "    reviews.rating                primaryCategories  rating_count\n",
       "0             1.00    Accommodation & Food Services           568\n",
       "1             1.00  Arts Entertainment & Recreation             2\n",
       "2             1.00   Healthcare & Social Assistance             1\n",
       "3             1.00                  Wholesale Trade             1\n",
       "4             1.25    Accommodation & Food Services             2\n",
       "5             1.45    Accommodation & Food Services             6\n",
       "6             1.65    Accommodation & Food Services             8\n",
       "7             1.90    Accommodation & Food Services             4\n",
       "8             2.00    Accommodation & Food Services           560\n",
       "9             2.00  Arts Entertainment & Recreation             1\n",
       "10            2.10    Accommodation & Food Services            11\n",
       "11            2.30    Accommodation & Food Services            12\n",
       "12            2.50    Accommodation & Food Services            19\n",
       "13            2.70    Accommodation & Food Services            23\n",
       "14            2.75    Accommodation & Food Services             1\n",
       "15            2.90    Accommodation & Food Services            34\n",
       "16            3.00    Accommodation & Food Services          1181\n",
       "17            3.00  Arts Entertainment & Recreation             3\n",
       "18            3.00   Healthcare & Social Assistance             3\n",
       "19            3.15    Accommodation & Food Services            37\n",
       "20            3.25    Accommodation & Food Services             2\n",
       "21            3.35    Accommodation & Food Services            40\n",
       "22            3.45    Accommodation & Food Services             1\n",
       "23            3.50    Accommodation & Food Services             2\n",
       "24            3.55    Accommodation & Food Services            50\n",
       "25            3.75    Accommodation & Food Services            91\n",
       "26            3.95    Accommodation & Food Services            52\n",
       "27            4.00    Accommodation & Food Services          2379\n",
       "28            4.00  Arts Entertainment & Recreation            12\n",
       "29            4.00   Healthcare & Social Assistance             4\n",
       "30            4.00                  Wholesale Trade             2\n",
       "31            4.15    Accommodation & Food Services            78\n",
       "32            4.25    Accommodation & Food Services             2\n",
       "33            4.40    Accommodation & Food Services           102\n",
       "34            4.50    Accommodation & Food Services             4\n",
       "35            4.60    Accommodation & Food Services           155\n",
       "36            4.75    Accommodation & Food Services             1\n",
       "37            4.80    Accommodation & Food Services           162\n",
       "38            5.00    Accommodation & Food Services          4341\n",
       "39            5.00  Arts Entertainment & Recreation            28\n",
       "40            5.00   Healthcare & Social Assistance            10\n",
       "41            5.00                        Utilities             1\n",
       "42            5.00                  Wholesale Trade             4"
      ]
     },
     "execution_count": 25,
     "metadata": {},
     "output_type": "execute_result"
    }
   ],
   "source": [
    "# Calcul du nombre de réservations par hôtel et par pays\n",
    "reviewRating_by_PrimaryCategory = df.groupby(['reviews.rating', 'primaryCategories']).size().reset_index(name='rating_count')\n",
    "\n",
    "reviewRating_by_PrimaryCategory"
   ]
  },
  {
   "cell_type": "markdown",
   "metadata": {},
   "source": [
    "## 6 Data visualization"
   ]
  },
  {
   "cell_type": "markdown",
   "metadata": {},
   "source": [
    "### 6.1. visualization of Reviews rating Frequency"
   ]
  },
  {
   "cell_type": "code",
   "execution_count": 6,
   "metadata": {},
   "outputs": [
    {
     "data": {
      "image/png": "[encoded data removed]",
      "text/plain": [
       "<Figure size 640x480 with 1 Axes>"
      ]
     },
     "metadata": {},
     "output_type": "display_data"
    }
   ],
   "source": [
    "df['reviews.rating'].hist(bins=50)\n",
    "\n",
    "plt.xlabel('Ratings')\n",
    "plt.ylabel('Rating Frequency')\n",
    "\n",
    "plt.show()"
   ]
  },
  {
   "cell_type": "markdown",
   "metadata": {},
   "source": [
    "# III. Sentimental Analysis"
   ]
  },
  {
   "cell_type": "markdown",
   "metadata": {},
   "source": [
    "#### TextBlob : is a Python library that simplifies text processing, including tasks like part-of-speech tagging, noun phrase extraction, and sentiment analysis. It provides a simple API for diving into common natural language processing tasks"
   ]
  },
  {
   "cell_type": "code",
   "execution_count": 50,
   "metadata": {},
   "outputs": [
    {
     "data": {
      "text/plain": [
       "Sentiment(polarity=0.7, subjectivity=0.6000000000000001)"
      ]
     },
     "execution_count": 50,
     "metadata": {},
     "output_type": "execute_result"
    }
   ],
   "source": [
    "# TextBlob Test\n",
    "TextBlob(\"The movie is good\").sentiment"
   ]
  },
  {
   "cell_type": "markdown",
   "metadata": {},
   "source": [
    "## 3.1. Calculating sentiment polarity"
   ]
  },
  {
   "cell_type": "markdown",
   "metadata": {},
   "source": [
    "### Polarity\n",
    "- Value range : Polarity varies between -1 and 1.\n",
    "- Interpretation : A polarity score of -1 indicates a very negative feeling, while a score of 1 indicates a very positive feeling. A score of 0 indicates neutral or indifferent sentiment. \n",
    "\n",
    "### Subjectivity\n",
    "- Value range: Subjectivity varies between 0 and 1.\n",
    "- Interpretation : A subjectivity score of 0 indicates that the text is very objective, based on facts and factual information. A score of 1 indicates that the text is highly subjective, based on personal opinions rather than facts. Subjectivity is calculated by examining the intensity of words in the text, including the use of adverbs as modifiers (example “very good”)."
   ]
  },
  {
   "cell_type": "code",
   "execution_count": 8,
   "metadata": {},
   "outputs": [],
   "source": [
    "polarity=[] # List containing the polarity of the comments\n",
    "subjectivity=[] # List that will contain the subjectivity of the comments\n",
    "\n",
    "for i in df['reviews.text'].values:\n",
    "    try:\n",
    "        # Analyze comment sentiment with TextBlob\n",
    "        analysis = TextBlob(i) \n",
    "\n",
    "        polarity.append(analysis.sentiment.polarity)\n",
    "        subjectivity.append(analysis.sentiment.subjectivity)\n",
    "        \n",
    "    except:\n",
    "        polarity.append(0)\n",
    "        subjectivity.append(0)"
   ]
  },
  {
   "cell_type": "code",
   "execution_count": 9,
   "metadata": {},
   "outputs": [],
   "source": [
    "# Add polarity and subjectivity columns to the DF\n",
    "df['polarity'] = polarity\n",
    "df['subjectivity'] = subjectivity"
   ]
  },
  {
   "cell_type": "markdown",
   "metadata": {},
   "source": [
    "### 3.1.1. Negative comments"
   ]
  },
  {
   "cell_type": "code",
   "execution_count": 10,
   "metadata": {},
   "outputs": [
    {
     "name": "stdout",
     "output_type": "stream",
     "text": [
      "Total number of comments : 10000\n",
      "Number of negative comments : 960\n",
      "Percentage of negative comments : 9.60% \n",
      "\n",
      "\n",
      "Negative comments:\n"
     ]
    },
    {
     "data": {
      "text/html": [
       "<div>\n",
       "<style scoped>\n",
       "    .dataframe tbody tr th:only-of-type {\n",
       "        vertical-align: middle;\n",
       "    }\n",
       "\n",
       "    .dataframe tbody tr th {\n",
       "        vertical-align: top;\n",
       "    }\n",
       "\n",
       "    .dataframe thead th {\n",
       "        text-align: right;\n",
       "    }\n",
       "</style>\n",
       "<table border=\"1\" class=\"dataframe\">\n",
       "  <thead>\n",
       "    <tr style=\"text-align: right;\">\n",
       "      <th></th>\n",
       "      <th>name</th>\n",
       "      <th>reviews.text</th>\n",
       "      <th>polarity</th>\n",
       "      <th>subjectivity</th>\n",
       "      <th>reviews.rating</th>\n",
       "    </tr>\n",
       "  </thead>\n",
       "  <tbody>\n",
       "    <tr>\n",
       "      <th>3</th>\n",
       "      <td>Aloft Arundel Mills</td>\n",
       "      <td>Currently in bed writing this for the past hr 1/2 there have been dogs barking and squealing call the front desk to advise basically to be told there's nothing they can do. 315.00 and I can't sleep.</td>\n",
       "      <td>-0.125000</td>\n",
       "      <td>0.325000</td>\n",
       "      <td>2.00</td>\n",
       "    </tr>\n",
       "    <tr>\n",
       "      <th>30</th>\n",
       "      <td>Hampton Inn Suites National HarborAlexandria Area</td>\n",
       "      <td>heat in room did not work properly, tv remote was broken excessive noise</td>\n",
       "      <td>-0.250000</td>\n",
       "      <td>0.533333</td>\n",
       "      <td>2.00</td>\n",
       "    </tr>\n",
       "    <tr>\n",
       "      <th>31</th>\n",
       "      <td>Hampton Inn Suites National HarborAlexandria Area</td>\n",
       "      <td>Even though we were having problems, i.e. Feather allergy, Flat tire, key not working...the front desk personell were always gracious and helpful.</td>\n",
       "      <td>-0.012500</td>\n",
       "      <td>0.562500</td>\n",
       "      <td>5.00</td>\n",
       "    </tr>\n",
       "    <tr>\n",
       "      <th>45</th>\n",
       "      <td>Hampton Inn Suites National HarborAlexandria Area</td>\n",
       "      <td>I was really disappointed with the TV service. Very few channels and poor quality.</td>\n",
       "      <td>-0.470000</td>\n",
       "      <td>0.493333</td>\n",
       "      <td>3.00</td>\n",
       "    </tr>\n",
       "    <tr>\n",
       "      <th>69</th>\n",
       "      <td>Fairmont Grand Del Mar</td>\n",
       "      <td>Expensive Yes. Service Above the norm! Nickel and dime you on the small stuff Nope! (one of my pet peeves if you are going to stay at a hotel of this caliber) This property gives you 5 star service. Forgot your work out clothes Let the staff know your size. Need some feminine products, be there in 5 minutes. The... More</td>\n",
       "      <td>-0.078125</td>\n",
       "      <td>0.425000</td>\n",
       "      <td>5.00</td>\n",
       "    </tr>\n",
       "    <tr>\n",
       "      <th>77</th>\n",
       "      <td>Best Western at OHare</td>\n",
       "      <td>Average hotel for decent price. It was balanced. Housekeeping did leave our door only ajar after cleaning one day. Arrrggghhhh!!!!! Nothing was missing.</td>\n",
       "      <td>-0.045833</td>\n",
       "      <td>0.529167</td>\n",
       "      <td>3.00</td>\n",
       "    </tr>\n",
       "    <tr>\n",
       "      <th>78</th>\n",
       "      <td>Best Western at OHare</td>\n",
       "      <td>The room key did not work i to go to lobby 4 times no parking under heavy construction noise the staff very incompetent I will not come back to this hotel</td>\n",
       "      <td>-0.163750</td>\n",
       "      <td>0.494167</td>\n",
       "      <td>3.00</td>\n",
       "    </tr>\n",
       "    <tr>\n",
       "      <th>85</th>\n",
       "      <td>Virgin Hotels Chicago</td>\n",
       "      <td>Bad: The room rate was terrible we had a Booking.com rate that was not honoured it soured the stay and was a big difference. We to date have no explanation!. Good: Location</td>\n",
       "      <td>-0.260000</td>\n",
       "      <td>0.493333</td>\n",
       "      <td>3.55</td>\n",
       "    </tr>\n",
       "    <tr>\n",
       "      <th>94</th>\n",
       "      <td>Virgin Hotels Chicago</td>\n",
       "      <td>Bad: Intermittent barking dog!. Good: Spacious suite, recommend end room on high floor</td>\n",
       "      <td>-0.005000</td>\n",
       "      <td>0.602222</td>\n",
       "      <td>4.80</td>\n",
       "    </tr>\n",
       "    <tr>\n",
       "      <th>101</th>\n",
       "      <td>The Boxer</td>\n",
       "      <td>Bad: I was supposed to get a room with two beds and ended up with a room with one full bed for me and my husband.it was very small!.</td>\n",
       "      <td>-0.252083</td>\n",
       "      <td>0.578889</td>\n",
       "      <td>4.15</td>\n",
       "    </tr>\n",
       "  </tbody>\n",
       "</table>\n",
       "</div>"
      ],
      "text/plain": [
       "                                                  name  \\\n",
       "3                                  Aloft Arundel Mills   \n",
       "30   Hampton Inn Suites National HarborAlexandria Area   \n",
       "31   Hampton Inn Suites National HarborAlexandria Area   \n",
       "45   Hampton Inn Suites National HarborAlexandria Area   \n",
       "69                              Fairmont Grand Del Mar   \n",
       "77                               Best Western at OHare   \n",
       "78                               Best Western at OHare   \n",
       "85                               Virgin Hotels Chicago   \n",
       "94                               Virgin Hotels Chicago   \n",
       "101                                          The Boxer   \n",
       "\n",
       "                                                                                                                                                                                                                                                                                                                          reviews.text  \\\n",
       "3                                                                                                                               Currently in bed writing this for the past hr 1/2 there have been dogs barking and squealing call the front desk to advise basically to be told there's nothing they can do. 315.00 and I can't sleep.   \n",
       "30                                                                                                                                                                                                                                                            heat in room did not work properly, tv remote was broken excessive noise   \n",
       "31                                                                                                                                                                                  Even though we were having problems, i.e. Feather allergy, Flat tire, key not working...the front desk personell were always gracious and helpful.   \n",
       "45                                                                                                                                                                                                                                                  I was really disappointed with the TV service. Very few channels and poor quality.   \n",
       "69   Expensive Yes. Service Above the norm! Nickel and dime you on the small stuff Nope! (one of my pet peeves if you are going to stay at a hotel of this caliber) This property gives you 5 star service. Forgot your work out clothes Let the staff know your size. Need some feminine products, be there in 5 minutes. The... More   \n",
       "77                                                                                                                                                                            Average hotel for decent price. It was balanced. Housekeeping did leave our door only ajar after cleaning one day. Arrrggghhhh!!!!! Nothing was missing.   \n",
       "78                                                                                                                                                                          The room key did not work i to go to lobby 4 times no parking under heavy construction noise the staff very incompetent I will not come back to this hotel   \n",
       "85                                                                                                                                                        Bad: The room rate was terrible we had a Booking.com rate that was not honoured it soured the stay and was a big difference. We to date have no explanation!. Good: Location   \n",
       "94                                                                                                                                                                                                                                              Bad: Intermittent barking dog!. Good: Spacious suite, recommend end room on high floor   \n",
       "101                                                                                                                                                                                               Bad: I was supposed to get a room with two beds and ended up with a room with one full bed for me and my husband.it was very small!.   \n",
       "\n",
       "     polarity  subjectivity  reviews.rating  \n",
       "3   -0.125000      0.325000            2.00  \n",
       "30  -0.250000      0.533333            2.00  \n",
       "31  -0.012500      0.562500            5.00  \n",
       "45  -0.470000      0.493333            3.00  \n",
       "69  -0.078125      0.425000            5.00  \n",
       "77  -0.045833      0.529167            3.00  \n",
       "78  -0.163750      0.494167            3.00  \n",
       "85  -0.260000      0.493333            3.55  \n",
       "94  -0.005000      0.602222            4.80  \n",
       "101 -0.252083      0.578889            4.15  "
      ]
     },
     "execution_count": 10,
     "metadata": {},
     "output_type": "execute_result"
    }
   ],
   "source": [
    "pd.set_option('display.max_colwidth', 1000)\n",
    "\n",
    "# Calculate total number of comments\n",
    "total_comments = df.shape[0]\n",
    "\n",
    "# Calculate number of negative comments\n",
    "negative_comments = df[df['polarity'] < 0].shape[0]\n",
    "\n",
    "# Calculate percentage of negative comments\n",
    "percentage_negative = (negative_comments / total_comments) * 100\n",
    "\n",
    "print(f\"Total number of comments : {total_comments}\")\n",
    "print(f\"Number of negative comments : {negative_comments}\")\n",
    "print(f\"Percentage of negative comments : {percentage_negative:.2f}% \\n\\n\")\n",
    "\n",
    "# Display negative comments\n",
    "print(\"Negative comments:\")\n",
    "df[['name','reviews.text','polarity','subjectivity','reviews.rating']][df.polarity<0].head(10)"
   ]
  },
  {
   "cell_type": "markdown",
   "metadata": {},
   "source": [
    "### 3.1.2. Positive comments"
   ]
  },
  {
   "cell_type": "code",
   "execution_count": 15,
   "metadata": {},
   "outputs": [
    {
     "name": "stdout",
     "output_type": "stream",
     "text": [
      "Total number of comments : 10000\n",
      "Number of positive comments : 8917\n",
      "Percentage of positive comments : 89.17% \n",
      "\n",
      "\n",
      "Positive comments:\n"
     ]
    },
    {
     "data": {
      "text/html": [
       "<div>\n",
       "<style scoped>\n",
       "    .dataframe tbody tr th:only-of-type {\n",
       "        vertical-align: middle;\n",
       "    }\n",
       "\n",
       "    .dataframe tbody tr th {\n",
       "        vertical-align: top;\n",
       "    }\n",
       "\n",
       "    .dataframe thead th {\n",
       "        text-align: right;\n",
       "    }\n",
       "</style>\n",
       "<table border=\"1\" class=\"dataframe\">\n",
       "  <thead>\n",
       "    <tr style=\"text-align: right;\">\n",
       "      <th></th>\n",
       "      <th>name</th>\n",
       "      <th>reviews.text</th>\n",
       "      <th>polarity</th>\n",
       "      <th>subjectivity</th>\n",
       "      <th>reviews.rating</th>\n",
       "    </tr>\n",
       "  </thead>\n",
       "  <tbody>\n",
       "    <tr>\n",
       "      <th>0</th>\n",
       "      <td>Rancho Valencia Resort Spa</td>\n",
       "      <td>Our experience at Rancho Valencia was absolutely perfect from beginning to end!!!! We felt special and very happy during our stayed. I would come back in a heart beat!!!</td>\n",
       "      <td>0.589286</td>\n",
       "      <td>0.642857</td>\n",
       "      <td>5.0</td>\n",
       "    </tr>\n",
       "    <tr>\n",
       "      <th>1</th>\n",
       "      <td>Rancho Valencia Resort Spa</td>\n",
       "      <td>Amazing place. Everyone was extremely warm and welcoming. We've stayed at some top notch places and this is definitely in our top 2. Great for a romantic getaway or take the kids along as we did. Had a couple stuffed animals waiting for our girls upon arrival. Can't wait to go back.</td>\n",
       "      <td>0.375000</td>\n",
       "      <td>0.531250</td>\n",
       "      <td>5.0</td>\n",
       "    </tr>\n",
       "    <tr>\n",
       "      <th>2</th>\n",
       "      <td>Rancho Valencia Resort Spa</td>\n",
       "      <td>We booked a 3 night stay at Rancho Valencia to play some tennis, since it is one of the highest rated tennis resorts in America. This place is really over the top from a luxury standpoint and overall experience. The villas are really perfect, the staff is great, attention to details (includes fresh squeezed orange juice each morning), restaurants, bar and room service amazing, and the tennis program was really impressive as well. We will want to come back here again.</td>\n",
       "      <td>0.488889</td>\n",
       "      <td>0.538889</td>\n",
       "      <td>5.0</td>\n",
       "    </tr>\n",
       "    <tr>\n",
       "      <th>4</th>\n",
       "      <td>Aloft Arundel Mills</td>\n",
       "      <td>I live in Md and the Aloft is my Home away from home...we stayed 1 night 7-7-16 ...Staff is great ! Especially Olivia who was Extra special because she remembered me by my voice over the phone ...which tells me she is very alert and pays attention to the customer their needs.AND SHE DID ! Thumbs up... More</td>\n",
       "      <td>0.320501</td>\n",
       "      <td>0.531633</td>\n",
       "      <td>5.0</td>\n",
       "    </tr>\n",
       "    <tr>\n",
       "      <th>5</th>\n",
       "      <td>Aloft Arundel Mills</td>\n",
       "      <td>I stayed here with my family for my daughters wedding. It had a very accommodating staff, Olivia was excellent. The rooms were very well maintained. Would highly recommend this hotel, especially if your wedding venue is Celebrations at the Bay!</td>\n",
       "      <td>0.312000</td>\n",
       "      <td>0.628000</td>\n",
       "      <td>5.0</td>\n",
       "    </tr>\n",
       "    <tr>\n",
       "      <th>6</th>\n",
       "      <td>Aloft Arundel Mills</td>\n",
       "      <td>Beautiful rooms and the nicest people working there. The front desk lady, Olivia, was extremely patient and helpful. We had lots of questions and she had just as many answers. The rooms were sleek and modern. The only thing that would make this hotel better would be free breakfast, but I really am asking for a lot. A++ stay. Thank... More</td>\n",
       "      <td>0.336111</td>\n",
       "      <td>0.644444</td>\n",
       "      <td>5.0</td>\n",
       "    </tr>\n",
       "    <tr>\n",
       "      <th>7</th>\n",
       "      <td>Aloft Arundel Mills</td>\n",
       "      <td>We stayed here while visiting Maryland Live!. Cute hotel in a great location. Clean, with a very modern look, upgraded bathrooms and amenities and super nice staff. Would definitely recommend and stay there again!</td>\n",
       "      <td>0.378807</td>\n",
       "      <td>0.688333</td>\n",
       "      <td>5.0</td>\n",
       "    </tr>\n",
       "    <tr>\n",
       "      <th>8</th>\n",
       "      <td>Aloft Arundel Mills</td>\n",
       "      <td>I travel a lot with my job, so I'm constantly staying at hotels. When my co-workers and I arrived late last night at the Aloft the people at the front desk were more than welcoming. When I wanted to order room service I was told it was too late however, Olivia at the front desk informed me of a Italian... More</td>\n",
       "      <td>0.057143</td>\n",
       "      <td>0.371429</td>\n",
       "      <td>5.0</td>\n",
       "    </tr>\n",
       "    <tr>\n",
       "      <th>9</th>\n",
       "      <td>Hampton Inn Suites PortlandVancouver</td>\n",
       "      <td>In my line of work, I use meeting space in hotels often. In my 15+ years of doing this work, this is the first time I've felt the undeniable pull to go out and write a hotel review, based solely on my meeting room experience. Though I did not use a guest room here, my colleagues who did shared that... More</td>\n",
       "      <td>0.375000</td>\n",
       "      <td>0.416667</td>\n",
       "      <td>5.0</td>\n",
       "    </tr>\n",
       "    <tr>\n",
       "      <th>10</th>\n",
       "      <td>Hampton Inn Suites PortlandVancouver</td>\n",
       "      <td>The staff is very friendly and helpful. The rooms are large and nicely furnished. Feels new, as if we were the first to stay there. Actually it is more opulent than I require. The free breakfast was good with sufficient choices including fresh fruit salad, eggs, bacon, bagels and pastries and more. It was a great location for our purpose:... More</td>\n",
       "      <td>0.449012</td>\n",
       "      <td>0.584704</td>\n",
       "      <td>5.0</td>\n",
       "    </tr>\n",
       "  </tbody>\n",
       "</table>\n",
       "</div>"
      ],
      "text/plain": [
       "                                    name  \\\n",
       "0             Rancho Valencia Resort Spa   \n",
       "1             Rancho Valencia Resort Spa   \n",
       "2             Rancho Valencia Resort Spa   \n",
       "4                    Aloft Arundel Mills   \n",
       "5                    Aloft Arundel Mills   \n",
       "6                    Aloft Arundel Mills   \n",
       "7                    Aloft Arundel Mills   \n",
       "8                    Aloft Arundel Mills   \n",
       "9   Hampton Inn Suites PortlandVancouver   \n",
       "10  Hampton Inn Suites PortlandVancouver   \n",
       "\n",
       "                                                                                                                                                                                                                                                                                                                                                                                                                                                                               reviews.text  \\\n",
       "0                                                                                                                                                                                                                                                                                                                 Our experience at Rancho Valencia was absolutely perfect from beginning to end!!!! We felt special and very happy during our stayed. I would come back in a heart beat!!!   \n",
       "1                                                                                                                                                                                               Amazing place. Everyone was extremely warm and welcoming. We've stayed at some top notch places and this is definitely in our top 2. Great for a romantic getaway or take the kids along as we did. Had a couple stuffed animals waiting for our girls upon arrival. Can't wait to go back.   \n",
       "2   We booked a 3 night stay at Rancho Valencia to play some tennis, since it is one of the highest rated tennis resorts in America. This place is really over the top from a luxury standpoint and overall experience. The villas are really perfect, the staff is great, attention to details (includes fresh squeezed orange juice each morning), restaurants, bar and room service amazing, and the tennis program was really impressive as well. We will want to come back here again.   \n",
       "4                                                                                                                                                                       I live in Md and the Aloft is my Home away from home...we stayed 1 night 7-7-16 ...Staff is great ! Especially Olivia who was Extra special because she remembered me by my voice over the phone ...which tells me she is very alert and pays attention to the customer their needs.AND SHE DID ! Thumbs up... More   \n",
       "5                                                                                                                                                                                                                                      I stayed here with my family for my daughters wedding. It had a very accommodating staff, Olivia was excellent. The rooms were very well maintained. Would highly recommend this hotel, especially if your wedding venue is Celebrations at the Bay!   \n",
       "6                                                                                                                                      Beautiful rooms and the nicest people working there. The front desk lady, Olivia, was extremely patient and helpful. We had lots of questions and she had just as many answers. The rooms were sleek and modern. The only thing that would make this hotel better would be free breakfast, but I really am asking for a lot. A++ stay. Thank... More   \n",
       "7                                                                                                                                                                                                                                                                     We stayed here while visiting Maryland Live!. Cute hotel in a great location. Clean, with a very modern look, upgraded bathrooms and amenities and super nice staff. Would definitely recommend and stay there again!   \n",
       "8                                                                                                                                                                   I travel a lot with my job, so I'm constantly staying at hotels. When my co-workers and I arrived late last night at the Aloft the people at the front desk were more than welcoming. When I wanted to order room service I was told it was too late however, Olivia at the front desk informed me of a Italian... More   \n",
       "9                                                                                                                                                                       In my line of work, I use meeting space in hotels often. In my 15+ years of doing this work, this is the first time I've felt the undeniable pull to go out and write a hotel review, based solely on my meeting room experience. Though I did not use a guest room here, my colleagues who did shared that... More   \n",
       "10                                                                                                                             The staff is very friendly and helpful. The rooms are large and nicely furnished. Feels new, as if we were the first to stay there. Actually it is more opulent than I require. The free breakfast was good with sufficient choices including fresh fruit salad, eggs, bacon, bagels and pastries and more. It was a great location for our purpose:... More   \n",
       "\n",
       "    polarity  subjectivity  reviews.rating  \n",
       "0   0.589286      0.642857             5.0  \n",
       "1   0.375000      0.531250             5.0  \n",
       "2   0.488889      0.538889             5.0  \n",
       "4   0.320501      0.531633             5.0  \n",
       "5   0.312000      0.628000             5.0  \n",
       "6   0.336111      0.644444             5.0  \n",
       "7   0.378807      0.688333             5.0  \n",
       "8   0.057143      0.371429             5.0  \n",
       "9   0.375000      0.416667             5.0  \n",
       "10  0.449012      0.584704             5.0  "
      ]
     },
     "execution_count": 15,
     "metadata": {},
     "output_type": "execute_result"
    }
   ],
   "source": [
    "pd.set_option('display.max_colwidth', 1000)\n",
    "\n",
    "# Calculate number of positive comments\n",
    "positives_comments = df[df['polarity'] > 0].shape[0]\n",
    "\n",
    "# Calculation of percentage of positive comments\n",
    "percentage_positives = (positives_comments / total_comments) * 100\n",
    "\n",
    "print(f\"Total number of comments : {total_comments}\")\n",
    "print(f\"Number of positive comments : {positives_comments}\")\n",
    "print(f\"Percentage of positive comments : {percentage_positives:.2f}% \\n\\n\")\n",
    "\n",
    "# Display positive comments\n",
    "print(\"Positive comments:\")\n",
    "df[['name','reviews.text','polarity','subjectivity','reviews.rating']][df.polarity>0].head(10)"
   ]
  },
  {
   "cell_type": "markdown",
   "metadata": {},
   "source": [
    "### 3.1.3. Neutral comments"
   ]
  },
  {
   "cell_type": "code",
   "execution_count": 16,
   "metadata": {},
   "outputs": [
    {
     "name": "stdout",
     "output_type": "stream",
     "text": [
      "Total number of comments : 10000\n",
      "Number of Neutral comments :  123\n",
      "Percentage of Neutral comments: 1.23% \n",
      "\n",
      "\n",
      "Neutral comments:\n"
     ]
    },
    {
     "data": {
      "text/html": [
       "<div>\n",
       "<style scoped>\n",
       "    .dataframe tbody tr th:only-of-type {\n",
       "        vertical-align: middle;\n",
       "    }\n",
       "\n",
       "    .dataframe tbody tr th {\n",
       "        vertical-align: top;\n",
       "    }\n",
       "\n",
       "    .dataframe thead th {\n",
       "        text-align: right;\n",
       "    }\n",
       "</style>\n",
       "<table border=\"1\" class=\"dataframe\">\n",
       "  <thead>\n",
       "    <tr style=\"text-align: right;\">\n",
       "      <th></th>\n",
       "      <th>name</th>\n",
       "      <th>reviews.text</th>\n",
       "      <th>polarity</th>\n",
       "      <th>subjectivity</th>\n",
       "      <th>reviews.rating</th>\n",
       "    </tr>\n",
       "  </thead>\n",
       "  <tbody>\n",
       "    <tr>\n",
       "      <th>112</th>\n",
       "      <td>The Boxer</td>\n",
       "      <td>The location</td>\n",
       "      <td>0.0</td>\n",
       "      <td>0.0</td>\n",
       "      <td>5.00</td>\n",
       "    </tr>\n",
       "    <tr>\n",
       "      <th>653</th>\n",
       "      <td>W Boston</td>\n",
       "      <td>Dated... The room</td>\n",
       "      <td>0.0</td>\n",
       "      <td>0.0</td>\n",
       "      <td>3.55</td>\n",
       "    </tr>\n",
       "    <tr>\n",
       "      <th>691</th>\n",
       "      <td>W Boston</td>\n",
       "      <td>Big room</td>\n",
       "      <td>0.0</td>\n",
       "      <td>0.1</td>\n",
       "      <td>5.00</td>\n",
       "    </tr>\n",
       "    <tr>\n",
       "      <th>1300</th>\n",
       "      <td>Holiday Inn North Phoenix</td>\n",
       "      <td>This hotel has bedbugs!! The staff acted like it wasn't a big idea!! Don't stay here!!</td>\n",
       "      <td>0.0</td>\n",
       "      <td>0.1</td>\n",
       "      <td>1.00</td>\n",
       "    </tr>\n",
       "    <tr>\n",
       "      <th>1305</th>\n",
       "      <td>Holiday Inn North Phoenix</td>\n",
       "      <td>I like it</td>\n",
       "      <td>0.0</td>\n",
       "      <td>0.0</td>\n",
       "      <td>4.00</td>\n",
       "    </tr>\n",
       "    <tr>\n",
       "      <th>1569</th>\n",
       "      <td>Best Western Courtesy Inn</td>\n",
       "      <td>Stayed there to be close to downtown disney</td>\n",
       "      <td>0.0</td>\n",
       "      <td>0.0</td>\n",
       "      <td>4.00</td>\n",
       "    </tr>\n",
       "    <tr>\n",
       "      <th>1588</th>\n",
       "      <td>Pacific Inn</td>\n",
       "      <td>We had difficulty finding this motel. It is closer to Knott's Berry Farm over Disneyland. The check in lobby smelled of urine. The hotel does not have a lift of any sort for the second floor, therefore consider this if climbing stairs is an issue....More</td>\n",
       "      <td>0.0</td>\n",
       "      <td>0.0</td>\n",
       "      <td>2.00</td>\n",
       "    </tr>\n",
       "    <tr>\n",
       "      <th>1996</th>\n",
       "      <td>Clarion Inn &amp; Suites</td>\n",
       "      <td>Met our expectations.</td>\n",
       "      <td>0.0</td>\n",
       "      <td>0.0</td>\n",
       "      <td>3.00</td>\n",
       "    </tr>\n",
       "    <tr>\n",
       "      <th>2551</th>\n",
       "      <td>Hampton Inn-athens</td>\n",
       "      <td>although the initial nonsmoking room selected on line was found to have the lingering smell of smokers, the front desk staff did not hesitate to relocate us to a similar room that met our expectations. no hassles.</td>\n",
       "      <td>0.0</td>\n",
       "      <td>0.2</td>\n",
       "      <td>4.00</td>\n",
       "    </tr>\n",
       "    <tr>\n",
       "      <th>2689</th>\n",
       "      <td>Baymont Inn &amp; Suites Bowling Green</td>\n",
       "      <td>Room smelled musty, carpets and bedding had a sticky feel. Pool out of order. Keep driving and don't stop here.</td>\n",
       "      <td>0.0</td>\n",
       "      <td>0.0</td>\n",
       "      <td>1.00</td>\n",
       "    </tr>\n",
       "  </tbody>\n",
       "</table>\n",
       "</div>"
      ],
      "text/plain": [
       "                                    name  \\\n",
       "112                            The Boxer   \n",
       "653                             W Boston   \n",
       "691                             W Boston   \n",
       "1300           Holiday Inn North Phoenix   \n",
       "1305           Holiday Inn North Phoenix   \n",
       "1569           Best Western Courtesy Inn   \n",
       "1588                         Pacific Inn   \n",
       "1996                Clarion Inn & Suites   \n",
       "2551                  Hampton Inn-athens   \n",
       "2689  Baymont Inn & Suites Bowling Green   \n",
       "\n",
       "                                                                                                                                                                                                                                                        reviews.text  \\\n",
       "112                                                                                                                                                                                                                                                     The location   \n",
       "653                                                                                                                                                                                                                                                Dated... The room   \n",
       "691                                                                                                                                                                                                                                                         Big room   \n",
       "1300                                                                                                                                                                          This hotel has bedbugs!! The staff acted like it wasn't a big idea!! Don't stay here!!   \n",
       "1305                                                                                                                                                                                                                                                       I like it   \n",
       "1569                                                                                                                                                                                                                     Stayed there to be close to downtown disney   \n",
       "1588  We had difficulty finding this motel. It is closer to Knott's Berry Farm over Disneyland. The check in lobby smelled of urine. The hotel does not have a lift of any sort for the second floor, therefore consider this if climbing stairs is an issue....More   \n",
       "1996                                                                                                                                                                                                                                           Met our expectations.   \n",
       "2551                                           although the initial nonsmoking room selected on line was found to have the lingering smell of smokers, the front desk staff did not hesitate to relocate us to a similar room that met our expectations. no hassles.   \n",
       "2689                                                                                                                                                 Room smelled musty, carpets and bedding had a sticky feel. Pool out of order. Keep driving and don't stop here.   \n",
       "\n",
       "      polarity  subjectivity  reviews.rating  \n",
       "112        0.0           0.0            5.00  \n",
       "653        0.0           0.0            3.55  \n",
       "691        0.0           0.1            5.00  \n",
       "1300       0.0           0.1            1.00  \n",
       "1305       0.0           0.0            4.00  \n",
       "1569       0.0           0.0            4.00  \n",
       "1588       0.0           0.0            2.00  \n",
       "1996       0.0           0.0            3.00  \n",
       "2551       0.0           0.2            4.00  \n",
       "2689       0.0           0.0            1.00  "
      ]
     },
     "execution_count": 16,
     "metadata": {},
     "output_type": "execute_result"
    }
   ],
   "source": [
    "pd.set_option('display.max_colwidth', 1000)\n",
    "\n",
    "# Calculate percentage of Neutral comments\n",
    "neutre_comments = df[df['polarity'] == 0].shape[0]\n",
    "\n",
    "# Calculate percentage of Neutral comments\n",
    "percentage_neutre = (neutre_comments / total_comments) * 100\n",
    "\n",
    "print(f\"Total number of comments : {total_comments}\")\n",
    "print(f\"Number of Neutral comments :  {neutre_comments}\")\n",
    "print(f\"Percentage of Neutral comments: {percentage_neutre:.2f}% \\n\\n\")\n",
    "\n",
    "print(\"Neutral comments:\")\n",
    "df[['name','reviews.text','polarity','subjectivity','reviews.rating']][df.polarity==0].head(10)"
   ]
  },
  {
   "cell_type": "markdown",
   "metadata": {},
   "source": [
    "### 3.1.4. Strongly positive reviews"
   ]
  },
  {
   "cell_type": "code",
   "execution_count": 56,
   "metadata": {},
   "outputs": [
    {
     "name": "stdout",
     "output_type": "stream",
     "text": [
      "polarity more than 0.8 :\n"
     ]
    },
    {
     "data": {
      "text/html": [
       "<div>\n",
       "<style scoped>\n",
       "    .dataframe tbody tr th:only-of-type {\n",
       "        vertical-align: middle;\n",
       "    }\n",
       "\n",
       "    .dataframe tbody tr th {\n",
       "        vertical-align: top;\n",
       "    }\n",
       "\n",
       "    .dataframe thead th {\n",
       "        text-align: right;\n",
       "    }\n",
       "</style>\n",
       "<table border=\"1\" class=\"dataframe\">\n",
       "  <thead>\n",
       "    <tr style=\"text-align: right;\">\n",
       "      <th></th>\n",
       "      <th>name</th>\n",
       "      <th>reviews.text</th>\n",
       "      <th>polarity</th>\n",
       "      <th>subjectivity</th>\n",
       "      <th>reviews.rating</th>\n",
       "    </tr>\n",
       "  </thead>\n",
       "  <tbody>\n",
       "    <tr>\n",
       "      <th>20</th>\n",
       "      <td>The Inn at Solvang</td>\n",
       "      <td>Everything was sold out in State College for Garth's concerts and the Inn came up as available...what an amazing find!! I'll be making the drive now each visit, just to stay there! The Inn is wonderfully decorated and I so enjoyed browsing all the books. Breakfast was amazing each morning. Thank you Stephanie and team!!</td>\n",
       "      <td>0.859375</td>\n",
       "      <td>0.875000</td>\n",
       "      <td>5.0</td>\n",
       "    </tr>\n",
       "    <tr>\n",
       "      <th>51</th>\n",
       "      <td>Hampton Inn Suites National HarborAlexandria Area</td>\n",
       "      <td>I can't comment on the breakfast because we slept through it but everything else was excellent! I dont know why anyone would pay twice the price to stay at the Gaylord. 5 stars all the way!</td>\n",
       "      <td>1.000000</td>\n",
       "      <td>1.000000</td>\n",
       "      <td>5.0</td>\n",
       "    </tr>\n",
       "    <tr>\n",
       "      <th>136</th>\n",
       "      <td>The Boxer</td>\n",
       "      <td>Good: The location was perfect for walking to everything</td>\n",
       "      <td>0.850000</td>\n",
       "      <td>0.800000</td>\n",
       "      <td>4.4</td>\n",
       "    </tr>\n",
       "    <tr>\n",
       "      <th>342</th>\n",
       "      <td>The Charlesmark Hotel</td>\n",
       "      <td>Good: An excellent concierge.He thought through problems and gave you an informed choice of solutions.</td>\n",
       "      <td>0.850000</td>\n",
       "      <td>0.800000</td>\n",
       "      <td>4.6</td>\n",
       "    </tr>\n",
       "    <tr>\n",
       "      <th>344</th>\n",
       "      <td>The Charlesmark Hotel</td>\n",
       "      <td>Everything was perfect</td>\n",
       "      <td>1.000000</td>\n",
       "      <td>1.000000</td>\n",
       "      <td>5.0</td>\n",
       "    </tr>\n",
       "    <tr>\n",
       "      <th>352</th>\n",
       "      <td>The Charlesmark Hotel</td>\n",
       "      <td>Good: Staff was wonderful! The location perfect. Nice breakfast</td>\n",
       "      <td>0.825000</td>\n",
       "      <td>0.900000</td>\n",
       "      <td>4.8</td>\n",
       "    </tr>\n",
       "    <tr>\n",
       "      <th>356</th>\n",
       "      <td>The Charlesmark Hotel</td>\n",
       "      <td>Good: Excellent location</td>\n",
       "      <td>0.850000</td>\n",
       "      <td>0.800000</td>\n",
       "      <td>4.6</td>\n",
       "    </tr>\n",
       "    <tr>\n",
       "      <th>406</th>\n",
       "      <td>Room Mate Lord Balfour</td>\n",
       "      <td>Good: Courtesy, friendliness of employees. Perfect location.</td>\n",
       "      <td>0.850000</td>\n",
       "      <td>0.800000</td>\n",
       "      <td>5.0</td>\n",
       "    </tr>\n",
       "    <tr>\n",
       "      <th>407</th>\n",
       "      <td>Room Mate Lord Balfour</td>\n",
       "      <td>Good: Best Location SouthBeach, nice staff!</td>\n",
       "      <td>0.816667</td>\n",
       "      <td>0.633333</td>\n",
       "      <td>4.8</td>\n",
       "    </tr>\n",
       "    <tr>\n",
       "      <th>421</th>\n",
       "      <td>Room Mate Lord Balfour</td>\n",
       "      <td>Good: Location is just excellent! And the fact that they provide you included sunbed at the beach!</td>\n",
       "      <td>0.850000</td>\n",
       "      <td>0.800000</td>\n",
       "      <td>5.0</td>\n",
       "    </tr>\n",
       "  </tbody>\n",
       "</table>\n",
       "</div>"
      ],
      "text/plain": [
       "                                                  name  \\\n",
       "20                                  The Inn at Solvang   \n",
       "51   Hampton Inn Suites National HarborAlexandria Area   \n",
       "136                                          The Boxer   \n",
       "342                              The Charlesmark Hotel   \n",
       "344                              The Charlesmark Hotel   \n",
       "352                              The Charlesmark Hotel   \n",
       "356                              The Charlesmark Hotel   \n",
       "406                             Room Mate Lord Balfour   \n",
       "407                             Room Mate Lord Balfour   \n",
       "421                             Room Mate Lord Balfour   \n",
       "\n",
       "                                                                                                                                                                                                                                                                                                                          reviews.text  \\\n",
       "20   Everything was sold out in State College for Garth's concerts and the Inn came up as available...what an amazing find!! I'll be making the drive now each visit, just to stay there! The Inn is wonderfully decorated and I so enjoyed browsing all the books. Breakfast was amazing each morning. Thank you Stephanie and team!!   \n",
       "51                                                                                                                                       I can't comment on the breakfast because we slept through it but everything else was excellent! I dont know why anyone would pay twice the price to stay at the Gaylord. 5 stars all the way!   \n",
       "136                                                                                                                                                                                                                                                                           Good: The location was perfect for walking to everything   \n",
       "342                                                                                                                                                                                                                             Good: An excellent concierge.He thought through problems and gave you an informed choice of solutions.   \n",
       "344                                                                                                                                                                                                                                                                                                             Everything was perfect   \n",
       "352                                                                                                                                                                                                                                                                    Good: Staff was wonderful! The location perfect. Nice breakfast   \n",
       "356                                                                                                                                                                                                                                                                                                           Good: Excellent location   \n",
       "406                                                                                                                                                                                                                                                                       Good: Courtesy, friendliness of employees. Perfect location.   \n",
       "407                                                                                                                                                                                                                                                                                        Good: Best Location SouthBeach, nice staff!   \n",
       "421                                                                                                                                                                                                                                 Good: Location is just excellent! And the fact that they provide you included sunbed at the beach!   \n",
       "\n",
       "     polarity  subjectivity  reviews.rating  \n",
       "20   0.859375      0.875000             5.0  \n",
       "51   1.000000      1.000000             5.0  \n",
       "136  0.850000      0.800000             4.4  \n",
       "342  0.850000      0.800000             4.6  \n",
       "344  1.000000      1.000000             5.0  \n",
       "352  0.825000      0.900000             4.8  \n",
       "356  0.850000      0.800000             4.6  \n",
       "406  0.850000      0.800000             5.0  \n",
       "407  0.816667      0.633333             4.8  \n",
       "421  0.850000      0.800000             5.0  "
      ]
     },
     "execution_count": 56,
     "metadata": {},
     "output_type": "execute_result"
    }
   ],
   "source": [
    "pd.set_option('display.max_colwidth', 1000)\n",
    "\n",
    "print(\"polarity more than 0.8 :\")\n",
    "df[['name','reviews.text','polarity','subjectivity','reviews.rating']][df.polarity>0.8].head(10)"
   ]
  },
  {
   "cell_type": "markdown",
   "metadata": {},
   "source": [
    "### 3.1.5. Strongly Negative Reviews"
   ]
  },
  {
   "cell_type": "code",
   "execution_count": 57,
   "metadata": {},
   "outputs": [
    {
     "name": "stdout",
     "output_type": "stream",
     "text": [
      "Polarity less than -0.5 :\n"
     ]
    },
    {
     "data": {
      "text/html": [
       "<div>\n",
       "<style scoped>\n",
       "    .dataframe tbody tr th:only-of-type {\n",
       "        vertical-align: middle;\n",
       "    }\n",
       "\n",
       "    .dataframe tbody tr th {\n",
       "        vertical-align: top;\n",
       "    }\n",
       "\n",
       "    .dataframe thead th {\n",
       "        text-align: right;\n",
       "    }\n",
       "</style>\n",
       "<table border=\"1\" class=\"dataframe\">\n",
       "  <thead>\n",
       "    <tr style=\"text-align: right;\">\n",
       "      <th></th>\n",
       "      <th>name</th>\n",
       "      <th>reviews.text</th>\n",
       "      <th>polarity</th>\n",
       "      <th>subjectivity</th>\n",
       "      <th>reviews.rating</th>\n",
       "    </tr>\n",
       "  </thead>\n",
       "  <tbody>\n",
       "    <tr>\n",
       "      <th>148</th>\n",
       "      <td>The Boxer</td>\n",
       "      <td>Bad: Buffet food.</td>\n",
       "      <td>-0.700000</td>\n",
       "      <td>0.666667</td>\n",
       "      <td>4.15</td>\n",
       "    </tr>\n",
       "    <tr>\n",
       "      <th>192</th>\n",
       "      <td>Fremont Hotel &amp; Casino</td>\n",
       "      <td>Bad: Rooms small, air conditioning don't work!!.</td>\n",
       "      <td>-0.545312</td>\n",
       "      <td>0.533333</td>\n",
       "      <td>2.10</td>\n",
       "    </tr>\n",
       "    <tr>\n",
       "      <th>197</th>\n",
       "      <td>Fremont Hotel &amp; Casino</td>\n",
       "      <td>Bad: none.</td>\n",
       "      <td>-0.700000</td>\n",
       "      <td>0.666667</td>\n",
       "      <td>1.65</td>\n",
       "    </tr>\n",
       "    <tr>\n",
       "      <th>233</th>\n",
       "      <td>Fremont Hotel &amp; Casino</td>\n",
       "      <td>Bad: Hassle checking in confirmation email lost by bookings or Fremont hotel had my email almost didn't use mine scary .</td>\n",
       "      <td>-0.600000</td>\n",
       "      <td>0.833333</td>\n",
       "      <td>3.75</td>\n",
       "    </tr>\n",
       "    <tr>\n",
       "      <th>326</th>\n",
       "      <td>The Charlesmark Hotel</td>\n",
       "      <td>Bad: Breakfast.</td>\n",
       "      <td>-0.700000</td>\n",
       "      <td>0.666667</td>\n",
       "      <td>3.95</td>\n",
       "    </tr>\n",
       "    <tr>\n",
       "      <th>419</th>\n",
       "      <td>Room Mate Lord Balfour</td>\n",
       "      <td>Bad: The valet parking was the worst at one time waited 45 min then 30 min for my vehicle to arrive. Twice the excuse given was the ticket inside vehicle was wrong.</td>\n",
       "      <td>-0.562500</td>\n",
       "      <td>0.654167</td>\n",
       "      <td>4.40</td>\n",
       "    </tr>\n",
       "    <tr>\n",
       "      <th>449</th>\n",
       "      <td>Room Mate Lord Balfour</td>\n",
       "      <td>Bad: Invoicing of non used items after leaving the hotel.</td>\n",
       "      <td>-0.700000</td>\n",
       "      <td>0.666667</td>\n",
       "      <td>3.15</td>\n",
       "    </tr>\n",
       "    <tr>\n",
       "      <th>463</th>\n",
       "      <td>The Westin Las Vegas Hotel &amp; Spa</td>\n",
       "      <td>Bad: Was told I would get a robe and didn't.</td>\n",
       "      <td>-0.700000</td>\n",
       "      <td>0.666667</td>\n",
       "      <td>3.75</td>\n",
       "    </tr>\n",
       "    <tr>\n",
       "      <th>503</th>\n",
       "      <td>The Westin Las Vegas Hotel &amp; Spa</td>\n",
       "      <td>Bad: No casino.</td>\n",
       "      <td>-0.700000</td>\n",
       "      <td>0.666667</td>\n",
       "      <td>4.80</td>\n",
       "    </tr>\n",
       "    <tr>\n",
       "      <th>527</th>\n",
       "      <td>The Westin Las Vegas Hotel &amp; Spa</td>\n",
       "      <td>Bad: Walls are very thin, be prepared to hear your neighbors.</td>\n",
       "      <td>-0.610000</td>\n",
       "      <td>0.833333</td>\n",
       "      <td>3.75</td>\n",
       "    </tr>\n",
       "  </tbody>\n",
       "</table>\n",
       "</div>"
      ],
      "text/plain": [
       "                                 name  \\\n",
       "148                         The Boxer   \n",
       "192            Fremont Hotel & Casino   \n",
       "197            Fremont Hotel & Casino   \n",
       "233            Fremont Hotel & Casino   \n",
       "326             The Charlesmark Hotel   \n",
       "419            Room Mate Lord Balfour   \n",
       "449            Room Mate Lord Balfour   \n",
       "463  The Westin Las Vegas Hotel & Spa   \n",
       "503  The Westin Las Vegas Hotel & Spa   \n",
       "527  The Westin Las Vegas Hotel & Spa   \n",
       "\n",
       "                                                                                                                                                             reviews.text  \\\n",
       "148                                                                                                                                                     Bad: Buffet food.   \n",
       "192                                                                                                                      Bad: Rooms small, air conditioning don't work!!.   \n",
       "197                                                                                                                                                            Bad: none.   \n",
       "233                                              Bad: Hassle checking in confirmation email lost by bookings or Fremont hotel had my email almost didn't use mine scary .   \n",
       "326                                                                                                                                                       Bad: Breakfast.   \n",
       "419  Bad: The valet parking was the worst at one time waited 45 min then 30 min for my vehicle to arrive. Twice the excuse given was the ticket inside vehicle was wrong.   \n",
       "449                                                                                                             Bad: Invoicing of non used items after leaving the hotel.   \n",
       "463                                                                                                                          Bad: Was told I would get a robe and didn't.   \n",
       "503                                                                                                                                                       Bad: No casino.   \n",
       "527                                                                                                         Bad: Walls are very thin, be prepared to hear your neighbors.   \n",
       "\n",
       "     polarity  subjectivity  reviews.rating  \n",
       "148 -0.700000      0.666667            4.15  \n",
       "192 -0.545312      0.533333            2.10  \n",
       "197 -0.700000      0.666667            1.65  \n",
       "233 -0.600000      0.833333            3.75  \n",
       "326 -0.700000      0.666667            3.95  \n",
       "419 -0.562500      0.654167            4.40  \n",
       "449 -0.700000      0.666667            3.15  \n",
       "463 -0.700000      0.666667            3.75  \n",
       "503 -0.700000      0.666667            4.80  \n",
       "527 -0.610000      0.833333            3.75  "
      ]
     },
     "execution_count": 57,
     "metadata": {},
     "output_type": "execute_result"
    }
   ],
   "source": [
    "pd.set_option('display.max_colwidth', 1000)\n",
    "\n",
    "print(\"Polarity less than -0.5 :\")\n",
    "df[['name','reviews.text','polarity','subjectivity','reviews.rating']][df.polarity<-0.5].head(10)\n"
   ]
  },
  {
   "cell_type": "markdown",
   "metadata": {},
   "source": [
    "### 3.1.6. Highly subjective reviews"
   ]
  },
  {
   "cell_type": "code",
   "execution_count": 18,
   "metadata": {},
   "outputs": [
    {
     "name": "stdout",
     "output_type": "stream",
     "text": [
      "Subjectivity more than 0.8 :\n"
     ]
    },
    {
     "data": {
      "text/html": [
       "<div>\n",
       "<style scoped>\n",
       "    .dataframe tbody tr th:only-of-type {\n",
       "        vertical-align: middle;\n",
       "    }\n",
       "\n",
       "    .dataframe tbody tr th {\n",
       "        vertical-align: top;\n",
       "    }\n",
       "\n",
       "    .dataframe thead th {\n",
       "        text-align: right;\n",
       "    }\n",
       "</style>\n",
       "<table border=\"1\" class=\"dataframe\">\n",
       "  <thead>\n",
       "    <tr style=\"text-align: right;\">\n",
       "      <th></th>\n",
       "      <th>name</th>\n",
       "      <th>reviews.text</th>\n",
       "      <th>polarity</th>\n",
       "      <th>subjectivity</th>\n",
       "      <th>reviews.rating</th>\n",
       "    </tr>\n",
       "  </thead>\n",
       "  <tbody>\n",
       "    <tr>\n",
       "      <th>20</th>\n",
       "      <td>The Inn at Solvang</td>\n",
       "      <td>Everything was sold out in State College for Garth's concerts and the Inn came up as available...what an amazing find!! I'll be making the drive now each visit, just to stay there! The Inn is wonderfully decorated and I so enjoyed browsing all the books. Breakfast was amazing each morning. Thank you Stephanie and team!!</td>\n",
       "      <td>0.859375</td>\n",
       "      <td>0.875000</td>\n",
       "      <td>5.00</td>\n",
       "    </tr>\n",
       "    <tr>\n",
       "      <th>35</th>\n",
       "      <td>Hampton Inn Suites National HarborAlexandria Area</td>\n",
       "      <td>Free breakfast! Attentive staff Fantastic location</td>\n",
       "      <td>0.433333</td>\n",
       "      <td>0.866667</td>\n",
       "      <td>5.00</td>\n",
       "    </tr>\n",
       "    <tr>\n",
       "      <th>42</th>\n",
       "      <td>Hampton Inn Suites National HarborAlexandria Area</td>\n",
       "      <td>I loved my stay VIP service all the way. I didn't want to leave. I can honestly say I will visit again. I give it 5 stars</td>\n",
       "      <td>0.650000</td>\n",
       "      <td>0.850000</td>\n",
       "      <td>5.00</td>\n",
       "    </tr>\n",
       "    <tr>\n",
       "      <th>51</th>\n",
       "      <td>Hampton Inn Suites National HarborAlexandria Area</td>\n",
       "      <td>I can't comment on the breakfast because we slept through it but everything else was excellent! I dont know why anyone would pay twice the price to stay at the Gaylord. 5 stars all the way!</td>\n",
       "      <td>1.000000</td>\n",
       "      <td>1.000000</td>\n",
       "      <td>5.00</td>\n",
       "    </tr>\n",
       "    <tr>\n",
       "      <th>55</th>\n",
       "      <td>Hampton Inn Suites National HarborAlexandria Area</td>\n",
       "      <td>I stayed here with some friends for a convention. It was a good room and the free breakfast was nice.</td>\n",
       "      <td>0.566667</td>\n",
       "      <td>0.800000</td>\n",
       "      <td>4.00</td>\n",
       "    </tr>\n",
       "    <tr>\n",
       "      <th>59</th>\n",
       "      <td>Fairmont Grand Del Mar</td>\n",
       "      <td>We hosted our annual Client Event at The Grand Del Mar and it was excellent!! The service, property, rooms, restaurants, and GOLF absolutely magnificent. Our conference managers were a gem, great service! Thank you for making an important event run so smoothly.</td>\n",
       "      <td>0.716667</td>\n",
       "      <td>0.875000</td>\n",
       "      <td>5.00</td>\n",
       "    </tr>\n",
       "    <tr>\n",
       "      <th>67</th>\n",
       "      <td>Fairmont Grand Del Mar</td>\n",
       "      <td>The resort and staff are wonderful. The hotel is very nice and the groups are beautiful. The location is secluded so you need a rental car or to book the house car in advance. The concierge staff has not been to most of the spots so use trip advisor to help find the right places.</td>\n",
       "      <td>0.683143</td>\n",
       "      <td>0.807143</td>\n",
       "      <td>5.00</td>\n",
       "    </tr>\n",
       "    <tr>\n",
       "      <th>105</th>\n",
       "      <td>The Boxer</td>\n",
       "      <td>Good: Beautiful rooms and amenities - L'occitane products. The restaurant Finch great food and amazing bar. Loved the Boxer</td>\n",
       "      <td>0.730000</td>\n",
       "      <td>0.810000</td>\n",
       "      <td>5.00</td>\n",
       "    </tr>\n",
       "    <tr>\n",
       "      <th>129</th>\n",
       "      <td>The Boxer</td>\n",
       "      <td>the bed was very comfortable</td>\n",
       "      <td>0.520000</td>\n",
       "      <td>1.000000</td>\n",
       "      <td>5.00</td>\n",
       "    </tr>\n",
       "    <tr>\n",
       "      <th>143</th>\n",
       "      <td>The Boxer</td>\n",
       "      <td>The bed was uncomfortable It was close walking distance to everything</td>\n",
       "      <td>-0.500000</td>\n",
       "      <td>1.000000</td>\n",
       "      <td>4.15</td>\n",
       "    </tr>\n",
       "  </tbody>\n",
       "</table>\n",
       "</div>"
      ],
      "text/plain": [
       "                                                  name  \\\n",
       "20                                  The Inn at Solvang   \n",
       "35   Hampton Inn Suites National HarborAlexandria Area   \n",
       "42   Hampton Inn Suites National HarborAlexandria Area   \n",
       "51   Hampton Inn Suites National HarborAlexandria Area   \n",
       "55   Hampton Inn Suites National HarborAlexandria Area   \n",
       "59                              Fairmont Grand Del Mar   \n",
       "67                              Fairmont Grand Del Mar   \n",
       "105                                          The Boxer   \n",
       "129                                          The Boxer   \n",
       "143                                          The Boxer   \n",
       "\n",
       "                                                                                                                                                                                                                                                                                                                          reviews.text  \\\n",
       "20   Everything was sold out in State College for Garth's concerts and the Inn came up as available...what an amazing find!! I'll be making the drive now each visit, just to stay there! The Inn is wonderfully decorated and I so enjoyed browsing all the books. Breakfast was amazing each morning. Thank you Stephanie and team!!   \n",
       "35                                                                                                                                                                                                                                                                                  Free breakfast! Attentive staff Fantastic location   \n",
       "42                                                                                                                                                                                                           I loved my stay VIP service all the way. I didn't want to leave. I can honestly say I will visit again. I give it 5 stars   \n",
       "51                                                                                                                                       I can't comment on the breakfast because we slept through it but everything else was excellent! I dont know why anyone would pay twice the price to stay at the Gaylord. 5 stars all the way!   \n",
       "55                                                                                                                                                                                                                               I stayed here with some friends for a convention. It was a good room and the free breakfast was nice.   \n",
       "59                                                               We hosted our annual Client Event at The Grand Del Mar and it was excellent!! The service, property, rooms, restaurants, and GOLF absolutely magnificent. Our conference managers were a gem, great service! Thank you for making an important event run so smoothly.   \n",
       "67                                            The resort and staff are wonderful. The hotel is very nice and the groups are beautiful. The location is secluded so you need a rental car or to book the house car in advance. The concierge staff has not been to most of the spots so use trip advisor to help find the right places.   \n",
       "105                                                                                                                                                                                                        Good: Beautiful rooms and amenities - L'occitane products. The restaurant Finch great food and amazing bar. Loved the Boxer   \n",
       "129                                                                                                                                                                                                                                                                                                       the bed was very comfortable   \n",
       "143                                                                                                                                                                                                                                                              The bed was uncomfortable It was close walking distance to everything   \n",
       "\n",
       "     polarity  subjectivity  reviews.rating  \n",
       "20   0.859375      0.875000            5.00  \n",
       "35   0.433333      0.866667            5.00  \n",
       "42   0.650000      0.850000            5.00  \n",
       "51   1.000000      1.000000            5.00  \n",
       "55   0.566667      0.800000            4.00  \n",
       "59   0.716667      0.875000            5.00  \n",
       "67   0.683143      0.807143            5.00  \n",
       "105  0.730000      0.810000            5.00  \n",
       "129  0.520000      1.000000            5.00  \n",
       "143 -0.500000      1.000000            4.15  "
      ]
     },
     "execution_count": 18,
     "metadata": {},
     "output_type": "execute_result"
    }
   ],
   "source": [
    "pd.set_option('display.max_colwidth', 1000)\n",
    "\n",
    "print(\"Subjectivity more than 0.8 :\")\n",
    "df[['name','reviews.text','polarity','subjectivity','reviews.rating']][df.subjectivity>0.8].head(10)"
   ]
  },
  {
   "cell_type": "markdown",
   "metadata": {},
   "source": [
    "### 3.1.7.  Weakly subjective reviews"
   ]
  },
  {
   "cell_type": "code",
   "execution_count": 59,
   "metadata": {},
   "outputs": [
    {
     "name": "stdout",
     "output_type": "stream",
     "text": [
      "Subjectivity less than 0.3 :\n"
     ]
    },
    {
     "data": {
      "text/html": [
       "<div>\n",
       "<style scoped>\n",
       "    .dataframe tbody tr th:only-of-type {\n",
       "        vertical-align: middle;\n",
       "    }\n",
       "\n",
       "    .dataframe tbody tr th {\n",
       "        vertical-align: top;\n",
       "    }\n",
       "\n",
       "    .dataframe thead th {\n",
       "        text-align: right;\n",
       "    }\n",
       "</style>\n",
       "<table border=\"1\" class=\"dataframe\">\n",
       "  <thead>\n",
       "    <tr style=\"text-align: right;\">\n",
       "      <th></th>\n",
       "      <th>name</th>\n",
       "      <th>reviews.text</th>\n",
       "      <th>polarity</th>\n",
       "      <th>subjectivity</th>\n",
       "      <th>reviews.rating</th>\n",
       "    </tr>\n",
       "  </thead>\n",
       "  <tbody>\n",
       "    <tr>\n",
       "      <th>112</th>\n",
       "      <td>The Boxer</td>\n",
       "      <td>The location</td>\n",
       "      <td>0.000000</td>\n",
       "      <td>0.000000</td>\n",
       "      <td>5.00</td>\n",
       "    </tr>\n",
       "    <tr>\n",
       "      <th>158</th>\n",
       "      <td>Fremont Hotel &amp; Casino</td>\n",
       "      <td>Bad: The room I booked was a non-smoking but when we got to the hotel, the gentleman at the counter said they didn't have any and have not had any available for several days. The guy then said that in order for me to get my money back, I'd have to go through the third party that I booked the room through. Good: Nothing</td>\n",
       "      <td>0.066667</td>\n",
       "      <td>0.277778</td>\n",
       "      <td>1.65</td>\n",
       "    </tr>\n",
       "    <tr>\n",
       "      <th>176</th>\n",
       "      <td>Fremont Hotel &amp; Casino</td>\n",
       "      <td>Bad: The cleanliness wasn't the best. One of our towels and bed sheets had red stains on them which the staff informed us was rust, and not blood....upon arrival the toilet wouldn't flush as well. We got stuck in a smoking room even though we didn't book a smoking room. The noise was unbearable, and when combined with the smoke just added up to disaster. Good: Close to the public transportation systems. In the middle of downtown Las Vegas.</td>\n",
       "      <td>0.138095</td>\n",
       "      <td>0.233333</td>\n",
       "      <td>2.50</td>\n",
       "    </tr>\n",
       "    <tr>\n",
       "      <th>250</th>\n",
       "      <td>Fremont Hotel &amp; Casino</td>\n",
       "      <td>Bad: The cleanliness wasn't the best. One of our towels and bed sheets had red stains on them which the staff informed us was rust, and not blood....upon arrival the toilet wouldn't flush as well. We got stuck in a smoking room even though we didn't book a smoking room. The noise was unbearable, and when combined with the smoke just added up to disaster. Good: Close to the public transportation systems. In the middle of downtown Las Vegas.</td>\n",
       "      <td>0.138095</td>\n",
       "      <td>0.233333</td>\n",
       "      <td>2.50</td>\n",
       "    </tr>\n",
       "    <tr>\n",
       "      <th>355</th>\n",
       "      <td>The Charlesmark Hotel</td>\n",
       "      <td>Nothing to complain about Everything was fine and week with the price. It is very central in Boston and close to the public transportation.</td>\n",
       "      <td>0.138889</td>\n",
       "      <td>0.297222</td>\n",
       "      <td>5.00</td>\n",
       "    </tr>\n",
       "    <tr>\n",
       "      <th>653</th>\n",
       "      <td>W Boston</td>\n",
       "      <td>Dated... The room</td>\n",
       "      <td>0.000000</td>\n",
       "      <td>0.000000</td>\n",
       "      <td>3.55</td>\n",
       "    </tr>\n",
       "    <tr>\n",
       "      <th>691</th>\n",
       "      <td>W Boston</td>\n",
       "      <td>Big room</td>\n",
       "      <td>0.000000</td>\n",
       "      <td>0.100000</td>\n",
       "      <td>5.00</td>\n",
       "    </tr>\n",
       "    <tr>\n",
       "      <th>748</th>\n",
       "      <td>The St. Regis New York</td>\n",
       "      <td>This was our second stay at the St. Regis, and this time we booked through American Express Platinum concierge. As part of their fine hotel's program, we booked for 2 days and the third night was comped. It also included 100.00 towards meals and complete breakfast for 2. Upon checking in, Hugo acknowledged me as a Platinum SPG guest and upgraded us to the Madison Suite! Every room comes with a butler, who will bring you complimentary tea or coffee service. There's a house Bentley which is available on a first come,first served basis. The food is extremely good in their restaurant and the King Cole bar is internationally famous.Dear 112traveler47, Thank you so much for staying at The St. Regis New York during your recent visit to New York City.We are so grateful for your feedback, and we thank you for taking the time to review your experience on TripAdvisor. We hope to see you again soon!Sincerely, Octavia MargineanHotel Manager</td>\n",
       "      <td>0.190314</td>\n",
       "      <td>0.292316</td>\n",
       "      <td>5.00</td>\n",
       "    </tr>\n",
       "    <tr>\n",
       "      <th>1299</th>\n",
       "      <td>Holiday Inn North Phoenix</td>\n",
       "      <td>Garbage hotel beware do not use the toxic water there if you shower in it you will smell like waste water</td>\n",
       "      <td>-0.200000</td>\n",
       "      <td>0.000000</td>\n",
       "      <td>1.00</td>\n",
       "    </tr>\n",
       "    <tr>\n",
       "      <th>1300</th>\n",
       "      <td>Holiday Inn North Phoenix</td>\n",
       "      <td>This hotel has bedbugs!! The staff acted like it wasn't a big idea!! Don't stay here!!</td>\n",
       "      <td>0.000000</td>\n",
       "      <td>0.100000</td>\n",
       "      <td>1.00</td>\n",
       "    </tr>\n",
       "  </tbody>\n",
       "</table>\n",
       "</div>"
      ],
      "text/plain": [
       "                           name  \\\n",
       "112                   The Boxer   \n",
       "158      Fremont Hotel & Casino   \n",
       "176      Fremont Hotel & Casino   \n",
       "250      Fremont Hotel & Casino   \n",
       "355       The Charlesmark Hotel   \n",
       "653                    W Boston   \n",
       "691                    W Boston   \n",
       "748      The St. Regis New York   \n",
       "1299  Holiday Inn North Phoenix   \n",
       "1300  Holiday Inn North Phoenix   \n",
       "\n",
       "                                                                                                                                                                                                                                                                                                                                                                                                                                                                                                                                                                                                                                                                                                                                                                                                                                                                                                                                                                       reviews.text  \\\n",
       "112                                                                                                                                                                                                                                                                                                                                                                                                                                                                                                                                                                                                                                                                                                                                                                                                                                                                                                                                                                    The location   \n",
       "158                                                                                                                                                                                                                                                                                                                                                                                                                                                                                                                                                                                                                                                Bad: The room I booked was a non-smoking but when we got to the hotel, the gentleman at the counter said they didn't have any and have not had any available for several days. The guy then said that in order for me to get my money back, I'd have to go through the third party that I booked the room through. Good: Nothing   \n",
       "176                                                                                                                                                                                                                                                                                                                                                                                                                                                                                                                     Bad: The cleanliness wasn't the best. One of our towels and bed sheets had red stains on them which the staff informed us was rust, and not blood....upon arrival the toilet wouldn't flush as well. We got stuck in a smoking room even though we didn't book a smoking room. The noise was unbearable, and when combined with the smoke just added up to disaster. Good: Close to the public transportation systems. In the middle of downtown Las Vegas.   \n",
       "250                                                                                                                                                                                                                                                                                                                                                                                                                                                                                                                     Bad: The cleanliness wasn't the best. One of our towels and bed sheets had red stains on them which the staff informed us was rust, and not blood....upon arrival the toilet wouldn't flush as well. We got stuck in a smoking room even though we didn't book a smoking room. The noise was unbearable, and when combined with the smoke just added up to disaster. Good: Close to the public transportation systems. In the middle of downtown Las Vegas.   \n",
       "355                                                                                                                                                                                                                                                                                                                                                                                                                                                                                                                                                                                                                                                                                                                                                                                                                                     Nothing to complain about Everything was fine and week with the price. It is very central in Boston and close to the public transportation.   \n",
       "653                                                                                                                                                                                                                                                                                                                                                                                                                                                                                                                                                                                                                                                                                                                                                                                                                                                                                                                                                               Dated... The room   \n",
       "691                                                                                                                                                                                                                                                                                                                                                                                                                                                                                                                                                                                                                                                                                                                                                                                                                                                                                                                                                                        Big room   \n",
       "748   This was our second stay at the St. Regis, and this time we booked through American Express Platinum concierge. As part of their fine hotel's program, we booked for 2 days and the third night was comped. It also included 100.00 towards meals and complete breakfast for 2. Upon checking in, Hugo acknowledged me as a Platinum SPG guest and upgraded us to the Madison Suite! Every room comes with a butler, who will bring you complimentary tea or coffee service. There's a house Bentley which is available on a first come,first served basis. The food is extremely good in their restaurant and the King Cole bar is internationally famous.Dear 112traveler47, Thank you so much for staying at The St. Regis New York during your recent visit to New York City.We are so grateful for your feedback, and we thank you for taking the time to review your experience on TripAdvisor. We hope to see you again soon!Sincerely, Octavia MargineanHotel Manager   \n",
       "1299                                                                                                                                                                                                                                                                                                                                                                                                                                                                                                                                                                                                                                                                                                                                                                                                                                                                      Garbage hotel beware do not use the toxic water there if you shower in it you will smell like waste water   \n",
       "1300                                                                                                                                                                                                                                                                                                                                                                                                                                                                                                                                                                                                                                                                                                                                                                                                                                                                                         This hotel has bedbugs!! The staff acted like it wasn't a big idea!! Don't stay here!!   \n",
       "\n",
       "      polarity  subjectivity  reviews.rating  \n",
       "112   0.000000      0.000000            5.00  \n",
       "158   0.066667      0.277778            1.65  \n",
       "176   0.138095      0.233333            2.50  \n",
       "250   0.138095      0.233333            2.50  \n",
       "355   0.138889      0.297222            5.00  \n",
       "653   0.000000      0.000000            3.55  \n",
       "691   0.000000      0.100000            5.00  \n",
       "748   0.190314      0.292316            5.00  \n",
       "1299 -0.200000      0.000000            1.00  \n",
       "1300  0.000000      0.100000            1.00  "
      ]
     },
     "execution_count": 59,
     "metadata": {},
     "output_type": "execute_result"
    }
   ],
   "source": [
    "pd.set_option('display.max_colwidth', 1000)\n",
    "\n",
    "print(\"Subjectivity less than 0.3 :\")\n",
    "df[['name','reviews.text','polarity','subjectivity','reviews.rating']][df.subjectivity<0.3].head(10)"
   ]
  },
  {
   "cell_type": "markdown",
   "metadata": {},
   "source": [
    "## 3.2. Data Transformation"
   ]
  },
  {
   "cell_type": "markdown",
   "metadata": {},
   "source": [
    "### 3.2.1. Polarity Conversion to Binary Categories"
   ]
  },
  {
   "cell_type": "code",
   "execution_count": 19,
   "metadata": {},
   "outputs": [
    {
     "name": "stderr",
     "output_type": "stream",
     "text": [
      "C:\\Users\\Mossab Weda\\AppData\\Local\\Temp\\ipykernel_10196\\2658336761.py:1: FutureWarning: ChainedAssignmentError: behaviour will change in pandas 3.0!\n",
      "You are setting values through chained assignment. Currently this works in certain cases, but when using Copy-on-Write (which will become the default behaviour in pandas 3.0) this will never work to update the original DataFrame or Series, because the intermediate object on which we are setting values will behave as a copy.\n",
      "A typical example is when you are setting values in a column of a DataFrame, like:\n",
      "\n",
      "df[\"col\"][row_indexer] = value\n",
      "\n",
      "Use `df.loc[row_indexer, \"col\"] = values` instead, to perform the assignment in a single step and ensure this keeps updating the original `df`.\n",
      "\n",
      "See the caveats in the documentation: https://pandas.pydata.org/pandas-docs/stable/user_guide/indexing.html#returning-a-view-versus-a-copy\n",
      "\n",
      "  df['polarity'][df.polarity==0] = 0\n",
      "C:\\Users\\Mossab Weda\\AppData\\Local\\Temp\\ipykernel_10196\\2658336761.py:1: SettingWithCopyWarning: \n",
      "A value is trying to be set on a copy of a slice from a DataFrame\n",
      "\n",
      "See the caveats in the documentation: https://pandas.pydata.org/pandas-docs/stable/user_guide/indexing.html#returning-a-view-versus-a-copy\n",
      "  df['polarity'][df.polarity==0] = 0\n",
      "C:\\Users\\Mossab Weda\\AppData\\Local\\Temp\\ipykernel_10196\\2658336761.py:2: FutureWarning: ChainedAssignmentError: behaviour will change in pandas 3.0!\n",
      "You are setting values through chained assignment. Currently this works in certain cases, but when using Copy-on-Write (which will become the default behaviour in pandas 3.0) this will never work to update the original DataFrame or Series, because the intermediate object on which we are setting values will behave as a copy.\n",
      "A typical example is when you are setting values in a column of a DataFrame, like:\n",
      "\n",
      "df[\"col\"][row_indexer] = value\n",
      "\n",
      "Use `df.loc[row_indexer, \"col\"] = values` instead, to perform the assignment in a single step and ensure this keeps updating the original `df`.\n",
      "\n",
      "See the caveats in the documentation: https://pandas.pydata.org/pandas-docs/stable/user_guide/indexing.html#returning-a-view-versus-a-copy\n",
      "\n",
      "  df['polarity'][df.polarity > 0] = 1\n",
      "C:\\Users\\Mossab Weda\\AppData\\Local\\Temp\\ipykernel_10196\\2658336761.py:2: SettingWithCopyWarning: \n",
      "A value is trying to be set on a copy of a slice from a DataFrame\n",
      "\n",
      "See the caveats in the documentation: https://pandas.pydata.org/pandas-docs/stable/user_guide/indexing.html#returning-a-view-versus-a-copy\n",
      "  df['polarity'][df.polarity > 0] = 1\n",
      "C:\\Users\\Mossab Weda\\AppData\\Local\\Temp\\ipykernel_10196\\2658336761.py:3: FutureWarning: ChainedAssignmentError: behaviour will change in pandas 3.0!\n",
      "You are setting values through chained assignment. Currently this works in certain cases, but when using Copy-on-Write (which will become the default behaviour in pandas 3.0) this will never work to update the original DataFrame or Series, because the intermediate object on which we are setting values will behave as a copy.\n",
      "A typical example is when you are setting values in a column of a DataFrame, like:\n",
      "\n",
      "df[\"col\"][row_indexer] = value\n",
      "\n",
      "Use `df.loc[row_indexer, \"col\"] = values` instead, to perform the assignment in a single step and ensure this keeps updating the original `df`.\n",
      "\n",
      "See the caveats in the documentation: https://pandas.pydata.org/pandas-docs/stable/user_guide/indexing.html#returning-a-view-versus-a-copy\n",
      "\n",
      "  df['polarity'][df.polarity < 0] = -1\n",
      "C:\\Users\\Mossab Weda\\AppData\\Local\\Temp\\ipykernel_10196\\2658336761.py:3: SettingWithCopyWarning: \n",
      "A value is trying to be set on a copy of a slice from a DataFrame\n",
      "\n",
      "See the caveats in the documentation: https://pandas.pydata.org/pandas-docs/stable/user_guide/indexing.html#returning-a-view-versus-a-copy\n",
      "  df['polarity'][df.polarity < 0] = -1\n"
     ]
    }
   ],
   "source": [
    "df['polarity'][df.polarity==0] = 0\n",
    "df['polarity'][df.polarity > 0] = 1\n",
    "df['polarity'][df.polarity < 0] = -1"
   ]
  },
  {
   "cell_type": "markdown",
   "metadata": {},
   "source": [
    "### 3.2.2. Subjectivity Conversion to Binary Categories"
   ]
  },
  {
   "cell_type": "code",
   "execution_count": 20,
   "metadata": {},
   "outputs": [
    {
     "name": "stderr",
     "output_type": "stream",
     "text": [
      "C:\\Users\\Mossab Weda\\AppData\\Local\\Temp\\ipykernel_10196\\1033015580.py:1: FutureWarning: ChainedAssignmentError: behaviour will change in pandas 3.0!\n",
      "You are setting values through chained assignment. Currently this works in certain cases, but when using Copy-on-Write (which will become the default behaviour in pandas 3.0) this will never work to update the original DataFrame or Series, because the intermediate object on which we are setting values will behave as a copy.\n",
      "A typical example is when you are setting values in a column of a DataFrame, like:\n",
      "\n",
      "df[\"col\"][row_indexer] = value\n",
      "\n",
      "Use `df.loc[row_indexer, \"col\"] = values` instead, to perform the assignment in a single step and ensure this keeps updating the original `df`.\n",
      "\n",
      "See the caveats in the documentation: https://pandas.pydata.org/pandas-docs/stable/user_guide/indexing.html#returning-a-view-versus-a-copy\n",
      "\n",
      "  df['subjectivity'][df.subjectivity > 0.5] = 1\n",
      "C:\\Users\\Mossab Weda\\AppData\\Local\\Temp\\ipykernel_10196\\1033015580.py:1: SettingWithCopyWarning: \n",
      "A value is trying to be set on a copy of a slice from a DataFrame\n",
      "\n",
      "See the caveats in the documentation: https://pandas.pydata.org/pandas-docs/stable/user_guide/indexing.html#returning-a-view-versus-a-copy\n",
      "  df['subjectivity'][df.subjectivity > 0.5] = 1\n",
      "C:\\Users\\Mossab Weda\\AppData\\Local\\Temp\\ipykernel_10196\\1033015580.py:2: FutureWarning: ChainedAssignmentError: behaviour will change in pandas 3.0!\n",
      "You are setting values through chained assignment. Currently this works in certain cases, but when using Copy-on-Write (which will become the default behaviour in pandas 3.0) this will never work to update the original DataFrame or Series, because the intermediate object on which we are setting values will behave as a copy.\n",
      "A typical example is when you are setting values in a column of a DataFrame, like:\n",
      "\n",
      "df[\"col\"][row_indexer] = value\n",
      "\n",
      "Use `df.loc[row_indexer, \"col\"] = values` instead, to perform the assignment in a single step and ensure this keeps updating the original `df`.\n",
      "\n",
      "See the caveats in the documentation: https://pandas.pydata.org/pandas-docs/stable/user_guide/indexing.html#returning-a-view-versus-a-copy\n",
      "\n",
      "  df['subjectivity'][df.subjectivity <= 0.5] = 0\n",
      "C:\\Users\\Mossab Weda\\AppData\\Local\\Temp\\ipykernel_10196\\1033015580.py:2: SettingWithCopyWarning: \n",
      "A value is trying to be set on a copy of a slice from a DataFrame\n",
      "\n",
      "See the caveats in the documentation: https://pandas.pydata.org/pandas-docs/stable/user_guide/indexing.html#returning-a-view-versus-a-copy\n",
      "  df['subjectivity'][df.subjectivity <= 0.5] = 0\n"
     ]
    }
   ],
   "source": [
    "df['subjectivity'][df.subjectivity > 0.5] = 1\n",
    "df['subjectivity'][df.subjectivity <= 0.5] = 0"
   ]
  },
  {
   "cell_type": "code",
   "execution_count": 65,
   "metadata": {},
   "outputs": [
    {
     "data": {
      "text/html": [
       "<div>\n",
       "<style scoped>\n",
       "    .dataframe tbody tr th:only-of-type {\n",
       "        vertical-align: middle;\n",
       "    }\n",
       "\n",
       "    .dataframe tbody tr th {\n",
       "        vertical-align: top;\n",
       "    }\n",
       "\n",
       "    .dataframe thead th {\n",
       "        text-align: right;\n",
       "    }\n",
       "</style>\n",
       "<table border=\"1\" class=\"dataframe\">\n",
       "  <thead>\n",
       "    <tr style=\"text-align: right;\">\n",
       "      <th></th>\n",
       "      <th>id</th>\n",
       "      <th>address</th>\n",
       "      <th>categories</th>\n",
       "      <th>primaryCategories</th>\n",
       "      <th>city</th>\n",
       "      <th>country</th>\n",
       "      <th>name</th>\n",
       "      <th>province</th>\n",
       "      <th>reviews.date</th>\n",
       "      <th>reviews.rating</th>\n",
       "      <th>reviews.sourceURLs</th>\n",
       "      <th>reviews.text</th>\n",
       "      <th>reviews.title</th>\n",
       "      <th>reviews.userCity</th>\n",
       "      <th>polarity</th>\n",
       "      <th>subjectivity</th>\n",
       "    </tr>\n",
       "  </thead>\n",
       "  <tbody>\n",
       "    <tr>\n",
       "      <th>0</th>\n",
       "      <td>AVwc252WIN2L1WUfpqLP</td>\n",
       "      <td>5921 Valencia Cir</td>\n",
       "      <td>Hotels,Hotels and motels,Hotel and motel reservations,Resorts,Resort,Hotel</td>\n",
       "      <td>Accommodation &amp; Food Services</td>\n",
       "      <td>Rancho Santa Fe</td>\n",
       "      <td>US</td>\n",
       "      <td>Rancho Valencia Resort Spa</td>\n",
       "      <td>CA</td>\n",
       "      <td>2013-11-14T00:00:00Z</td>\n",
       "      <td>5.0</td>\n",
       "      <td>https://www.hotels.com/hotel/125419/reviews%20/</td>\n",
       "      <td>Our experience at Rancho Valencia was absolutely perfect from beginning to end!!!! We felt special and very happy during our stayed. I would come back in a heart beat!!!</td>\n",
       "      <td>Best romantic vacation ever!!!!</td>\n",
       "      <td>New York City</td>\n",
       "      <td>1.0</td>\n",
       "      <td>1.0</td>\n",
       "    </tr>\n",
       "    <tr>\n",
       "      <th>1</th>\n",
       "      <td>AVwc252WIN2L1WUfpqLP</td>\n",
       "      <td>5921 Valencia Cir</td>\n",
       "      <td>Hotels,Hotels and motels,Hotel and motel reservations,Resorts,Resort,Hotel</td>\n",
       "      <td>Accommodation &amp; Food Services</td>\n",
       "      <td>Rancho Santa Fe</td>\n",
       "      <td>US</td>\n",
       "      <td>Rancho Valencia Resort Spa</td>\n",
       "      <td>CA</td>\n",
       "      <td>2014-07-06T00:00:00Z</td>\n",
       "      <td>5.0</td>\n",
       "      <td>https://www.hotels.com/hotel/125419/reviews%20/</td>\n",
       "      <td>Amazing place. Everyone was extremely warm and welcoming. We've stayed at some top notch places and this is definitely in our top 2. Great for a romantic getaway or take the kids along as we did. Had a couple stuffed animals waiting for our girls upon arrival. Can't wait to go back.</td>\n",
       "      <td>Sweet sweet serenity</td>\n",
       "      <td>New York City</td>\n",
       "      <td>1.0</td>\n",
       "      <td>1.0</td>\n",
       "    </tr>\n",
       "    <tr>\n",
       "      <th>2</th>\n",
       "      <td>AVwc252WIN2L1WUfpqLP</td>\n",
       "      <td>5921 Valencia Cir</td>\n",
       "      <td>Hotels,Hotels and motels,Hotel and motel reservations,Resorts,Resort,Hotel</td>\n",
       "      <td>Accommodation &amp; Food Services</td>\n",
       "      <td>Rancho Santa Fe</td>\n",
       "      <td>US</td>\n",
       "      <td>Rancho Valencia Resort Spa</td>\n",
       "      <td>CA</td>\n",
       "      <td>2015-01-02T00:00:00Z</td>\n",
       "      <td>5.0</td>\n",
       "      <td>https://www.hotels.com/hotel/125419/reviews%20/</td>\n",
       "      <td>We booked a 3 night stay at Rancho Valencia to play some tennis, since it is one of the highest rated tennis resorts in America. This place is really over the top from a luxury standpoint and overall experience. The villas are really perfect, the staff is great, attention to details (includes fresh squeezed orange juice each morning), restaurants, bar and room service amazing, and the tennis program was really impressive as well. We will want to come back here again.</td>\n",
       "      <td>Amazing Property and Experience</td>\n",
       "      <td>New York City</td>\n",
       "      <td>1.0</td>\n",
       "      <td>1.0</td>\n",
       "    </tr>\n",
       "    <tr>\n",
       "      <th>3</th>\n",
       "      <td>AVwdOclqIN2L1WUfti38</td>\n",
       "      <td>7520 Teague Rd</td>\n",
       "      <td>Hotels,Hotels and motels,Travel agencies and bureaus,Hotel and Motel Management,Hotel &amp; Motel Management,Motels,Hotel</td>\n",
       "      <td>Accommodation &amp; Food Services</td>\n",
       "      <td>Hanover</td>\n",
       "      <td>US</td>\n",
       "      <td>Aloft Arundel Mills</td>\n",
       "      <td>MD</td>\n",
       "      <td>2016-05-15T00:00:00Z</td>\n",
       "      <td>2.0</td>\n",
       "      <td>https://www.tripadvisor.com/Hotel_Review-g41185-d1239660-Reviews-Aloft_Arundel_Mills-Hanover_Maryland.html,https://www.tripadvisor.com/Hotel_Review-g41185-d1239660-Reviews-or40-Aloft_Arundel_Mills-Hanover_Maryland.html%2525252523REVIEWS</td>\n",
       "      <td>Currently in bed writing this for the past hr 1/2 there have been dogs barking and squealing call the front desk to advise basically to be told there's nothing they can do. 315.00 and I can't sleep.</td>\n",
       "      <td>Never again...beware, if you want sleep.</td>\n",
       "      <td>Richmond</td>\n",
       "      <td>-1.0</td>\n",
       "      <td>0.0</td>\n",
       "    </tr>\n",
       "    <tr>\n",
       "      <th>4</th>\n",
       "      <td>AVwdOclqIN2L1WUfti38</td>\n",
       "      <td>7520 Teague Rd</td>\n",
       "      <td>Hotels,Hotels and motels,Travel agencies and bureaus,Hotel and Motel Management,Hotel &amp; Motel Management,Motels,Hotel</td>\n",
       "      <td>Accommodation &amp; Food Services</td>\n",
       "      <td>Hanover</td>\n",
       "      <td>US</td>\n",
       "      <td>Aloft Arundel Mills</td>\n",
       "      <td>MD</td>\n",
       "      <td>2016-07-09T00:00:00Z</td>\n",
       "      <td>5.0</td>\n",
       "      <td>https://www.tripadvisor.com/Hotel_Review-g41185-d1239660-Reviews-or10-Aloft_Arundel_Mills-Hanover_Maryland.html%2525252523REVIEWS</td>\n",
       "      <td>I live in Md and the Aloft is my Home away from home...we stayed 1 night 7-7-16 ...Staff is great ! Especially Olivia who was Extra special because she remembered me by my voice over the phone ...which tells me she is very alert and pays attention to the customer their needs.AND SHE DID ! Thumbs up... More</td>\n",
       "      <td>ALWAYS GREAT STAY...</td>\n",
       "      <td>Laurel</td>\n",
       "      <td>1.0</td>\n",
       "      <td>1.0</td>\n",
       "    </tr>\n",
       "  </tbody>\n",
       "</table>\n",
       "</div>"
      ],
      "text/plain": [
       "                     id            address  \\\n",
       "0  AVwc252WIN2L1WUfpqLP  5921 Valencia Cir   \n",
       "1  AVwc252WIN2L1WUfpqLP  5921 Valencia Cir   \n",
       "2  AVwc252WIN2L1WUfpqLP  5921 Valencia Cir   \n",
       "3  AVwdOclqIN2L1WUfti38     7520 Teague Rd   \n",
       "4  AVwdOclqIN2L1WUfti38     7520 Teague Rd   \n",
       "\n",
       "                                                                                                              categories  \\\n",
       "0                                             Hotels,Hotels and motels,Hotel and motel reservations,Resorts,Resort,Hotel   \n",
       "1                                             Hotels,Hotels and motels,Hotel and motel reservations,Resorts,Resort,Hotel   \n",
       "2                                             Hotels,Hotels and motels,Hotel and motel reservations,Resorts,Resort,Hotel   \n",
       "3  Hotels,Hotels and motels,Travel agencies and bureaus,Hotel and Motel Management,Hotel & Motel Management,Motels,Hotel   \n",
       "4  Hotels,Hotels and motels,Travel agencies and bureaus,Hotel and Motel Management,Hotel & Motel Management,Motels,Hotel   \n",
       "\n",
       "               primaryCategories             city country  \\\n",
       "0  Accommodation & Food Services  Rancho Santa Fe      US   \n",
       "1  Accommodation & Food Services  Rancho Santa Fe      US   \n",
       "2  Accommodation & Food Services  Rancho Santa Fe      US   \n",
       "3  Accommodation & Food Services          Hanover      US   \n",
       "4  Accommodation & Food Services          Hanover      US   \n",
       "\n",
       "                         name province          reviews.date  reviews.rating  \\\n",
       "0  Rancho Valencia Resort Spa       CA  2013-11-14T00:00:00Z             5.0   \n",
       "1  Rancho Valencia Resort Spa       CA  2014-07-06T00:00:00Z             5.0   \n",
       "2  Rancho Valencia Resort Spa       CA  2015-01-02T00:00:00Z             5.0   \n",
       "3         Aloft Arundel Mills       MD  2016-05-15T00:00:00Z             2.0   \n",
       "4         Aloft Arundel Mills       MD  2016-07-09T00:00:00Z             5.0   \n",
       "\n",
       "                                                                                                                                                                                                                             reviews.sourceURLs  \\\n",
       "0                                                                                                                                                                                               https://www.hotels.com/hotel/125419/reviews%20/   \n",
       "1                                                                                                                                                                                               https://www.hotels.com/hotel/125419/reviews%20/   \n",
       "2                                                                                                                                                                                               https://www.hotels.com/hotel/125419/reviews%20/   \n",
       "3  https://www.tripadvisor.com/Hotel_Review-g41185-d1239660-Reviews-Aloft_Arundel_Mills-Hanover_Maryland.html,https://www.tripadvisor.com/Hotel_Review-g41185-d1239660-Reviews-or40-Aloft_Arundel_Mills-Hanover_Maryland.html%2525252523REVIEWS   \n",
       "4                                                                                                             https://www.tripadvisor.com/Hotel_Review-g41185-d1239660-Reviews-or10-Aloft_Arundel_Mills-Hanover_Maryland.html%2525252523REVIEWS   \n",
       "\n",
       "                                                                                                                                                                                                                                                                                                                                                                                                                                                                              reviews.text  \\\n",
       "0                                                                                                                                                                                                                                                                                                                Our experience at Rancho Valencia was absolutely perfect from beginning to end!!!! We felt special and very happy during our stayed. I would come back in a heart beat!!!   \n",
       "1                                                                                                                                                                                              Amazing place. Everyone was extremely warm and welcoming. We've stayed at some top notch places and this is definitely in our top 2. Great for a romantic getaway or take the kids along as we did. Had a couple stuffed animals waiting for our girls upon arrival. Can't wait to go back.   \n",
       "2  We booked a 3 night stay at Rancho Valencia to play some tennis, since it is one of the highest rated tennis resorts in America. This place is really over the top from a luxury standpoint and overall experience. The villas are really perfect, the staff is great, attention to details (includes fresh squeezed orange juice each morning), restaurants, bar and room service amazing, and the tennis program was really impressive as well. We will want to come back here again.   \n",
       "3                                                                                                                                                                                                                                                                                   Currently in bed writing this for the past hr 1/2 there have been dogs barking and squealing call the front desk to advise basically to be told there's nothing they can do. 315.00 and I can't sleep.   \n",
       "4                                                                                                                                                                      I live in Md and the Aloft is my Home away from home...we stayed 1 night 7-7-16 ...Staff is great ! Especially Olivia who was Extra special because she remembered me by my voice over the phone ...which tells me she is very alert and pays attention to the customer their needs.AND SHE DID ! Thumbs up... More   \n",
       "\n",
       "                              reviews.title reviews.userCity  polarity  \\\n",
       "0           Best romantic vacation ever!!!!    New York City       1.0   \n",
       "1                      Sweet sweet serenity    New York City       1.0   \n",
       "2           Amazing Property and Experience    New York City       1.0   \n",
       "3  Never again...beware, if you want sleep.         Richmond      -1.0   \n",
       "4                      ALWAYS GREAT STAY...           Laurel       1.0   \n",
       "\n",
       "   subjectivity  \n",
       "0           1.0  \n",
       "1           1.0  \n",
       "2           1.0  \n",
       "3           0.0  \n",
       "4           1.0  "
      ]
     },
     "execution_count": 65,
     "metadata": {},
     "output_type": "execute_result"
    }
   ],
   "source": [
    "df.head()"
   ]
  },
  {
   "cell_type": "markdown",
   "metadata": {},
   "source": [
    "## 3.3. Data Visualization"
   ]
  },
  {
   "cell_type": "markdown",
   "metadata": {},
   "source": [
    "### 3.3.1. Frequency of Polarity and subjectivity"
   ]
  },
  {
   "cell_type": "code",
   "execution_count": 21,
   "metadata": {},
   "outputs": [
    {
     "data": {
      "text/plain": [
       "polarity\n",
       " 1.0    89.17\n",
       "-1.0     9.60\n",
       " 0.0     1.23\n",
       "Name: proportion, dtype: float64"
      ]
     },
     "execution_count": 21,
     "metadata": {},
     "output_type": "execute_result"
    }
   ],
   "source": [
    "total = df.polarity.count()  # Nombre total d'observations\n",
    "percentage_df = df.polarity.value_counts(normalize=True) * 100  \n",
    "percentage_df"
   ]
  },
  {
   "cell_type": "code",
   "execution_count": 22,
   "metadata": {},
   "outputs": [
    {
     "data": {
      "text/plain": [
       "<Axes: xlabel='polarity'>"
      ]
     },
     "execution_count": 22,
     "metadata": {},
     "output_type": "execute_result"
    },
    {
     "data": {
      "image/png": "[encoded data removed]",
      "text/plain": [
       "<Figure size 640x480 with 1 Axes>"
      ]
     },
     "metadata": {},
     "output_type": "display_data"
    }
   ],
   "source": [
    "df.polarity.value_counts().plot.bar()"
   ]
  },
  {
   "cell_type": "code",
   "execution_count": 120,
   "metadata": {},
   "outputs": [
    {
     "data": {
      "text/plain": [
       "subjectivity\n",
       "1.0    7305\n",
       "0.0    2695\n",
       "Name: count, dtype: int64"
      ]
     },
     "execution_count": 120,
     "metadata": {},
     "output_type": "execute_result"
    },
    {
     "data": {
      "image/png": "[encoded data removed]",
      "text/plain": [
       "<Figure size 640x480 with 1 Axes>"
      ]
     },
     "metadata": {},
     "output_type": "display_data"
    }
   ],
   "source": [
    "df.subjectivity.value_counts().plot.bar()\n",
    "df.subjectivity.value_counts()"
   ]
  },
  {
   "cell_type": "markdown",
   "metadata": {},
   "source": [
    "### 3.3.2 percentage of comments for each Primary Categories"
   ]
  },
  {
   "cell_type": "code",
   "execution_count": 40,
   "metadata": {},
   "outputs": [
    {
     "data": {
      "application/vnd.plotly.v1+json": {
       "config": {
        "plotlyServerURL": "https://plot.ly"
       },
       "data": [
        {
         "alignmentgroup": "True",
         "hovertemplate": "variable=Neutral %<br>primaryCategories=%{x}<br>Percentage (%)=%{y}<extra></extra>",
         "legendgroup": "Neutral %",
         "marker": {
          "color": "#636efa",
          "pattern": {
           "shape": ""
          }
         },
         "name": "Neutral %",
         "offsetgroup": "Neutral %",
         "orientation": "v",
         "showlegend": true,
         "textposition": "auto",
         "type": "bar",
         "x": [
          "Accommodation & Food Services",
          "Arts Entertainment & Recreation",
          "Healthcare & Social Assistance",
          "Utilities",
          "Wholesale Trade"
         ],
         "xaxis": "x",
         "y": [
          1.2389202256244962,
          0,
          0,
          0,
          0
         ],
         "yaxis": "y"
        },
        {
         "alignmentgroup": "True",
         "hovertemplate": "variable=Positive %<br>primaryCategories=%{x}<br>Percentage (%)=%{y}<extra></extra>",
         "legendgroup": "Positive %",
         "marker": {
          "color": "#EF553B",
          "pattern": {
           "shape": ""
          }
         },
         "name": "Positive %",
         "offsetgroup": "Positive %",
         "orientation": "v",
         "showlegend": true,
         "textposition": "auto",
         "type": "bar",
         "x": [
          "Accommodation & Food Services",
          "Arts Entertainment & Recreation",
          "Healthcare & Social Assistance",
          "Utilities",
          "Wholesale Trade"
         ],
         "xaxis": "x",
         "y": [
          89.1317485898469,
          91.30434782608695,
          100,
          100,
          100
         ],
         "yaxis": "y"
        },
        {
         "alignmentgroup": "True",
         "hovertemplate": "variable=Negative %<br>primaryCategories=%{x}<br>Percentage (%)=%{y}<extra></extra>",
         "legendgroup": "Negative %",
         "marker": {
          "color": "#00cc96",
          "pattern": {
           "shape": ""
          }
         },
         "name": "Negative %",
         "offsetgroup": "Negative %",
         "orientation": "v",
         "showlegend": true,
         "textposition": "auto",
         "type": "bar",
         "x": [
          "Accommodation & Food Services",
          "Arts Entertainment & Recreation",
          "Healthcare & Social Assistance",
          "Utilities",
          "Wholesale Trade"
         ],
         "xaxis": "x",
         "y": [
          9.629331184528606,
          8.695652173913043,
          0,
          0,
          0
         ],
         "yaxis": "y"
        }
       ],
       "layout": {
        "barmode": "group",
        "legend": {
         "title": {
          "text": "variable"
         },
         "tracegroupgap": 0
        },
        "template": {
         "data": {
          "bar": [
           {
            "error_x": {
             "color": "#2a3f5f"
            },
            "error_y": {
             "color": "#2a3f5f"
            },
            "marker": {
             "line": {
              "color": "#E5ECF6",
              "width": 0.5
             },
             "pattern": {
              "fillmode": "overlay",
              "size": 10,
              "solidity": 0.2
             }
            },
            "type": "bar"
           }
          ],
          "barpolar": [
           {
            "marker": {
             "line": {
              "color": "#E5ECF6",
              "width": 0.5
             },
             "pattern": {
              "fillmode": "overlay",
              "size": 10,
              "solidity": 0.2
             }
            },
            "type": "barpolar"
           }
          ],
          "carpet": [
           {
            "aaxis": {
             "endlinecolor": "#2a3f5f",
             "gridcolor": "white",
             "linecolor": "white",
             "minorgridcolor": "white",
             "startlinecolor": "#2a3f5f"
            },
            "baxis": {
             "endlinecolor": "#2a3f5f",
             "gridcolor": "white",
             "linecolor": "white",
             "minorgridcolor": "white",
             "startlinecolor": "#2a3f5f"
            },
            "type": "carpet"
           }
          ],
          "choropleth": [
           {
            "colorbar": {
             "outlinewidth": 0,
             "ticks": ""
            },
            "type": "choropleth"
           }
          ],
          "contour": [
           {
            "colorbar": {
             "outlinewidth": 0,
             "ticks": ""
            },
            "colorscale": [
             [
              0,
              "#0d0887"
             ],
             [
              0.1111111111111111,
              "#46039f"
             ],
             [
              0.2222222222222222,
              "#7201a8"
             ],
             [
              0.3333333333333333,
              "#9c179e"
             ],
             [
              0.4444444444444444,
              "#bd3786"
             ],
             [
              0.5555555555555556,
              "#d8576b"
             ],
             [
              0.6666666666666666,
              "#ed7953"
             ],
             [
              0.7777777777777778,
              "#fb9f3a"
             ],
             [
              0.8888888888888888,
              "#fdca26"
             ],
             [
              1,
              "#f0f921"
             ]
            ],
            "type": "contour"
           }
          ],
          "contourcarpet": [
           {
            "colorbar": {
             "outlinewidth": 0,
             "ticks": ""
            },
            "type": "contourcarpet"
           }
          ],
          "heatmap": [
           {
            "colorbar": {
             "outlinewidth": 0,
             "ticks": ""
            },
            "colorscale": [
             [
              0,
              "#0d0887"
             ],
             [
              0.1111111111111111,
              "#46039f"
             ],
             [
              0.2222222222222222,
              "#7201a8"
             ],
             [
              0.3333333333333333,
              "#9c179e"
             ],
             [
              0.4444444444444444,
              "#bd3786"
             ],
             [
              0.5555555555555556,
              "#d8576b"
             ],
             [
              0.6666666666666666,
              "#ed7953"
             ],
             [
              0.7777777777777778,
              "#fb9f3a"
             ],
             [
              0.8888888888888888,
              "#fdca26"
             ],
             [
              1,
              "#f0f921"
             ]
            ],
            "type": "heatmap"
           }
          ],
          "heatmapgl": [
           {
            "colorbar": {
             "outlinewidth": 0,
             "ticks": ""
            },
            "colorscale": [
             [
              0,
              "#0d0887"
             ],
             [
              0.1111111111111111,
              "#46039f"
             ],
             [
              0.2222222222222222,
              "#7201a8"
             ],
             [
              0.3333333333333333,
              "#9c179e"
             ],
             [
              0.4444444444444444,
              "#bd3786"
             ],
             [
              0.5555555555555556,
              "#d8576b"
             ],
             [
              0.6666666666666666,
              "#ed7953"
             ],
             [
              0.7777777777777778,
              "#fb9f3a"
             ],
             [
              0.8888888888888888,
              "#fdca26"
             ],
             [
              1,
              "#f0f921"
             ]
            ],
            "type": "heatmapgl"
           }
          ],
          "histogram": [
           {
            "marker": {
             "pattern": {
              "fillmode": "overlay",
              "size": 10,
              "solidity": 0.2
             }
            },
            "type": "histogram"
           }
          ],
          "histogram2d": [
           {
            "colorbar": {
             "outlinewidth": 0,
             "ticks": ""
            },
            "colorscale": [
             [
              0,
              "#0d0887"
             ],
             [
              0.1111111111111111,
              "#46039f"
             ],
             [
              0.2222222222222222,
              "#7201a8"
             ],
             [
              0.3333333333333333,
              "#9c179e"
             ],
             [
              0.4444444444444444,
              "#bd3786"
             ],
             [
              0.5555555555555556,
              "#d8576b"
             ],
             [
              0.6666666666666666,
              "#ed7953"
             ],
             [
              0.7777777777777778,
              "#fb9f3a"
             ],
             [
              0.8888888888888888,
              "#fdca26"
             ],
             [
              1,
              "#f0f921"
             ]
            ],
            "type": "histogram2d"
           }
          ],
          "histogram2dcontour": [
           {
            "colorbar": {
             "outlinewidth": 0,
             "ticks": ""
            },
            "colorscale": [
             [
              0,
              "#0d0887"
             ],
             [
              0.1111111111111111,
              "#46039f"
             ],
             [
              0.2222222222222222,
              "#7201a8"
             ],
             [
              0.3333333333333333,
              "#9c179e"
             ],
             [
              0.4444444444444444,
              "#bd3786"
             ],
             [
              0.5555555555555556,
              "#d8576b"
             ],
             [
              0.6666666666666666,
              "#ed7953"
             ],
             [
              0.7777777777777778,
              "#fb9f3a"
             ],
             [
              0.8888888888888888,
              "#fdca26"
             ],
             [
              1,
              "#f0f921"
             ]
            ],
            "type": "histogram2dcontour"
           }
          ],
          "mesh3d": [
           {
            "colorbar": {
             "outlinewidth": 0,
             "ticks": ""
            },
            "type": "mesh3d"
           }
          ],
          "parcoords": [
           {
            "line": {
             "colorbar": {
              "outlinewidth": 0,
              "ticks": ""
             }
            },
            "type": "parcoords"
           }
          ],
          "pie": [
           {
            "automargin": true,
            "type": "pie"
           }
          ],
          "scatter": [
           {
            "fillpattern": {
             "fillmode": "overlay",
             "size": 10,
             "solidity": 0.2
            },
            "type": "scatter"
           }
          ],
          "scatter3d": [
           {
            "line": {
             "colorbar": {
              "outlinewidth": 0,
              "ticks": ""
             }
            },
            "marker": {
             "colorbar": {
              "outlinewidth": 0,
              "ticks": ""
             }
            },
            "type": "scatter3d"
           }
          ],
          "scattercarpet": [
           {
            "marker": {
             "colorbar": {
              "outlinewidth": 0,
              "ticks": ""
             }
            },
            "type": "scattercarpet"
           }
          ],
          "scattergeo": [
           {
            "marker": {
             "colorbar": {
              "outlinewidth": 0,
              "ticks": ""
             }
            },
            "type": "scattergeo"
           }
          ],
          "scattergl": [
           {
            "marker": {
             "colorbar": {
              "outlinewidth": 0,
              "ticks": ""
             }
            },
            "type": "scattergl"
           }
          ],
          "scattermapbox": [
           {
            "marker": {
             "colorbar": {
              "outlinewidth": 0,
              "ticks": ""
             }
            },
            "type": "scattermapbox"
           }
          ],
          "scatterpolar": [
           {
            "marker": {
             "colorbar": {
              "outlinewidth": 0,
              "ticks": ""
             }
            },
            "type": "scatterpolar"
           }
          ],
          "scatterpolargl": [
           {
            "marker": {
             "colorbar": {
              "outlinewidth": 0,
              "ticks": ""
             }
            },
            "type": "scatterpolargl"
           }
          ],
          "scatterternary": [
           {
            "marker": {
             "colorbar": {
              "outlinewidth": 0,
              "ticks": ""
             }
            },
            "type": "scatterternary"
           }
          ],
          "surface": [
           {
            "colorbar": {
             "outlinewidth": 0,
             "ticks": ""
            },
            "colorscale": [
             [
              0,
              "#0d0887"
             ],
             [
              0.1111111111111111,
              "#46039f"
             ],
             [
              0.2222222222222222,
              "#7201a8"
             ],
             [
              0.3333333333333333,
              "#9c179e"
             ],
             [
              0.4444444444444444,
              "#bd3786"
             ],
             [
              0.5555555555555556,
              "#d8576b"
             ],
             [
              0.6666666666666666,
              "#ed7953"
             ],
             [
              0.7777777777777778,
              "#fb9f3a"
             ],
             [
              0.8888888888888888,
              "#fdca26"
             ],
             [
              1,
              "#f0f921"
             ]
            ],
            "type": "surface"
           }
          ],
          "table": [
           {
            "cells": {
             "fill": {
              "color": "#EBF0F8"
             },
             "line": {
              "color": "white"
             }
            },
            "header": {
             "fill": {
              "color": "#C8D4E3"
             },
             "line": {
              "color": "white"
             }
            },
            "type": "table"
           }
          ]
         },
         "layout": {
          "annotationdefaults": {
           "arrowcolor": "#2a3f5f",
           "arrowhead": 0,
           "arrowwidth": 1
          },
          "autotypenumbers": "strict",
          "coloraxis": {
           "colorbar": {
            "outlinewidth": 0,
            "ticks": ""
           }
          },
          "colorscale": {
           "diverging": [
            [
             0,
             "#8e0152"
            ],
            [
             0.1,
             "#c51b7d"
            ],
            [
             0.2,
             "#de77ae"
            ],
            [
             0.3,
             "#f1b6da"
            ],
            [
             0.4,
             "#fde0ef"
            ],
            [
             0.5,
             "#f7f7f7"
            ],
            [
             0.6,
             "#e6f5d0"
            ],
            [
             0.7,
             "#b8e186"
            ],
            [
             0.8,
             "#7fbc41"
            ],
            [
             0.9,
             "#4d9221"
            ],
            [
             1,
             "#276419"
            ]
           ],
           "sequential": [
            [
             0,
             "#0d0887"
            ],
            [
             0.1111111111111111,
             "#46039f"
            ],
            [
             0.2222222222222222,
             "#7201a8"
            ],
            [
             0.3333333333333333,
             "#9c179e"
            ],
            [
             0.4444444444444444,
             "#bd3786"
            ],
            [
             0.5555555555555556,
             "#d8576b"
            ],
            [
             0.6666666666666666,
             "#ed7953"
            ],
            [
             0.7777777777777778,
             "#fb9f3a"
            ],
            [
             0.8888888888888888,
             "#fdca26"
            ],
            [
             1,
             "#f0f921"
            ]
           ],
           "sequentialminus": [
            [
             0,
             "#0d0887"
            ],
            [
             0.1111111111111111,
             "#46039f"
            ],
            [
             0.2222222222222222,
             "#7201a8"
            ],
            [
             0.3333333333333333,
             "#9c179e"
            ],
            [
             0.4444444444444444,
             "#bd3786"
            ],
            [
             0.5555555555555556,
             "#d8576b"
            ],
            [
             0.6666666666666666,
             "#ed7953"
            ],
            [
             0.7777777777777778,
             "#fb9f3a"
            ],
            [
             0.8888888888888888,
             "#fdca26"
            ],
            [
             1,
             "#f0f921"
            ]
           ]
          },
          "colorway": [
           "#636efa",
           "#EF553B",
           "#00cc96",
           "#ab63fa",
           "#FFA15A",
           "#19d3f3",
           "#FF6692",
           "#B6E880",
           "#FF97FF",
           "#FECB52"
          ],
          "font": {
           "color": "#2a3f5f"
          },
          "geo": {
           "bgcolor": "white",
           "lakecolor": "white",
           "landcolor": "#E5ECF6",
           "showlakes": true,
           "showland": true,
           "subunitcolor": "white"
          },
          "hoverlabel": {
           "align": "left"
          },
          "hovermode": "closest",
          "mapbox": {
           "style": "light"
          },
          "paper_bgcolor": "white",
          "plot_bgcolor": "#E5ECF6",
          "polar": {
           "angularaxis": {
            "gridcolor": "white",
            "linecolor": "white",
            "ticks": ""
           },
           "bgcolor": "#E5ECF6",
           "radialaxis": {
            "gridcolor": "white",
            "linecolor": "white",
            "ticks": ""
           }
          },
          "scene": {
           "xaxis": {
            "backgroundcolor": "#E5ECF6",
            "gridcolor": "white",
            "gridwidth": 2,
            "linecolor": "white",
            "showbackground": true,
            "ticks": "",
            "zerolinecolor": "white"
           },
           "yaxis": {
            "backgroundcolor": "#E5ECF6",
            "gridcolor": "white",
            "gridwidth": 2,
            "linecolor": "white",
            "showbackground": true,
            "ticks": "",
            "zerolinecolor": "white"
           },
           "zaxis": {
            "backgroundcolor": "#E5ECF6",
            "gridcolor": "white",
            "gridwidth": 2,
            "linecolor": "white",
            "showbackground": true,
            "ticks": "",
            "zerolinecolor": "white"
           }
          },
          "shapedefaults": {
           "line": {
            "color": "#2a3f5f"
           }
          },
          "ternary": {
           "aaxis": {
            "gridcolor": "white",
            "linecolor": "white",
            "ticks": ""
           },
           "baxis": {
            "gridcolor": "white",
            "linecolor": "white",
            "ticks": ""
           },
           "bgcolor": "#E5ECF6",
           "caxis": {
            "gridcolor": "white",
            "linecolor": "white",
            "ticks": ""
           }
          },
          "title": {
           "x": 0.05
          },
          "xaxis": {
           "automargin": true,
           "gridcolor": "white",
           "linecolor": "white",
           "ticks": "",
           "title": {
            "standoff": 15
           },
           "zerolinecolor": "white",
           "zerolinewidth": 2
          },
          "yaxis": {
           "automargin": true,
           "gridcolor": "white",
           "linecolor": "white",
           "ticks": "",
           "title": {
            "standoff": 15
           },
           "zerolinecolor": "white",
           "zerolinewidth": 2
          }
         }
        },
        "title": {
         "text": "Percentage Distribution of Sentiments Across Categories"
        },
        "xaxis": {
         "anchor": "y",
         "domain": [
          0,
          1
         ],
         "title": {
          "text": "primaryCategories"
         }
        },
        "yaxis": {
         "anchor": "x",
         "domain": [
          0,
          1
         ],
         "title": {
          "text": "Percentage (%)"
         }
        }
       }
      }
     },
     "metadata": {},
     "output_type": "display_data"
    }
   ],
   "source": [
    "# Pivot table creation remains the same\n",
    "pivot_df = df.pivot_table(index='primaryCategories', columns='polarity', aggfunc='size', fill_value=0)\n",
    "\n",
    "# Reset index to make 'primaryCategories' a column again\n",
    "pivot_df.reset_index(inplace=True)\n",
    "\n",
    "# Rename columns for clarity\n",
    "pivot_df.columns.name = None\n",
    "pivot_df.rename(columns={0: 'Neutral', 1: 'Positive', -1: 'Negative'}, inplace=True)\n",
    "\n",
    "# Calculate percentages for Neutral, Positive, and Negative sentiments\n",
    "pivot_df['Total'] = pivot_df[['Neutral', 'Positive', 'Negative']].sum(axis=1)\n",
    "pivot_df['Neutral %'] = pivot_df['Neutral'] / pivot_df['Total'] * 100\n",
    "pivot_df['Positive %'] = pivot_df['Positive'] / pivot_df['Total'] * 100\n",
    "pivot_df['Negative %'] = pivot_df['Negative'] / pivot_df['Total'] * 100\n",
    "\n",
    "# Filter for relevant columns\n",
    "relevant_columns = ['primaryCategories', 'Neutral %', 'Positive %', 'Negative %']\n",
    "\n",
    "# Plotting\n",
    "fig = px.bar(pivot_df[relevant_columns], x='primaryCategories', y=[col for col in relevant_columns if col!= 'primaryCategories'],\n",
    "             title='Percentage Distribution of Sentiments Across Categories',\n",
    "             labels={'value':'Percentage (%)'},\n",
    "             barmode='group')\n",
    "\n",
    "fig.show()"
   ]
  },
  {
   "cell_type": "markdown",
   "metadata": {},
   "source": [
    "### 3.3.3. Cuurent Trends "
   ]
  },
  {
   "cell_type": "code",
   "execution_count": 30,
   "metadata": {},
   "outputs": [
    {
     "data": {
      "image/png": "[encoded data removed]",
      "text/plain": [
       "<Figure size 1400x500 with 3 Axes>"
      ]
     },
     "metadata": {},
     "output_type": "display_data"
    }
   ],
   "source": [
    "# Extract percentages based on unique polarity values\n",
    "unique_polarities = df.polarity.unique()\n",
    "positive = percentage_df.get(unique_polarities[0], 0) if unique_polarities[0]!= 0 else 0\n",
    "neutral = percentage_df.get(unique_polarities[1], 0) if len(unique_polarities) > 1 else 0\n",
    "negative = percentage_df.get(unique_polarities[-1], 0) if unique_polarities[-1]!= 0 else 0\n",
    "\n",
    "# Determine the highest percentage sentiment\n",
    "highest_sentiment = max(positive, neutral, negative, key=lambda x: x)\n",
    "\n",
    "# Create figure\n",
    "fig = plt.figure(figsize=(14, 5))\n",
    "gs = GridSpec(1, 3, width_ratios=[1, 1, 1])\n",
    "\n",
    "# Gauge chart\n",
    "ax1 = fig.add_subplot(gs[0])\n",
    "colors = ['green', 'orange', 'red']\n",
    "labels = ['Positive', 'Neutral', 'Negative']\n",
    "sizes = [positive, neutral, negative]\n",
    "ax1.pie(sizes, colors=colors, labels=labels, startangle=90, counterclock=False, wedgeprops={'width':0.3})\n",
    "ax1.set_title('Sentiment Distribution')\n",
    "\n",
    "# Percentages\n",
    "ax2 = fig.add_subplot(gs[1])\n",
    "ax2.axis('off')\n",
    "ax2.text(0.5, 0.8, f'Positive\\n{positive:.1f}%', horizontalalignment='center', fontsize=15, color='green')\n",
    "ax2.text(0.5, 0.5, f'Neutral\\n{neutral:.1f}%', horizontalalignment='center', fontsize=15, color='orange')\n",
    "ax2.text(0.5, 0.2, f'Negative\\n{negative:.1f}%', horizontalalignment='center', fontsize=15, color='red')\n",
    "\n",
    "# Trend\n",
    "ax3 = fig.add_subplot(gs[2])\n",
    "ax3.axis('off')\n",
    "trend_text = '😐'\n",
    "if highest_sentiment == positive:\n",
    "    trend_text = '😃'  # Emoji for positive trend\n",
    "elif highest_sentiment == negative:\n",
    "    trend_text = '😞'  # Emoji for negative trend\n",
    "ax3.text(0.5, 0.5, 'Current Trend', horizontalalignment='center', fontsize=20, color='green')\n",
    "ax3.text(0.5, 0.3, trend_text, horizontalalignment='center', fontsize=50)\n",
    "\n",
    "plt.tight_layout()\n",
    "plt.show()"
   ]
  },
  {
   "cell_type": "code",
   "execution_count": 32,
   "metadata": {},
   "outputs": [
    {
     "data": {
      "image/png": "[encoded data removed]",
      "text/plain": [
       "<Figure size 1200x600 with 3 Axes>"
      ]
     },
     "metadata": {},
     "output_type": "display_data"
    }
   ],
   "source": [
    "# Extrait des pourcentages basés sur les valeurs uniques de la subjectivité\n",
    "unique_subjectivities = df.subjectivity.unique()\n",
    "fact_based = df[df.subjectivity == 0].shape[0] / df.shape[0] * 100\n",
    "opinion_based = df[df.subjectivity == 1].shape[0] / df.shape[0] * 100\n",
    "\n",
    "# Détermination de la tendance actuelle\n",
    "highest_subjectivity = max(fact_based, opinion_based, key=lambda x: x)\n",
    "\n",
    "# Création de la figure\n",
    "fig = plt.figure(figsize=(12, 6))\n",
    "gs = GridSpec(1, 3, width_ratios=[1, 1, 1])  # Augmentation de la taille de la grille à 3 colonnes\n",
    "\n",
    "# Graphique en secteurs pour la subjectivité\n",
    "ax1 = fig.add_subplot(gs[0])\n",
    "colors = ['blue', 'purple']\n",
    "labels = ['Facts-based', 'Emotions-based']\n",
    "sizes = [fact_based, opinion_based]\n",
    "ax1.pie(sizes, colors=colors, labels=labels, startangle=90, counterclock=False, wedgeprops={'width':0.3})\n",
    "ax1.set_title('Subjectivité Distribution')\n",
    "\n",
    "# Pourcentages pour la subjectivité\n",
    "ax2 = fig.add_subplot(gs[1])\n",
    "ax2.axis('off')\n",
    "ax2.text(0.5, 0.8, f'Fact-based\\n{fact_based:.1f}%', horizontalalignment='center', fontsize=15, color='blue')\n",
    "ax2.text(0.5, 0.5, f'Emotions-based\\n{opinion_based:.1f}%', horizontalalignment='center', fontsize=15, color='purple')\n",
    "\n",
    "# Tendance actuelle\n",
    "trend_text = ''\n",
    "if highest_subjectivity == fact_based:\n",
    "    trend_text = '🧠'  \n",
    "else:\n",
    "    trend_text = '❤️'  \n",
    "ax3 = fig.add_subplot(gs[2])\n",
    "ax3.axis('off')\n",
    "ax3.text(0.5, 0.5, 'Current Trend', horizontalalignment='center', fontsize=20, color='purple')\n",
    "ax3.text(0.5, 0.3, trend_text, horizontalalignment='center', fontsize=50)\n",
    "\n",
    "plt.tight_layout()\n",
    "plt.show()\n"
   ]
  },
  {
   "cell_type": "markdown",
   "metadata": {},
   "source": [
    "### 3.3.4. Polarity and subjectivity over the time "
   ]
  },
  {
   "cell_type": "code",
   "execution_count": 42,
   "metadata": {},
   "outputs": [
    {
     "data": {
      "image/png": "[encoded data removed]",
      "text/plain": [
       "<Figure size 1200x600 with 1 Axes>"
      ]
     },
     "metadata": {},
     "output_type": "display_data"
    }
   ],
   "source": [
    "# Convert the 'reviews.date' column to datetime using ISO 8601 format\n",
    "df['reviews.date'] = pd.to_datetime(df['reviews.date'], format='ISO8601')\n",
    "\n",
    "# Extract the year from the 'reviews.date' column\n",
    "df['year'] = df['reviews.date'].dt.year\n",
    "\n",
    "# Group the data by year and count the number of sentiments for each category\n",
    "sentiments_grouped = df.groupby('year')['polarity'].value_counts().unstack(fill_value=0)\n",
    "\n",
    "# Rename columns to clarify their meaning\n",
    "sentiments_grouped.columns = ['Positive', 'Neutral', 'Negative']\n",
    "\n",
    "plt.figure(figsize=(12, 6))\n",
    "for column in sentiments_grouped.columns:\n",
    "    color_map = {'Positive': 'green', 'Neutral': 'orange', 'Negative': 'red'}\n",
    "    plt.plot(sentiments_grouped.index, sentiments_grouped[column], marker='o', label=column, color=color_map[column])\n",
    "\n",
    "plt.xlabel('Year')\n",
    "plt.ylabel('Number of Sentiments')\n",
    "plt.title('Polarity Over Time')\n",
    "plt.legend()\n",
    "plt.grid(True)\n",
    "plt.xticks(rotation=45)\n",
    "plt.tight_layout()\n",
    "plt.show()"
   ]
  },
  {
   "cell_type": "code",
   "execution_count": 37,
   "metadata": {},
   "outputs": [
    {
     "data": {
      "image/png": "[encoded data removed]",
      "text/plain": [
       "<Figure size 1200x600 with 1 Axes>"
      ]
     },
     "metadata": {},
     "output_type": "display_data"
    }
   ],
   "source": [
    "# Convert the 'subjectivity' column to binary categories\n",
    "df['subjectivity_binary'] = df['subjectivity'].apply(lambda x: 0 if x <= 0.5 else 1)\n",
    "\n",
    "# Group the data by year and count the number of subjectivities for each category\n",
    "subjectivities_grouped = df.groupby('year')['subjectivity_binary'].value_counts().unstack(fill_value=0)\n",
    "\n",
    "# Rename columns to clarify their meaning\n",
    "subjectivities_grouped.columns = ['Facts-based', 'Opinions-based']\n",
    "\n",
    "plt.figure(figsize=(12, 6))\n",
    "for column in subjectivities_grouped.columns:\n",
    "    plt.plot(subjectivities_grouped.index, subjectivities_grouped[column], marker='o', label=column, color='blue' if column == 'Facts-based' else 'purple')\n",
    "\n",
    "plt.xlabel('Year')\n",
    "plt.ylabel('Number of Subjectivities')\n",
    "plt.title('Subjectivity Over Time')\n",
    "plt.legend()\n",
    "plt.grid(True)\n",
    "plt.xticks(rotation=45)\n",
    "plt.tight_layout()\n",
    "plt.show()"
   ]
  }
 ],
 "metadata": {
  "kernelspec": {
   "display_name": "Python 3",
   "language": "python",
   "name": "python3"
  },
  "language_info": {
   "codemirror_mode": {
    "name": "ipython",
    "version": 3
   },
   "file_extension": ".py",
   "mimetype": "text/x-python",
   "name": "python",
   "nbconvert_exporter": "python",
   "pygments_lexer": "ipython3",
   "version": "3.12.1"
  }
 },
 "nbformat": 4,
 "nbformat_minor": 2
}
