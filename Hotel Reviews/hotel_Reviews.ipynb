{
 "cells": [
  {
   "cell_type": "markdown",
   "metadata": {},
   "source": [
    "# 0. Chargement du dataset"
   ]
  },
  {
   "cell_type": "code",
   "execution_count": 2,
   "metadata": {},
   "outputs": [],
   "source": [
    "import pandas as pd\n",
    "import numpy as np\n",
    "import seaborn as sns\n",
    "import matplotlib.pyplot as plt\n",
    "import folium\n",
    "import plotly.express as px\n",
    "import sort_dataframeby_monthorweek as sd\n",
    "\n",
    "#NLP packages\n",
    "from textblob import TextBlob\n",
    "\n",
    "plt.style.use('fivethirtyeight')\n",
    "%matplotlib inline\n",
    "pd.set_option('display.max_columns', 25)\n",
    "df= pd.read_csv('Datafiniti_Hotel_Reviews.csv', sep=',')"
   ]
  },
  {
   "cell_type": "markdown",
   "metadata": {},
   "source": [
    "# 1. Exploration et préparation des données"
   ]
  },
  {
   "cell_type": "code",
   "execution_count": 31,
   "metadata": {},
   "outputs": [
    {
     "data": {
      "text/html": [
       "<div>\n",
       "<style scoped>\n",
       "    .dataframe tbody tr th:only-of-type {\n",
       "        vertical-align: middle;\n",
       "    }\n",
       "\n",
       "    .dataframe tbody tr th {\n",
       "        vertical-align: top;\n",
       "    }\n",
       "\n",
       "    .dataframe thead th {\n",
       "        text-align: right;\n",
       "    }\n",
       "</style>\n",
       "<table border=\"1\" class=\"dataframe\">\n",
       "  <thead>\n",
       "    <tr style=\"text-align: right;\">\n",
       "      <th></th>\n",
       "      <th>id</th>\n",
       "      <th>dateAdded</th>\n",
       "      <th>dateUpdated</th>\n",
       "      <th>address</th>\n",
       "      <th>categories</th>\n",
       "      <th>primaryCategories</th>\n",
       "      <th>city</th>\n",
       "      <th>country</th>\n",
       "      <th>keys</th>\n",
       "      <th>latitude</th>\n",
       "      <th>longitude</th>\n",
       "      <th>name</th>\n",
       "      <th>postalCode</th>\n",
       "      <th>province</th>\n",
       "      <th>reviews.date</th>\n",
       "      <th>reviews.dateSeen</th>\n",
       "      <th>reviews.rating</th>\n",
       "      <th>reviews.sourceURLs</th>\n",
       "      <th>reviews.text</th>\n",
       "      <th>reviews.title</th>\n",
       "      <th>reviews.userCity</th>\n",
       "      <th>reviews.userProvince</th>\n",
       "      <th>reviews.username</th>\n",
       "      <th>sourceURLs</th>\n",
       "      <th>websites</th>\n",
       "    </tr>\n",
       "  </thead>\n",
       "  <tbody>\n",
       "    <tr>\n",
       "      <th>0</th>\n",
       "      <td>AVwc252WIN2L1WUfpqLP</td>\n",
       "      <td>2016-10-30T21:42:42Z</td>\n",
       "      <td>2018-09-10T21:06:27Z</td>\n",
       "      <td>5921 Valencia Cir</td>\n",
       "      <td>Hotels,Hotels and motels,Hotel and motel reservations,Resorts,Resort,Hotel</td>\n",
       "      <td>Accommodation &amp; Food Services</td>\n",
       "      <td>Rancho Santa Fe</td>\n",
       "      <td>US</td>\n",
       "      <td>us/ca/ranchosantafe/5921valenciacir/359754519</td>\n",
       "      <td>32.990959</td>\n",
       "      <td>-117.186136</td>\n",
       "      <td>Rancho Valencia Resort Spa</td>\n",
       "      <td>92067</td>\n",
       "      <td>CA</td>\n",
       "      <td>2013-11-14T00:00:00Z</td>\n",
       "      <td>2016-08-03T00:00:00Z,2016-07-26T00:00:00Z,2016-08-02T00:00:00Z,2016-07-17T00:00:00Z,2016-08-27T00:00:00Z,2016-08-23T00:00:00Z,2016-08-09T00:00:00Z,2016-11-07T00:00:00Z,2016-08-26T00:00:00Z</td>\n",
       "      <td>5.0</td>\n",
       "      <td>https://www.hotels.com/hotel/125419/reviews%20/</td>\n",
       "      <td>Our experience at Rancho Valencia was absolutely perfect from beginning to end!!!! We felt special and very happy during our stayed. I would come back in a heart beat!!!</td>\n",
       "      <td>Best romantic vacation ever!!!!</td>\n",
       "      <td>NaN</td>\n",
       "      <td>NaN</td>\n",
       "      <td>Paula</td>\n",
       "      <td>http://www.hotels.com/ho125419/%25252525253Flocale%25252525253Den_US%252525252526pos%25252525253DHCOM_US,http://www.yellowbook.com/profile/rancho-valencia-resort-and-spa_1895174051.html,https://www.hotels.com/hotel/125419/reviews%20/,https://foursquare.com/v/rancho-valencia-resort--spa/4aaedb79f964a5208f6320e3,http://www.gayot.com/Hotels/Select-Your-City/United-States/California/San-Diego/Rancho-Valencia-Resort-Spa-Rancho-Santa-Fe-SDHOT02319-02</td>\n",
       "      <td>http://www.ranchovalencia.com</td>\n",
       "    </tr>\n",
       "    <tr>\n",
       "      <th>1</th>\n",
       "      <td>AVwc252WIN2L1WUfpqLP</td>\n",
       "      <td>2016-10-30T21:42:42Z</td>\n",
       "      <td>2018-09-10T21:06:27Z</td>\n",
       "      <td>5921 Valencia Cir</td>\n",
       "      <td>Hotels,Hotels and motels,Hotel and motel reservations,Resorts,Resort,Hotel</td>\n",
       "      <td>Accommodation &amp; Food Services</td>\n",
       "      <td>Rancho Santa Fe</td>\n",
       "      <td>US</td>\n",
       "      <td>us/ca/ranchosantafe/5921valenciacir/359754519</td>\n",
       "      <td>32.990959</td>\n",
       "      <td>-117.186136</td>\n",
       "      <td>Rancho Valencia Resort Spa</td>\n",
       "      <td>92067</td>\n",
       "      <td>CA</td>\n",
       "      <td>2014-07-06T00:00:00Z</td>\n",
       "      <td>2016-08-02T00:00:00Z,2016-08-26T00:00:00Z,2016-08-03T00:00:00Z,2016-07-17T00:00:00Z,2016-08-09T00:00:00Z,2016-08-23T00:00:00Z,2016-08-27T00:00:00Z,2016-11-15T00:00:00Z,2016-07-26T00:00:00Z</td>\n",
       "      <td>5.0</td>\n",
       "      <td>https://www.hotels.com/hotel/125419/reviews%20/</td>\n",
       "      <td>Amazing place. Everyone was extremely warm and welcoming. We've stayed at some top notch places and this is definitely in our top 2. Great for a romantic getaway or take the kids along as we did. Had a couple stuffed animals waiting for our girls upon arrival. Can't wait to go back.</td>\n",
       "      <td>Sweet sweet serenity</td>\n",
       "      <td>NaN</td>\n",
       "      <td>NaN</td>\n",
       "      <td>D</td>\n",
       "      <td>http://www.hotels.com/ho125419/%25252525253Flocale%25252525253Den_US%252525252526pos%25252525253DHCOM_US,http://www.yellowbook.com/profile/rancho-valencia-resort-and-spa_1895174051.html,https://www.hotels.com/hotel/125419/reviews%20/,https://foursquare.com/v/rancho-valencia-resort--spa/4aaedb79f964a5208f6320e3,http://www.gayot.com/Hotels/Select-Your-City/United-States/California/San-Diego/Rancho-Valencia-Resort-Spa-Rancho-Santa-Fe-SDHOT02319-02</td>\n",
       "      <td>http://www.ranchovalencia.com</td>\n",
       "    </tr>\n",
       "    <tr>\n",
       "      <th>2</th>\n",
       "      <td>AVwc252WIN2L1WUfpqLP</td>\n",
       "      <td>2016-10-30T21:42:42Z</td>\n",
       "      <td>2018-09-10T21:06:27Z</td>\n",
       "      <td>5921 Valencia Cir</td>\n",
       "      <td>Hotels,Hotels and motels,Hotel and motel reservations,Resorts,Resort,Hotel</td>\n",
       "      <td>Accommodation &amp; Food Services</td>\n",
       "      <td>Rancho Santa Fe</td>\n",
       "      <td>US</td>\n",
       "      <td>us/ca/ranchosantafe/5921valenciacir/359754519</td>\n",
       "      <td>32.990959</td>\n",
       "      <td>-117.186136</td>\n",
       "      <td>Rancho Valencia Resort Spa</td>\n",
       "      <td>92067</td>\n",
       "      <td>CA</td>\n",
       "      <td>2015-01-02T00:00:00Z</td>\n",
       "      <td>2016-11-15T00:00:00Z,2016-08-23T00:00:00Z,2016-08-27T00:00:00Z,2016-07-26T00:00:00Z,2016-08-02T00:00:00Z,2016-07-17T00:00:00Z,2016-08-03T00:00:00Z,2016-08-09T00:00:00Z,2016-08-26T00:00:00Z</td>\n",
       "      <td>5.0</td>\n",
       "      <td>https://www.hotels.com/hotel/125419/reviews%20/</td>\n",
       "      <td>We booked a 3 night stay at Rancho Valencia to play some tennis, since it is one of the highest rated tennis resorts in America. This place is really over the top from a luxury standpoint and overall experience. The villas are really perfect, the staff is great, attention to details (includes fresh squeezed orange juice each morning), restaurants, bar and room service amazing, and the tennis program was really impressive as well. We will want to come back here again.</td>\n",
       "      <td>Amazing Property and Experience</td>\n",
       "      <td>NaN</td>\n",
       "      <td>NaN</td>\n",
       "      <td>Ron</td>\n",
       "      <td>http://www.hotels.com/ho125419/%25252525253Flocale%25252525253Den_US%252525252526pos%25252525253DHCOM_US,http://www.yellowbook.com/profile/rancho-valencia-resort-and-spa_1895174051.html,https://www.hotels.com/hotel/125419/reviews%20/,https://foursquare.com/v/rancho-valencia-resort--spa/4aaedb79f964a5208f6320e3,http://www.gayot.com/Hotels/Select-Your-City/United-States/California/San-Diego/Rancho-Valencia-Resort-Spa-Rancho-Santa-Fe-SDHOT02319-02</td>\n",
       "      <td>http://www.ranchovalencia.com</td>\n",
       "    </tr>\n",
       "    <tr>\n",
       "      <th>3</th>\n",
       "      <td>AVwdOclqIN2L1WUfti38</td>\n",
       "      <td>2015-11-28T19:19:35Z</td>\n",
       "      <td>2018-09-10T21:06:16Z</td>\n",
       "      <td>7520 Teague Rd</td>\n",
       "      <td>Hotels,Hotels and motels,Travel agencies and bureaus,Hotel and Motel Management,Hotel &amp; Motel Management,Motels,Hotel</td>\n",
       "      <td>Accommodation &amp; Food Services</td>\n",
       "      <td>Hanover</td>\n",
       "      <td>US</td>\n",
       "      <td>us/md/hanover/7520teaguerd/-2043779672</td>\n",
       "      <td>39.155929</td>\n",
       "      <td>-76.716341</td>\n",
       "      <td>Aloft Arundel Mills</td>\n",
       "      <td>21076</td>\n",
       "      <td>MD</td>\n",
       "      <td>2016-05-15T00:00:00Z</td>\n",
       "      <td>2016-05-21T00:00:00Z,2016-07-31T00:00:00Z</td>\n",
       "      <td>2.0</td>\n",
       "      <td>https://www.tripadvisor.com/Hotel_Review-g41185-d1239660-Reviews-Aloft_Arundel_Mills-Hanover_Maryland.html,https://www.tripadvisor.com/Hotel_Review-g41185-d1239660-Reviews-or40-Aloft_Arundel_Mills-Hanover_Maryland.html%2525252523REVIEWS</td>\n",
       "      <td>Currently in bed writing this for the past hr 1/2 there have been dogs barking and squealing call the front desk to advise basically to be told there's nothing they can do. 315.00 and I can't sleep.</td>\n",
       "      <td>Never again...beware, if you want sleep.</td>\n",
       "      <td>Richmond</td>\n",
       "      <td>VA</td>\n",
       "      <td>jaeem2016</td>\n",
       "      <td>http://www.yellowbook.com/profile/aloft-arundel-mills_1896561264.html,https://www.yellowpages.com/hanover-md/mip/aloft-arundel-mills-458499145,https://www.hotels.com/hotel/309972/reviews%20/,http://www.yellowpages.com/hanover-md/mip/arundel-mills-hotel-partners-471898728,https://www.tripadvisor.com/Hotel_Review-g41185-d1239660-Reviews-Aloft_Arundel_Mills-Hanover_Maryland.html,https://foursquare.com/v/aloft-arundel-mills/4b82b437f964a5206edf30e3,http://www.yellowpages.com/hanover-md/mip/aloft-arundel-mills-458499145</td>\n",
       "      <td>http://www.starwoodhotels.com/alofthotels/property/overview/index.html?propertyID=3050?scid=45f93f1b-bd77-45c9-8dab-83b6a417f6fe,http://www.aloftarundelmills.com,https://www.marriott.com/hotels/travel/bwima-aloft-arundel-mills-bwi-airport/</td>\n",
       "    </tr>\n",
       "    <tr>\n",
       "      <th>4</th>\n",
       "      <td>AVwdOclqIN2L1WUfti38</td>\n",
       "      <td>2015-11-28T19:19:35Z</td>\n",
       "      <td>2018-09-10T21:06:16Z</td>\n",
       "      <td>7520 Teague Rd</td>\n",
       "      <td>Hotels,Hotels and motels,Travel agencies and bureaus,Hotel and Motel Management,Hotel &amp; Motel Management,Motels,Hotel</td>\n",
       "      <td>Accommodation &amp; Food Services</td>\n",
       "      <td>Hanover</td>\n",
       "      <td>US</td>\n",
       "      <td>us/md/hanover/7520teaguerd/-2043779672</td>\n",
       "      <td>39.155929</td>\n",
       "      <td>-76.716341</td>\n",
       "      <td>Aloft Arundel Mills</td>\n",
       "      <td>21076</td>\n",
       "      <td>MD</td>\n",
       "      <td>2016-07-09T00:00:00Z</td>\n",
       "      <td>2016-07-31T00:00:00Z</td>\n",
       "      <td>5.0</td>\n",
       "      <td>https://www.tripadvisor.com/Hotel_Review-g41185-d1239660-Reviews-or10-Aloft_Arundel_Mills-Hanover_Maryland.html%2525252523REVIEWS</td>\n",
       "      <td>I live in Md and the Aloft is my Home away from home...we stayed 1 night 7-7-16 ...Staff is great ! Especially Olivia who was Extra special because she remembered me by my voice over the phone ...which tells me she is very alert and pays attention to the customer their needs.AND SHE DID ! Thumbs up... More</td>\n",
       "      <td>ALWAYS GREAT STAY...</td>\n",
       "      <td>Laurel</td>\n",
       "      <td>MD</td>\n",
       "      <td>MamaNiaOne</td>\n",
       "      <td>http://www.yellowbook.com/profile/aloft-arundel-mills_1896561264.html,https://www.yellowpages.com/hanover-md/mip/aloft-arundel-mills-458499145,https://www.hotels.com/hotel/309972/reviews%20/,http://www.yellowpages.com/hanover-md/mip/arundel-mills-hotel-partners-471898728,https://www.tripadvisor.com/Hotel_Review-g41185-d1239660-Reviews-Aloft_Arundel_Mills-Hanover_Maryland.html,https://foursquare.com/v/aloft-arundel-mills/4b82b437f964a5206edf30e3,http://www.yellowpages.com/hanover-md/mip/aloft-arundel-mills-458499145</td>\n",
       "      <td>http://www.starwoodhotels.com/alofthotels/property/overview/index.html?propertyID=3050?scid=45f93f1b-bd77-45c9-8dab-83b6a417f6fe,http://www.aloftarundelmills.com,https://www.marriott.com/hotels/travel/bwima-aloft-arundel-mills-bwi-airport/</td>\n",
       "    </tr>\n",
       "    <tr>\n",
       "      <th>...</th>\n",
       "      <td>...</td>\n",
       "      <td>...</td>\n",
       "      <td>...</td>\n",
       "      <td>...</td>\n",
       "      <td>...</td>\n",
       "      <td>...</td>\n",
       "      <td>...</td>\n",
       "      <td>...</td>\n",
       "      <td>...</td>\n",
       "      <td>...</td>\n",
       "      <td>...</td>\n",
       "      <td>...</td>\n",
       "      <td>...</td>\n",
       "      <td>...</td>\n",
       "      <td>...</td>\n",
       "      <td>...</td>\n",
       "      <td>...</td>\n",
       "      <td>...</td>\n",
       "      <td>...</td>\n",
       "      <td>...</td>\n",
       "      <td>...</td>\n",
       "      <td>...</td>\n",
       "      <td>...</td>\n",
       "      <td>...</td>\n",
       "      <td>...</td>\n",
       "    </tr>\n",
       "    <tr>\n",
       "      <th>9995</th>\n",
       "      <td>AVwd4TMv_7pvs4fz-Ers</td>\n",
       "      <td>2016-03-24T11:44:15Z</td>\n",
       "      <td>2018-01-01T00:00:46Z</td>\n",
       "      <td>215 S Pacific St</td>\n",
       "      <td>Hotel,Hotels,Lodging,Motels</td>\n",
       "      <td>Accommodation &amp; Food Services</td>\n",
       "      <td>Rockaway Beach</td>\n",
       "      <td>US</td>\n",
       "      <td>us/or/rockawaybeach/215spacificst/-1035432852</td>\n",
       "      <td>45.611260</td>\n",
       "      <td>-123.945560</td>\n",
       "      <td>Silver Sands Oceanfront Motel</td>\n",
       "      <td>97136-9596</td>\n",
       "      <td>OR</td>\n",
       "      <td>2016-03-13T00:00:00Z</td>\n",
       "      <td>2016-03-23T00:00:00Z</td>\n",
       "      <td>3.0</td>\n",
       "      <td>http://www.tripadvisor.com/Hotel_Review-g52043-d602316-Reviews-Silver_Sands_Oceanfront_Motel-Rockaway_Beach_Oregon.html</td>\n",
       "      <td>It is hard for me to review an oceanfront hotel. I go for the ocean and not necessarily the hotel. While this place is definitely far above average, there are just a couple of things that need mentioning. Firat the good. Very very accomodating. The staff was versatile and seemed eager to please. Our room was very clean and modern... More</td>\n",
       "      <td>Picture Window Ocean View!</td>\n",
       "      <td>Wildwood</td>\n",
       "      <td>GA</td>\n",
       "      <td>LASH0211</td>\n",
       "      <td>https://www.tripadvisor.com/Hotel_Review-g52043-d602316-Reviews-Silver_Sands_Oceanfront_Motel-Rockaway_Beach_Oregon.html,http://www.tripadvisor.com/Hotel_Review-g52043-d602316-Reviews-Silver_Sands_Oceanfront_Motel-Rockaway_Beach_Oregon.html,http://www.yellowpages.com/rockaway-beach-or/mip/silver-sands-oceanfront-motel-1583571</td>\n",
       "      <td>http://www.oregonsilversands.com</td>\n",
       "    </tr>\n",
       "    <tr>\n",
       "      <th>9996</th>\n",
       "      <td>AVwdRp4DIN2L1WUfuGZZ</td>\n",
       "      <td>2015-10-26T23:03:02Z</td>\n",
       "      <td>2018-01-01T00:00:44Z</td>\n",
       "      <td>669 Route 6a</td>\n",
       "      <td>Hotel,Hotels</td>\n",
       "      <td>Accommodation &amp; Food Services</td>\n",
       "      <td>East Sandwich</td>\n",
       "      <td>US</td>\n",
       "      <td>us/ma/eastsandwich/669route6a/-1480952475</td>\n",
       "      <td>41.729390</td>\n",
       "      <td>-70.399250</td>\n",
       "      <td>Sandy Neck Motel</td>\n",
       "      <td>02537-1472</td>\n",
       "      <td>MA</td>\n",
       "      <td>2015-12-11T00:00:00Z</td>\n",
       "      <td>2016-05-13T00:00:00Z,2016-03-21T00:00:00Z</td>\n",
       "      <td>4.0</td>\n",
       "      <td>https://www.tripadvisor.com/Hotel_Review-g41548-d1071627-Reviews-Sandy_Neck_Motel-East_Sandwich_Sandwich_Cape_Cod_Massachusetts.html,http://www.tripadvisor.com/Hotel_Review-g41548-d1071627-Reviews-Sandy_Neck_Motel-East_Sandwich_Sandwich_Cape_Cod_Massachusetts.html</td>\n",
       "      <td>I live close by, and needed to stay somewhere for a night due to renovation work at home. I called at 9:30 PM, and they had a room available. It was clean, comfortable, and quiet. The bed was very comfortable, and we had a sound night's sleep. The check in was smooth, and seeing wild turkeys in he tree out... More</td>\n",
       "      <td>Clean, comfortable and quiet</td>\n",
       "      <td>East Sandwich</td>\n",
       "      <td>MA</td>\n",
       "      <td>Gennaker</td>\n",
       "      <td>https://www.tripadvisor.com/Hotel_Review-g41548-d1071627-Reviews-Sandy_Neck_Motel-East_Sandwich_Sandwich_Cape_Cod_Massachusetts.html,http://tripadvisor.com/Hotel_Review-g41548-d1071627-Reviews-Sandy_Neck_Motel-East_Sandwich_Sandwich_Cape_Cod_Massachusetts.html,http://www.tripadvisor.com/Hotel_Review-g41548-d1071627-Reviews-Sandy_Neck_Motel-East_Sandwich_Sandwich_Cape_Cod_Massachusetts.html,http://www.yellowpages.com/east-sandwich-ma/mip/sandy-neck-motel-462664838</td>\n",
       "      <td>http://www.sandyneck.com</td>\n",
       "    </tr>\n",
       "    <tr>\n",
       "      <th>9997</th>\n",
       "      <td>AVwd1TbkByjofQCxs6FH</td>\n",
       "      <td>2016-06-11T03:12:23Z</td>\n",
       "      <td>2018-01-01T00:00:44Z</td>\n",
       "      <td>702 W Appleway Ave</td>\n",
       "      <td>Hotel,Hotel, Motel, and Building,Hotels,Lodging,Resorts</td>\n",
       "      <td>Accommodation &amp; Food Services</td>\n",
       "      <td>Coeur d'Alene</td>\n",
       "      <td>US</td>\n",
       "      <td>us/id/coeurd'alene/702wapplewayave/210547670</td>\n",
       "      <td>47.699930</td>\n",
       "      <td>-116.796900</td>\n",
       "      <td>Shilo Inn Suites - Coeur d'Alene</td>\n",
       "      <td>83814-9338</td>\n",
       "      <td>ID</td>\n",
       "      <td>2017-11-17T00:00:00.000Z</td>\n",
       "      <td>2017-12-17T00:00:00Z</td>\n",
       "      <td>4.0</td>\n",
       "      <td>https://www.tripadvisor.com/Hotel_Review-g35418-d90312-Reviews-Shilo_Inn_Suites_Coeur_d_Alene-Coeur_d_Alene_Idaho.html</td>\n",
       "      <td>Rolled in 11:30 laid out heads down woke up to continental breakfast and rolled out at daybreak. It is under construction but heat they have done so far is beautiful. Very nice updated pool area for an older motel. The staff was super nice</td>\n",
       "      <td>Passing through</td>\n",
       "      <td>Montana</td>\n",
       "      <td>UnitedStates</td>\n",
       "      <td>Amber406</td>\n",
       "      <td>https://www.tripadvisor.com/Hotel_Review-g35418-d90312-Reviews-Shilo_Inn_Suites_Coeur_d_Alene-Coeur_d_Alene_Idaho.html,http://tripadvisor.com/Hotel_Review-g35418-d90312-Reviews-Shilo_Inn_Suites_Coeur_d_Alene-Coeur_d_Alene_Idaho.html,http://www.yellowpages.com/coeur-d-alene-id/mip/shilo-inn-suites-coeur-dalene-2576475,https://foursquare.com/v/shilo-inn-suites--coeur-dalene/4b6dd105f964a5209c922ce3</td>\n",
       "      <td>http://www.shiloinns.com</td>\n",
       "    </tr>\n",
       "    <tr>\n",
       "      <th>9998</th>\n",
       "      <td>AVwdHbizIN2L1WUfsXto</td>\n",
       "      <td>2016-12-13T03:44:36Z</td>\n",
       "      <td>2018-01-01T00:00:43Z</td>\n",
       "      <td>2295 N Highland Ave</td>\n",
       "      <td>Hotel,Hotels Motels,Budget Hotels,Hotels &amp; Motels</td>\n",
       "      <td>Accommodation &amp; Food Services</td>\n",
       "      <td>Jackson</td>\n",
       "      <td>US</td>\n",
       "      <td>us/tn/jackson/2295nhighlandave/1759289930</td>\n",
       "      <td>35.666390</td>\n",
       "      <td>-88.830120</td>\n",
       "      <td>Scottish Inn</td>\n",
       "      <td>38305-4922</td>\n",
       "      <td>TN</td>\n",
       "      <td>2016-06-09T00:00:00Z</td>\n",
       "      <td>2016-07-16T00:00:00Z</td>\n",
       "      <td>1.0</td>\n",
       "      <td>https://www.tripadvisor.com/Hotel_Review-g55123-d5461387-Reviews-Scottish_Inn-Jackson_Tennessee.html</td>\n",
       "      <td>Absolutely terrible..I was told I was being given a Non smoking room. I walked in and it smelled of smoke with a ash tray sitting on table. Checked in late. Smoke is miserable..checking out as I type. Police were in parking lot as I was pulling in. People walking through parking lot heading back to houses in back of hotel..Avoid... More</td>\n",
       "      <td>Terrible</td>\n",
       "      <td>woodbury</td>\n",
       "      <td>NaN</td>\n",
       "      <td>donWoodbury</td>\n",
       "      <td>https://www.tripadvisor.com/Hotel_Review-g55123-d5461387-Reviews-Scottish_Inn-Jackson_Tennessee.html,http://www.citysearch.com/profile/9480951/jackson_tn/scottish_inn.html</td>\n",
       "      <td>http://api.citygridmedia.com/content/places/v2/click?q=9YKflVKbY9NauPJdMy0B1gS1IhB4xv4EWw0zDoT-UWc_izWF3zs5PKGdfOHubWrvM0QwDCYwbOH2fdLi0dK5xArULcksCCbfR-WWAz9xD1AmGVAQZIom4U3n5R4DuRC8WJCtvJcNItEKoCSfzwapuGnmwGnHDpEGYXGjnN4u8zXqkiimSHFf4_dbqGRbVgNJAOYth7ZVX-vH6oaykIx9Pi1qAPbeRxvGb4VoHNEI3E7x1jEtQSxgW56frdeWRrsLdypFUd33E7Hj_aARhqkT-1Bp-8sE58zr_eqLJBTLPKhbx-FnTZPivO876NMGBu9ans992_2MQ3qNDaOACme-W7i1JxfFBUVdnVd2G1-IV1QbLOyogwGLgkZM6fbsbzn8dukYZRcjRIq_DPH4-1DDun_1l6bPCRaA9FhTbR0NrXXLvTV0prs7lrstG6thz4P38aSwYdfz0EswBrWkBuzvYS2EL5HZrpjKma_QNC6iTWpSzco3y9LljEXwmiNPy8_ntqWq-Evm2i5Iw9u1DKIKzvZS5m6_uQZEfNEwjc2yUH-VOkYP8EKwXAhbpRw1RFBB40hAvDDeeUba3P2WJ4ege4fLoRDTGjWARuMeDF-AH27k1dGGiWPKqkehym-t5tlm8Cr2Fbn7xNxKEqMEnfGOgg&amp;placement=listing_profile&amp;cs_user=unknown&amp;cs_session=b5b519098ad18220ebc6f17529abedb69f4bd1bb</td>\n",
       "    </tr>\n",
       "    <tr>\n",
       "      <th>9999</th>\n",
       "      <td>AVwddMfdIN2L1WUfwAue</td>\n",
       "      <td>2016-06-22T19:07:21Z</td>\n",
       "      <td>2018-01-01T00:00:43Z</td>\n",
       "      <td>3811 Minnesota Dr</td>\n",
       "      <td>Hotel,Motels,Lodging,Hotels,Hotels and Motels</td>\n",
       "      <td>Accommodation &amp; Food Services</td>\n",
       "      <td>Anchorage</td>\n",
       "      <td>US</td>\n",
       "      <td>us/ak/anchorage/3811minnesotadr/806029870</td>\n",
       "      <td>61.185310</td>\n",
       "      <td>-149.912000</td>\n",
       "      <td>Royal Suite Lodge</td>\n",
       "      <td>99503-5679</td>\n",
       "      <td>AK</td>\n",
       "      <td>2013-09-03T00:00:00.000Z</td>\n",
       "      <td>2017-12-17T00:00:00Z</td>\n",
       "      <td>1.0</td>\n",
       "      <td>https://www.tripadvisor.com/Hotel_Review-g60880-d287367-Reviews-Royal_Suite_Lodge-Anchorage_Alaska.html</td>\n",
       "      <td>Filthy, outdated, noisy neighbours, but this was not the worst. We were nearly eaten by the bed bugs, more agressive than Denali bears. I would not reccomend this hole even to my worst enemy. Next day we needed medical help.</td>\n",
       "      <td>Polde</td>\n",
       "      <td>Sempeter pri Gorici</td>\n",
       "      <td>Slovenia</td>\n",
       "      <td>janezr2013</td>\n",
       "      <td>https://www.tripadvisor.com/Hotel_Review-g60880-d287367-Reviews-Royal_Suite_Lodge-Anchorage_Alaska.html,http://www.yellowpages.com/anchorage-ak/mip/royal-suite-lodge-3164983,http://www.local.com/business/details/map/anchorage-ak/royal-suite-lodge-69826/</td>\n",
       "      <td>http://royalsuitealaska.com</td>\n",
       "    </tr>\n",
       "  </tbody>\n",
       "</table>\n",
       "<p>10000 rows × 25 columns</p>\n",
       "</div>"
      ],
      "text/plain": [
       "                        id             dateAdded           dateUpdated  \\\n",
       "0     AVwc252WIN2L1WUfpqLP  2016-10-30T21:42:42Z  2018-09-10T21:06:27Z   \n",
       "1     AVwc252WIN2L1WUfpqLP  2016-10-30T21:42:42Z  2018-09-10T21:06:27Z   \n",
       "2     AVwc252WIN2L1WUfpqLP  2016-10-30T21:42:42Z  2018-09-10T21:06:27Z   \n",
       "3     AVwdOclqIN2L1WUfti38  2015-11-28T19:19:35Z  2018-09-10T21:06:16Z   \n",
       "4     AVwdOclqIN2L1WUfti38  2015-11-28T19:19:35Z  2018-09-10T21:06:16Z   \n",
       "...                    ...                   ...                   ...   \n",
       "9995  AVwd4TMv_7pvs4fz-Ers  2016-03-24T11:44:15Z  2018-01-01T00:00:46Z   \n",
       "9996  AVwdRp4DIN2L1WUfuGZZ  2015-10-26T23:03:02Z  2018-01-01T00:00:44Z   \n",
       "9997  AVwd1TbkByjofQCxs6FH  2016-06-11T03:12:23Z  2018-01-01T00:00:44Z   \n",
       "9998  AVwdHbizIN2L1WUfsXto  2016-12-13T03:44:36Z  2018-01-01T00:00:43Z   \n",
       "9999  AVwddMfdIN2L1WUfwAue  2016-06-22T19:07:21Z  2018-01-01T00:00:43Z   \n",
       "\n",
       "                  address  \\\n",
       "0     5921 Valencia Cir     \n",
       "1     5921 Valencia Cir     \n",
       "2     5921 Valencia Cir     \n",
       "3     7520 Teague Rd        \n",
       "4     7520 Teague Rd        \n",
       "...              ...        \n",
       "9995  215 S Pacific St      \n",
       "9996  669 Route 6a          \n",
       "9997  702 W Appleway Ave    \n",
       "9998  2295 N Highland Ave   \n",
       "9999  3811 Minnesota Dr     \n",
       "\n",
       "                                                                                                                 categories  \\\n",
       "0     Hotels,Hotels and motels,Hotel and motel reservations,Resorts,Resort,Hotel                                              \n",
       "1     Hotels,Hotels and motels,Hotel and motel reservations,Resorts,Resort,Hotel                                              \n",
       "2     Hotels,Hotels and motels,Hotel and motel reservations,Resorts,Resort,Hotel                                              \n",
       "3     Hotels,Hotels and motels,Travel agencies and bureaus,Hotel and Motel Management,Hotel & Motel Management,Motels,Hotel   \n",
       "4     Hotels,Hotels and motels,Travel agencies and bureaus,Hotel and Motel Management,Hotel & Motel Management,Motels,Hotel   \n",
       "...                                                                                                                     ...   \n",
       "9995  Hotel,Hotels,Lodging,Motels                                                                                             \n",
       "9996  Hotel,Hotels                                                                                                            \n",
       "9997  Hotel,Hotel, Motel, and Building,Hotels,Lodging,Resorts                                                                 \n",
       "9998  Hotel,Hotels Motels,Budget Hotels,Hotels & Motels                                                                       \n",
       "9999  Hotel,Motels,Lodging,Hotels,Hotels and Motels                                                                           \n",
       "\n",
       "                  primaryCategories             city country  \\\n",
       "0     Accommodation & Food Services  Rancho Santa Fe  US       \n",
       "1     Accommodation & Food Services  Rancho Santa Fe  US       \n",
       "2     Accommodation & Food Services  Rancho Santa Fe  US       \n",
       "3     Accommodation & Food Services  Hanover          US       \n",
       "4     Accommodation & Food Services  Hanover          US       \n",
       "...                             ...      ...          ..       \n",
       "9995  Accommodation & Food Services  Rockaway Beach   US       \n",
       "9996  Accommodation & Food Services  East Sandwich    US       \n",
       "9997  Accommodation & Food Services  Coeur d'Alene    US       \n",
       "9998  Accommodation & Food Services  Jackson          US       \n",
       "9999  Accommodation & Food Services  Anchorage        US       \n",
       "\n",
       "                                               keys   latitude   longitude  \\\n",
       "0     us/ca/ranchosantafe/5921valenciacir/359754519  32.990959 -117.186136   \n",
       "1     us/ca/ranchosantafe/5921valenciacir/359754519  32.990959 -117.186136   \n",
       "2     us/ca/ranchosantafe/5921valenciacir/359754519  32.990959 -117.186136   \n",
       "3     us/md/hanover/7520teaguerd/-2043779672         39.155929 -76.716341    \n",
       "4     us/md/hanover/7520teaguerd/-2043779672         39.155929 -76.716341    \n",
       "...                                      ...               ...        ...    \n",
       "9995  us/or/rockawaybeach/215spacificst/-1035432852  45.611260 -123.945560   \n",
       "9996  us/ma/eastsandwich/669route6a/-1480952475      41.729390 -70.399250    \n",
       "9997  us/id/coeurd'alene/702wapplewayave/210547670   47.699930 -116.796900   \n",
       "9998  us/tn/jackson/2295nhighlandave/1759289930      35.666390 -88.830120    \n",
       "9999  us/ak/anchorage/3811minnesotadr/806029870      61.185310 -149.912000   \n",
       "\n",
       "                                  name  postalCode province  \\\n",
       "0     Rancho Valencia Resort Spa        92067       CA        \n",
       "1     Rancho Valencia Resort Spa        92067       CA        \n",
       "2     Rancho Valencia Resort Spa        92067       CA        \n",
       "3     Aloft Arundel Mills               21076       MD        \n",
       "4     Aloft Arundel Mills               21076       MD        \n",
       "...                   ...                 ...       ..        \n",
       "9995  Silver Sands Oceanfront Motel     97136-9596  OR        \n",
       "9996  Sandy Neck Motel                  02537-1472  MA        \n",
       "9997  Shilo Inn Suites - Coeur d'Alene  83814-9338  ID        \n",
       "9998  Scottish Inn                      38305-4922  TN        \n",
       "9999  Royal Suite Lodge                 99503-5679  AK        \n",
       "\n",
       "                  reviews.date  \\\n",
       "0     2013-11-14T00:00:00Z       \n",
       "1     2014-07-06T00:00:00Z       \n",
       "2     2015-01-02T00:00:00Z       \n",
       "3     2016-05-15T00:00:00Z       \n",
       "4     2016-07-09T00:00:00Z       \n",
       "...                    ...       \n",
       "9995  2016-03-13T00:00:00Z       \n",
       "9996  2015-12-11T00:00:00Z       \n",
       "9997  2017-11-17T00:00:00.000Z   \n",
       "9998  2016-06-09T00:00:00Z       \n",
       "9999  2013-09-03T00:00:00.000Z   \n",
       "\n",
       "                                                                                                                                                                                  reviews.dateSeen  \\\n",
       "0     2016-08-03T00:00:00Z,2016-07-26T00:00:00Z,2016-08-02T00:00:00Z,2016-07-17T00:00:00Z,2016-08-27T00:00:00Z,2016-08-23T00:00:00Z,2016-08-09T00:00:00Z,2016-11-07T00:00:00Z,2016-08-26T00:00:00Z   \n",
       "1     2016-08-02T00:00:00Z,2016-08-26T00:00:00Z,2016-08-03T00:00:00Z,2016-07-17T00:00:00Z,2016-08-09T00:00:00Z,2016-08-23T00:00:00Z,2016-08-27T00:00:00Z,2016-11-15T00:00:00Z,2016-07-26T00:00:00Z   \n",
       "2     2016-11-15T00:00:00Z,2016-08-23T00:00:00Z,2016-08-27T00:00:00Z,2016-07-26T00:00:00Z,2016-08-02T00:00:00Z,2016-07-17T00:00:00Z,2016-08-03T00:00:00Z,2016-08-09T00:00:00Z,2016-08-26T00:00:00Z   \n",
       "3     2016-05-21T00:00:00Z,2016-07-31T00:00:00Z                                                                                                                                                      \n",
       "4     2016-07-31T00:00:00Z                                                                                                                                                                           \n",
       "...                    ...                                                                                                                                                                           \n",
       "9995  2016-03-23T00:00:00Z                                                                                                                                                                           \n",
       "9996  2016-05-13T00:00:00Z,2016-03-21T00:00:00Z                                                                                                                                                      \n",
       "9997  2017-12-17T00:00:00Z                                                                                                                                                                           \n",
       "9998  2016-07-16T00:00:00Z                                                                                                                                                                           \n",
       "9999  2017-12-17T00:00:00Z                                                                                                                                                                           \n",
       "\n",
       "      reviews.rating  \\\n",
       "0     5.0              \n",
       "1     5.0              \n",
       "2     5.0              \n",
       "3     2.0              \n",
       "4     5.0              \n",
       "...   ...              \n",
       "9995  3.0              \n",
       "9996  4.0              \n",
       "9997  4.0              \n",
       "9998  1.0              \n",
       "9999  1.0              \n",
       "\n",
       "                                                                                                                                                                                                                                                            reviews.sourceURLs  \\\n",
       "0     https://www.hotels.com/hotel/125419/reviews%20/                                                                                                                                                                                                                            \n",
       "1     https://www.hotels.com/hotel/125419/reviews%20/                                                                                                                                                                                                                            \n",
       "2     https://www.hotels.com/hotel/125419/reviews%20/                                                                                                                                                                                                                            \n",
       "3     https://www.tripadvisor.com/Hotel_Review-g41185-d1239660-Reviews-Aloft_Arundel_Mills-Hanover_Maryland.html,https://www.tripadvisor.com/Hotel_Review-g41185-d1239660-Reviews-or40-Aloft_Arundel_Mills-Hanover_Maryland.html%2525252523REVIEWS                               \n",
       "4     https://www.tripadvisor.com/Hotel_Review-g41185-d1239660-Reviews-or10-Aloft_Arundel_Mills-Hanover_Maryland.html%2525252523REVIEWS                                                                                                                                          \n",
       "...                                                                                                                                 ...                                                                                                                                          \n",
       "9995  http://www.tripadvisor.com/Hotel_Review-g52043-d602316-Reviews-Silver_Sands_Oceanfront_Motel-Rockaway_Beach_Oregon.html                                                                                                                                                    \n",
       "9996  https://www.tripadvisor.com/Hotel_Review-g41548-d1071627-Reviews-Sandy_Neck_Motel-East_Sandwich_Sandwich_Cape_Cod_Massachusetts.html,http://www.tripadvisor.com/Hotel_Review-g41548-d1071627-Reviews-Sandy_Neck_Motel-East_Sandwich_Sandwich_Cape_Cod_Massachusetts.html   \n",
       "9997  https://www.tripadvisor.com/Hotel_Review-g35418-d90312-Reviews-Shilo_Inn_Suites_Coeur_d_Alene-Coeur_d_Alene_Idaho.html                                                                                                                                                     \n",
       "9998  https://www.tripadvisor.com/Hotel_Review-g55123-d5461387-Reviews-Scottish_Inn-Jackson_Tennessee.html                                                                                                                                                                       \n",
       "9999  https://www.tripadvisor.com/Hotel_Review-g60880-d287367-Reviews-Royal_Suite_Lodge-Anchorage_Alaska.html                                                                                                                                                                    \n",
       "\n",
       "                                                                                                                                                                                                                                                                                                                                                                                                                                                                                 reviews.text  \\\n",
       "0     Our experience at Rancho Valencia was absolutely perfect from beginning to end!!!! We felt special and very happy during our stayed. I would come back in a heart beat!!!                                                                                                                                                                                                                                                                                                                 \n",
       "1     Amazing place. Everyone was extremely warm and welcoming. We've stayed at some top notch places and this is definitely in our top 2. Great for a romantic getaway or take the kids along as we did. Had a couple stuffed animals waiting for our girls upon arrival. Can't wait to go back.                                                                                                                                                                                               \n",
       "2     We booked a 3 night stay at Rancho Valencia to play some tennis, since it is one of the highest rated tennis resorts in America. This place is really over the top from a luxury standpoint and overall experience. The villas are really perfect, the staff is great, attention to details (includes fresh squeezed orange juice each morning), restaurants, bar and room service amazing, and the tennis program was really impressive as well. We will want to come back here again.   \n",
       "3     Currently in bed writing this for the past hr 1/2 there have been dogs barking and squealing call the front desk to advise basically to be told there's nothing they can do. 315.00 and I can't sleep.                                                                                                                                                                                                                                                                                    \n",
       "4     I live in Md and the Aloft is my Home away from home...we stayed 1 night 7-7-16 ...Staff is great ! Especially Olivia who was Extra special because she remembered me by my voice over the phone ...which tells me she is very alert and pays attention to the customer their needs.AND SHE DID ! Thumbs up... More                                                                                                                                                                       \n",
       "...                                                                                                                                                                                                                                                                                                                   ...                                                                                                                                                                       \n",
       "9995  It is hard for me to review an oceanfront hotel. I go for the ocean and not necessarily the hotel. While this place is definitely far above average, there are just a couple of things that need mentioning. Firat the good. Very very accomodating. The staff was versatile and seemed eager to please. Our room was very clean and modern... More                                                                                                                                       \n",
       "9996  I live close by, and needed to stay somewhere for a night due to renovation work at home. I called at 9:30 PM, and they had a room available. It was clean, comfortable, and quiet. The bed was very comfortable, and we had a sound night's sleep. The check in was smooth, and seeing wild turkeys in he tree out... More                                                                                                                                                               \n",
       "9997  Rolled in 11:30 laid out heads down woke up to continental breakfast and rolled out at daybreak. It is under construction but heat they have done so far is beautiful. Very nice updated pool area for an older motel. The staff was super nice                                                                                                                                                                                                                                           \n",
       "9998  Absolutely terrible..I was told I was being given a Non smoking room. I walked in and it smelled of smoke with a ash tray sitting on table. Checked in late. Smoke is miserable..checking out as I type. Police were in parking lot as I was pulling in. People walking through parking lot heading back to houses in back of hotel..Avoid... More                                                                                                                                        \n",
       "9999  Filthy, outdated, noisy neighbours, but this was not the worst. We were nearly eaten by the bed bugs, more agressive than Denali bears. I would not reccomend this hole even to my worst enemy. Next day we needed medical help.                                                                                                                                                                                                                                                          \n",
       "\n",
       "                                 reviews.title     reviews.userCity  \\\n",
       "0     Best romantic vacation ever!!!!           NaN                   \n",
       "1     Sweet sweet serenity                      NaN                   \n",
       "2     Amazing Property and Experience           NaN                   \n",
       "3     Never again...beware, if you want sleep.  Richmond              \n",
       "4     ALWAYS GREAT STAY...                      Laurel                \n",
       "...                    ...                         ...                \n",
       "9995  Picture Window Ocean View!                Wildwood              \n",
       "9996  Clean, comfortable and quiet              East Sandwich         \n",
       "9997  Passing through                           Montana               \n",
       "9998  Terrible                                  woodbury              \n",
       "9999  Polde                                     Sempeter pri Gorici   \n",
       "\n",
       "     reviews.userProvince reviews.username  \\\n",
       "0     NaN                  Paula             \n",
       "1     NaN                  D                 \n",
       "2     NaN                  Ron               \n",
       "3     VA                   jaeem2016         \n",
       "4     MD                   MamaNiaOne        \n",
       "...   ..                          ...        \n",
       "9995  GA                   LASH0211          \n",
       "9996  MA                   Gennaker          \n",
       "9997  UnitedStates         Amber406          \n",
       "9998  NaN                  donWoodbury       \n",
       "9999  Slovenia             janezr2013        \n",
       "\n",
       "                                                                                                                                                                                                                                                                                                                                                                                                                                                                                                                                    sourceURLs  \\\n",
       "0     http://www.hotels.com/ho125419/%25252525253Flocale%25252525253Den_US%252525252526pos%25252525253DHCOM_US,http://www.yellowbook.com/profile/rancho-valencia-resort-and-spa_1895174051.html,https://www.hotels.com/hotel/125419/reviews%20/,https://foursquare.com/v/rancho-valencia-resort--spa/4aaedb79f964a5208f6320e3,http://www.gayot.com/Hotels/Select-Your-City/United-States/California/San-Diego/Rancho-Valencia-Resort-Spa-Rancho-Santa-Fe-SDHOT02319-02                                                                           \n",
       "1     http://www.hotels.com/ho125419/%25252525253Flocale%25252525253Den_US%252525252526pos%25252525253DHCOM_US,http://www.yellowbook.com/profile/rancho-valencia-resort-and-spa_1895174051.html,https://www.hotels.com/hotel/125419/reviews%20/,https://foursquare.com/v/rancho-valencia-resort--spa/4aaedb79f964a5208f6320e3,http://www.gayot.com/Hotels/Select-Your-City/United-States/California/San-Diego/Rancho-Valencia-Resort-Spa-Rancho-Santa-Fe-SDHOT02319-02                                                                           \n",
       "2     http://www.hotels.com/ho125419/%25252525253Flocale%25252525253Den_US%252525252526pos%25252525253DHCOM_US,http://www.yellowbook.com/profile/rancho-valencia-resort-and-spa_1895174051.html,https://www.hotels.com/hotel/125419/reviews%20/,https://foursquare.com/v/rancho-valencia-resort--spa/4aaedb79f964a5208f6320e3,http://www.gayot.com/Hotels/Select-Your-City/United-States/California/San-Diego/Rancho-Valencia-Resort-Spa-Rancho-Santa-Fe-SDHOT02319-02                                                                           \n",
       "3     http://www.yellowbook.com/profile/aloft-arundel-mills_1896561264.html,https://www.yellowpages.com/hanover-md/mip/aloft-arundel-mills-458499145,https://www.hotels.com/hotel/309972/reviews%20/,http://www.yellowpages.com/hanover-md/mip/arundel-mills-hotel-partners-471898728,https://www.tripadvisor.com/Hotel_Review-g41185-d1239660-Reviews-Aloft_Arundel_Mills-Hanover_Maryland.html,https://foursquare.com/v/aloft-arundel-mills/4b82b437f964a5206edf30e3,http://www.yellowpages.com/hanover-md/mip/aloft-arundel-mills-458499145   \n",
       "4     http://www.yellowbook.com/profile/aloft-arundel-mills_1896561264.html,https://www.yellowpages.com/hanover-md/mip/aloft-arundel-mills-458499145,https://www.hotels.com/hotel/309972/reviews%20/,http://www.yellowpages.com/hanover-md/mip/arundel-mills-hotel-partners-471898728,https://www.tripadvisor.com/Hotel_Review-g41185-d1239660-Reviews-Aloft_Arundel_Mills-Hanover_Maryland.html,https://foursquare.com/v/aloft-arundel-mills/4b82b437f964a5206edf30e3,http://www.yellowpages.com/hanover-md/mip/aloft-arundel-mills-458499145   \n",
       "...                                                                                                                                                                                                                                                                                                                                                                                                                                                                                                                                        ...   \n",
       "9995  https://www.tripadvisor.com/Hotel_Review-g52043-d602316-Reviews-Silver_Sands_Oceanfront_Motel-Rockaway_Beach_Oregon.html,http://www.tripadvisor.com/Hotel_Review-g52043-d602316-Reviews-Silver_Sands_Oceanfront_Motel-Rockaway_Beach_Oregon.html,http://www.yellowpages.com/rockaway-beach-or/mip/silver-sands-oceanfront-motel-1583571                                                                                                                                                                                                    \n",
       "9996  https://www.tripadvisor.com/Hotel_Review-g41548-d1071627-Reviews-Sandy_Neck_Motel-East_Sandwich_Sandwich_Cape_Cod_Massachusetts.html,http://tripadvisor.com/Hotel_Review-g41548-d1071627-Reviews-Sandy_Neck_Motel-East_Sandwich_Sandwich_Cape_Cod_Massachusetts.html,http://www.tripadvisor.com/Hotel_Review-g41548-d1071627-Reviews-Sandy_Neck_Motel-East_Sandwich_Sandwich_Cape_Cod_Massachusetts.html,http://www.yellowpages.com/east-sandwich-ma/mip/sandy-neck-motel-462664838                                                        \n",
       "9997  https://www.tripadvisor.com/Hotel_Review-g35418-d90312-Reviews-Shilo_Inn_Suites_Coeur_d_Alene-Coeur_d_Alene_Idaho.html,http://tripadvisor.com/Hotel_Review-g35418-d90312-Reviews-Shilo_Inn_Suites_Coeur_d_Alene-Coeur_d_Alene_Idaho.html,http://www.yellowpages.com/coeur-d-alene-id/mip/shilo-inn-suites-coeur-dalene-2576475,https://foursquare.com/v/shilo-inn-suites--coeur-dalene/4b6dd105f964a5209c922ce3                                                                                                                            \n",
       "9998  https://www.tripadvisor.com/Hotel_Review-g55123-d5461387-Reviews-Scottish_Inn-Jackson_Tennessee.html,http://www.citysearch.com/profile/9480951/jackson_tn/scottish_inn.html                                                                                                                                                                                                                                                                                                                                                                \n",
       "9999  https://www.tripadvisor.com/Hotel_Review-g60880-d287367-Reviews-Royal_Suite_Lodge-Anchorage_Alaska.html,http://www.yellowpages.com/anchorage-ak/mip/royal-suite-lodge-3164983,http://www.local.com/business/details/map/anchorage-ak/royal-suite-lodge-69826/                                                                                                                                                                                                                                                                              \n",
       "\n",
       "                                                                                                                                                                                                                                                                                                                                                                                                                                                                                                                                                                                                                                                                                                                                                                                                                                         websites  \n",
       "0     http://www.ranchovalencia.com                                                                                                                                                                                                                                                                                                                                                                                                                                                                                                                                                                                                                                                                                                                                                                                                                \n",
       "1     http://www.ranchovalencia.com                                                                                                                                                                                                                                                                                                                                                                                                                                                                                                                                                                                                                                                                                                                                                                                                                \n",
       "2     http://www.ranchovalencia.com                                                                                                                                                                                                                                                                                                                                                                                                                                                                                                                                                                                                                                                                                                                                                                                                                \n",
       "3     http://www.starwoodhotels.com/alofthotels/property/overview/index.html?propertyID=3050?scid=45f93f1b-bd77-45c9-8dab-83b6a417f6fe,http://www.aloftarundelmills.com,https://www.marriott.com/hotels/travel/bwima-aloft-arundel-mills-bwi-airport/                                                                                                                                                                                                                                                                                                                                                                                                                                                                                                                                                                                              \n",
       "4     http://www.starwoodhotels.com/alofthotels/property/overview/index.html?propertyID=3050?scid=45f93f1b-bd77-45c9-8dab-83b6a417f6fe,http://www.aloftarundelmills.com,https://www.marriott.com/hotels/travel/bwima-aloft-arundel-mills-bwi-airport/                                                                                                                                                                                                                                                                                                                                                                                                                                                                                                                                                                                              \n",
       "...                                                                                                                                                                                                                                               ...                                                                                                                                                                                                                                                                                                                                                                                                                                                                                                                                                                                              \n",
       "9995  http://www.oregonsilversands.com                                                                                                                                                                                                                                                                                                                                                                                                                                                                                                                                                                                                                                                                                                                                                                                                             \n",
       "9996  http://www.sandyneck.com                                                                                                                                                                                                                                                                                                                                                                                                                                                                                                                                                                                                                                                                                                                                                                                                                     \n",
       "9997  http://www.shiloinns.com                                                                                                                                                                                                                                                                                                                                                                                                                                                                                                                                                                                                                                                                                                                                                                                                                     \n",
       "9998  http://api.citygridmedia.com/content/places/v2/click?q=9YKflVKbY9NauPJdMy0B1gS1IhB4xv4EWw0zDoT-UWc_izWF3zs5PKGdfOHubWrvM0QwDCYwbOH2fdLi0dK5xArULcksCCbfR-WWAz9xD1AmGVAQZIom4U3n5R4DuRC8WJCtvJcNItEKoCSfzwapuGnmwGnHDpEGYXGjnN4u8zXqkiimSHFf4_dbqGRbVgNJAOYth7ZVX-vH6oaykIx9Pi1qAPbeRxvGb4VoHNEI3E7x1jEtQSxgW56frdeWRrsLdypFUd33E7Hj_aARhqkT-1Bp-8sE58zr_eqLJBTLPKhbx-FnTZPivO876NMGBu9ans992_2MQ3qNDaOACme-W7i1JxfFBUVdnVd2G1-IV1QbLOyogwGLgkZM6fbsbzn8dukYZRcjRIq_DPH4-1DDun_1l6bPCRaA9FhTbR0NrXXLvTV0prs7lrstG6thz4P38aSwYdfz0EswBrWkBuzvYS2EL5HZrpjKma_QNC6iTWpSzco3y9LljEXwmiNPy8_ntqWq-Evm2i5Iw9u1DKIKzvZS5m6_uQZEfNEwjc2yUH-VOkYP8EKwXAhbpRw1RFBB40hAvDDeeUba3P2WJ4ege4fLoRDTGjWARuMeDF-AH27k1dGGiWPKqkehym-t5tlm8Cr2Fbn7xNxKEqMEnfGOgg&placement=listing_profile&cs_user=unknown&cs_session=b5b519098ad18220ebc6f17529abedb69f4bd1bb  \n",
       "9999  http://royalsuitealaska.com                                                                                                                                                                                                                                                                                                                                                                                                                                                                                                                                                                                                                                                                                                                                                                                                                  \n",
       "\n",
       "[10000 rows x 25 columns]"
      ]
     },
     "execution_count": 31,
     "metadata": {},
     "output_type": "execute_result"
    }
   ],
   "source": [
    "df"
   ]
  },
  {
   "cell_type": "code",
   "execution_count": 6,
   "metadata": {},
   "outputs": [
    {
     "name": "stdout",
     "output_type": "stream",
     "text": [
      "<class 'pandas.core.frame.DataFrame'>\n",
      "RangeIndex: 10000 entries, 0 to 9999\n",
      "Data columns (total 25 columns):\n",
      " #   Column                Non-Null Count  Dtype  \n",
      "---  ------                --------------  -----  \n",
      " 0   id                    10000 non-null  object \n",
      " 1   dateAdded             10000 non-null  object \n",
      " 2   dateUpdated           10000 non-null  object \n",
      " 3   address               10000 non-null  object \n",
      " 4   categories            10000 non-null  object \n",
      " 5   primaryCategories     10000 non-null  object \n",
      " 6   city                  10000 non-null  object \n",
      " 7   country               10000 non-null  object \n",
      " 8   keys                  10000 non-null  object \n",
      " 9   latitude              10000 non-null  float64\n",
      " 10  longitude             10000 non-null  float64\n",
      " 11  name                  10000 non-null  object \n",
      " 12  postalCode            10000 non-null  object \n",
      " 13  province              10000 non-null  object \n",
      " 14  reviews.date          10000 non-null  object \n",
      " 15  reviews.dateSeen      10000 non-null  object \n",
      " 16  reviews.rating        10000 non-null  float64\n",
      " 17  reviews.sourceURLs    10000 non-null  object \n",
      " 18  reviews.text          9999 non-null   object \n",
      " 19  reviews.title         9999 non-null   object \n",
      " 20  reviews.userCity      4164 non-null   object \n",
      " 21  reviews.userProvince  2705 non-null   object \n",
      " 22  reviews.username      10000 non-null  object \n",
      " 23  sourceURLs            10000 non-null  object \n",
      " 24  websites              10000 non-null  object \n",
      "dtypes: float64(3), object(22)\n",
      "memory usage: 1.9+ MB\n",
      "None\n"
     ]
    }
   ],
   "source": [
    "# Afficher les informations sur le DataFrame\n",
    "print(df.info())"
   ]
  },
  {
   "cell_type": "code",
   "execution_count": 7,
   "metadata": {},
   "outputs": [
    {
     "name": "stdout",
     "output_type": "stream",
     "text": [
      "Nombre de lignes : 10000 \n",
      "\n",
      "Nombre de colonnes : 25 \n",
      "\n"
     ]
    }
   ],
   "source": [
    "#Nombre de lignes\n",
    "print(\"Nombre de lignes :\", df.shape[0], \"\\n\")\n",
    "\n",
    "#Nombre de colonnes\n",
    "print(\"Nombre de colonnes :\", df.shape[1], \"\\n\")"
   ]
  },
  {
   "cell_type": "code",
   "execution_count": 8,
   "metadata": {},
   "outputs": [
    {
     "name": "stdout",
     "output_type": "stream",
     "text": [
      "Index(['id', 'dateAdded', 'dateUpdated', 'address', 'categories',\n",
      "       'primaryCategories', 'city', 'country', 'keys', 'latitude', 'longitude',\n",
      "       'name', 'postalCode', 'province', 'reviews.date', 'reviews.dateSeen',\n",
      "       'reviews.rating', 'reviews.sourceURLs', 'reviews.text', 'reviews.title',\n",
      "       'reviews.userCity', 'reviews.userProvince', 'reviews.username',\n",
      "       'sourceURLs', 'websites'],\n",
      "      dtype='object') \n",
      "\n"
     ]
    }
   ],
   "source": [
    "# Affichage des colonnes\n",
    "print(df.columns, \"\\n\")"
   ]
  },
  {
   "cell_type": "markdown",
   "metadata": {},
   "source": [
    "# 2. Nettoyage des Données"
   ]
  },
  {
   "cell_type": "markdown",
   "metadata": {},
   "source": [
    "## 2.1. Identification des doublons"
   ]
  },
  {
   "cell_type": "code",
   "execution_count": 3,
   "metadata": {},
   "outputs": [
    {
     "name": "stdout",
     "output_type": "stream",
     "text": [
      "\n",
      "Nombre de lignes en double (à l'exclusion de l'ID): 0\n"
     ]
    }
   ],
   "source": [
    "# Lignes en double\n",
    "doublons = df.duplicated().sum()\n",
    "print(\"\\nNombre de lignes en double (à l'exclusion de l'ID):\", doublons)\n",
    "\n",
    "# 0"
   ]
  },
  {
   "cell_type": "markdown",
   "metadata": {},
   "source": [
    "## 2.2. Gestion des Valeurs Nulles"
   ]
  },
  {
   "cell_type": "code",
   "execution_count": 3,
   "metadata": {},
   "outputs": [
    {
     "data": {
      "text/html": [
       "<div>\n",
       "<style scoped>\n",
       "    .dataframe tbody tr th:only-of-type {\n",
       "        vertical-align: middle;\n",
       "    }\n",
       "\n",
       "    .dataframe tbody tr th {\n",
       "        vertical-align: top;\n",
       "    }\n",
       "\n",
       "    .dataframe thead th {\n",
       "        text-align: right;\n",
       "    }\n",
       "</style>\n",
       "<table border=\"1\" class=\"dataframe\">\n",
       "  <thead>\n",
       "    <tr style=\"text-align: right;\">\n",
       "      <th></th>\n",
       "      <th>Null Values</th>\n",
       "      <th>Percentage Null Values</th>\n",
       "    </tr>\n",
       "  </thead>\n",
       "  <tbody>\n",
       "    <tr>\n",
       "      <th>id</th>\n",
       "      <td>0</td>\n",
       "      <td>0.00</td>\n",
       "    </tr>\n",
       "    <tr>\n",
       "      <th>dateAdded</th>\n",
       "      <td>0</td>\n",
       "      <td>0.00</td>\n",
       "    </tr>\n",
       "    <tr>\n",
       "      <th>dateUpdated</th>\n",
       "      <td>0</td>\n",
       "      <td>0.00</td>\n",
       "    </tr>\n",
       "    <tr>\n",
       "      <th>address</th>\n",
       "      <td>0</td>\n",
       "      <td>0.00</td>\n",
       "    </tr>\n",
       "    <tr>\n",
       "      <th>categories</th>\n",
       "      <td>0</td>\n",
       "      <td>0.00</td>\n",
       "    </tr>\n",
       "    <tr>\n",
       "      <th>primaryCategories</th>\n",
       "      <td>0</td>\n",
       "      <td>0.00</td>\n",
       "    </tr>\n",
       "    <tr>\n",
       "      <th>city</th>\n",
       "      <td>0</td>\n",
       "      <td>0.00</td>\n",
       "    </tr>\n",
       "    <tr>\n",
       "      <th>country</th>\n",
       "      <td>0</td>\n",
       "      <td>0.00</td>\n",
       "    </tr>\n",
       "    <tr>\n",
       "      <th>keys</th>\n",
       "      <td>0</td>\n",
       "      <td>0.00</td>\n",
       "    </tr>\n",
       "    <tr>\n",
       "      <th>latitude</th>\n",
       "      <td>0</td>\n",
       "      <td>0.00</td>\n",
       "    </tr>\n",
       "    <tr>\n",
       "      <th>longitude</th>\n",
       "      <td>0</td>\n",
       "      <td>0.00</td>\n",
       "    </tr>\n",
       "    <tr>\n",
       "      <th>name</th>\n",
       "      <td>0</td>\n",
       "      <td>0.00</td>\n",
       "    </tr>\n",
       "    <tr>\n",
       "      <th>postalCode</th>\n",
       "      <td>0</td>\n",
       "      <td>0.00</td>\n",
       "    </tr>\n",
       "    <tr>\n",
       "      <th>province</th>\n",
       "      <td>0</td>\n",
       "      <td>0.00</td>\n",
       "    </tr>\n",
       "    <tr>\n",
       "      <th>reviews.date</th>\n",
       "      <td>0</td>\n",
       "      <td>0.00</td>\n",
       "    </tr>\n",
       "    <tr>\n",
       "      <th>reviews.dateSeen</th>\n",
       "      <td>0</td>\n",
       "      <td>0.00</td>\n",
       "    </tr>\n",
       "    <tr>\n",
       "      <th>reviews.rating</th>\n",
       "      <td>0</td>\n",
       "      <td>0.00</td>\n",
       "    </tr>\n",
       "    <tr>\n",
       "      <th>reviews.sourceURLs</th>\n",
       "      <td>0</td>\n",
       "      <td>0.00</td>\n",
       "    </tr>\n",
       "    <tr>\n",
       "      <th>reviews.text</th>\n",
       "      <td>1</td>\n",
       "      <td>0.01</td>\n",
       "    </tr>\n",
       "    <tr>\n",
       "      <th>reviews.title</th>\n",
       "      <td>1</td>\n",
       "      <td>0.01</td>\n",
       "    </tr>\n",
       "    <tr>\n",
       "      <th>reviews.userCity</th>\n",
       "      <td>5836</td>\n",
       "      <td>58.36</td>\n",
       "    </tr>\n",
       "    <tr>\n",
       "      <th>reviews.userProvince</th>\n",
       "      <td>7295</td>\n",
       "      <td>72.95</td>\n",
       "    </tr>\n",
       "    <tr>\n",
       "      <th>reviews.username</th>\n",
       "      <td>0</td>\n",
       "      <td>0.00</td>\n",
       "    </tr>\n",
       "    <tr>\n",
       "      <th>sourceURLs</th>\n",
       "      <td>0</td>\n",
       "      <td>0.00</td>\n",
       "    </tr>\n",
       "    <tr>\n",
       "      <th>websites</th>\n",
       "      <td>0</td>\n",
       "      <td>0.00</td>\n",
       "    </tr>\n",
       "  </tbody>\n",
       "</table>\n",
       "</div>"
      ],
      "text/plain": [
       "                      Null Values  Percentage Null Values\n",
       "id                              0                    0.00\n",
       "dateAdded                       0                    0.00\n",
       "dateUpdated                     0                    0.00\n",
       "address                         0                    0.00\n",
       "categories                      0                    0.00\n",
       "primaryCategories               0                    0.00\n",
       "city                            0                    0.00\n",
       "country                         0                    0.00\n",
       "keys                            0                    0.00\n",
       "latitude                        0                    0.00\n",
       "longitude                       0                    0.00\n",
       "name                            0                    0.00\n",
       "postalCode                      0                    0.00\n",
       "province                        0                    0.00\n",
       "reviews.date                    0                    0.00\n",
       "reviews.dateSeen                0                    0.00\n",
       "reviews.rating                  0                    0.00\n",
       "reviews.sourceURLs              0                    0.00\n",
       "reviews.text                    1                    0.01\n",
       "reviews.title                   1                    0.01\n",
       "reviews.userCity             5836                   58.36\n",
       "reviews.userProvince         7295                   72.95\n",
       "reviews.username                0                    0.00\n",
       "sourceURLs                      0                    0.00\n",
       "websites                        0                    0.00"
      ]
     },
     "execution_count": 3,
     "metadata": {},
     "output_type": "execute_result"
    }
   ],
   "source": [
    "# Identifier les valeurs nulles et leur pourcentage\n",
    "val_null = pd.DataFrame({'Null Values' : df.isna().sum(), 'Percentage Null Values' : (df.isna().sum()) / (df.shape[0]) * (100)})\n",
    "val_null"
   ]
  },
  {
   "cell_type": "code",
   "execution_count": 4,
   "metadata": {},
   "outputs": [
    {
     "name": "stderr",
     "output_type": "stream",
     "text": [
      "C:\\Users\\Mossab Weda\\AppData\\Local\\Temp\\ipykernel_19324\\3525275403.py:2: FutureWarning: A value is trying to be set on a copy of a DataFrame or Series through chained assignment using an inplace method.\n",
      "The behavior will change in pandas 3.0. This inplace method will never work because the intermediate object on which we are setting values always behaves as a copy.\n",
      "\n",
      "For example, when doing 'df[col].method(value, inplace=True)', try using 'df.method({col: value}, inplace=True)' or df[col] = df[col].method(value) instead, to perform the operation inplace on the original object.\n",
      "\n",
      "\n",
      "  df['reviews.userCity'].fillna(\"NULL\", inplace=True)\n",
      "C:\\Users\\Mossab Weda\\AppData\\Local\\Temp\\ipykernel_19324\\3525275403.py:3: FutureWarning: A value is trying to be set on a copy of a DataFrame or Series through chained assignment using an inplace method.\n",
      "The behavior will change in pandas 3.0. This inplace method will never work because the intermediate object on which we are setting values always behaves as a copy.\n",
      "\n",
      "For example, when doing 'df[col].method(value, inplace=True)', try using 'df.method({col: value}, inplace=True)' or df[col] = df[col].method(value) instead, to perform the operation inplace on the original object.\n",
      "\n",
      "\n",
      "  df['reviews.userProvince'].fillna(\"NULL\", inplace=True)\n"
     ]
    }
   ],
   "source": [
    "# Remplacer les valeurs nulles par \"NULL\" pour une colonne spécifique\n",
    "df['reviews.userCity'].fillna(\"NULL\", inplace=True)\n",
    "df['reviews.userProvince'].fillna(\"NULL\", inplace=True)\n",
    "\n",
    "# Remplacer les valeurs nulles par les valeurs les plus fréquentes\n",
    "df['reviews.userCity'] = df['reviews.userCity'].fillna(df['reviews.userCity'].mode()[0])\n",
    "df['reviews.userProvince'] = df['reviews.userProvince'].fillna(df['reviews.userProvince'].mode()[0])"
   ]
  },
  {
   "cell_type": "markdown",
   "metadata": {},
   "source": [
    "## 2.3. Suppression de Colonnes et Lignes Inutiles"
   ]
  },
  {
   "cell_type": "code",
   "execution_count": 5,
   "metadata": {},
   "outputs": [
    {
     "name": "stdout",
     "output_type": "stream",
     "text": [
      "Colonnes (presque) vides et pouvant être supprimées: []\n"
     ]
    }
   ],
   "source": [
    "# Colonnes presque vides\n",
    "colonnes_presque_vides = [colonne for colonne in df.columns if df[colonne].isnull().sum() >= 0.9 * len(df)]\n",
    "print(\"Colonnes (presque) vides et pouvant être supprimées:\",colonnes_presque_vides)"
   ]
  },
  {
   "cell_type": "markdown",
   "metadata": {},
   "source": [
    "# 3. Analyse Sentimentale"
   ]
  },
  {
   "cell_type": "code",
   "execution_count": 5,
   "metadata": {},
   "outputs": [
    {
     "data": {
      "text/plain": [
       "Sentiment(polarity=0.7, subjectivity=0.6000000000000001)"
      ]
     },
     "execution_count": 5,
     "metadata": {},
     "output_type": "execute_result"
    }
   ],
   "source": [
    "# Tester TextBlob\n",
    "TextBlob(\"The movie is good\").sentiment"
   ]
  },
  {
   "cell_type": "markdown",
   "metadata": {},
   "source": [
    "## 3.1. Calcul de la polarité des sentiments"
   ]
  },
  {
   "cell_type": "markdown",
   "metadata": {},
   "source": [
    "### Polarité\n",
    "- Plage de valeurs : La polarité varie entre -1 et 1.\n",
    "- Interprétation : Un score de polarité de -1 indique un sentiment très négatif, tandis qu'un score de 1 indique un sentiment très positif. Un score de 0 indique un sentiment neutre ou indifférent. \n",
    "\n",
    "### Subjectivité\n",
    "- Plage de valeurs : La subjectivité varie entre 0 et 1.\n",
    "- Interprétation : Un score de subjectivité de 0 indique que le texte est très objectif, basé sur des faits et des informations factuelles. Un score de 1 indique que le texte est très subjectif, basé sur des opinions personnelles plutôt que sur des faits. La subjectivité est calculée en examinant l'intensité des mots dans le texte, notamment en utilisant des adverbes comme des modificateurs (par exemple, \"très bon\")."
   ]
  },
  {
   "cell_type": "code",
   "execution_count": 6,
   "metadata": {},
   "outputs": [],
   "source": [
    "polarity=[] # Liste qui contiendra la polarité des commentaires\n",
    "subjectivity=[] # Liste qui contiendra la subjectivité des commentaires\n",
    "\n",
    "for i in df['reviews.text'].values:\n",
    "    try:\n",
    "        # Analyser le sentiment du commentaire avec TextBlob\n",
    "        analysis = TextBlob(i)\n",
    "\n",
    "        polarity.append(analysis.sentiment.polarity)\n",
    "        subjectivity.append(analysis.sentiment.subjectivity)\n",
    "        \n",
    "    except:\n",
    "        polarity.append(0)\n",
    "        subjectivity.append(0)"
   ]
  },
  {
   "cell_type": "code",
   "execution_count": 7,
   "metadata": {},
   "outputs": [],
   "source": [
    "# Ajouter les colonnes polarity et subjectivity au DF\n",
    "df['polarity'] = polarity\n",
    "df['subjectivity'] = subjectivity"
   ]
  },
  {
   "cell_type": "markdown",
   "metadata": {},
   "source": [
    "### 3.1.1. Comentaires Négatives"
   ]
  },
  {
   "cell_type": "code",
   "execution_count": 8,
   "metadata": {},
   "outputs": [
    {
     "name": "stdout",
     "output_type": "stream",
     "text": [
      "Nombre total de commentaires : 10000\n",
      "Nombre de commentaires négatifs : 960\n",
      "Pourcentage de commentaires négatifs : 9.60% \n",
      "\n",
      "\n",
      "Commentaires négtavies :\n"
     ]
    },
    {
     "data": {
      "text/html": [
       "<div>\n",
       "<style scoped>\n",
       "    .dataframe tbody tr th:only-of-type {\n",
       "        vertical-align: middle;\n",
       "    }\n",
       "\n",
       "    .dataframe tbody tr th {\n",
       "        vertical-align: top;\n",
       "    }\n",
       "\n",
       "    .dataframe thead th {\n",
       "        text-align: right;\n",
       "    }\n",
       "</style>\n",
       "<table border=\"1\" class=\"dataframe\">\n",
       "  <thead>\n",
       "    <tr style=\"text-align: right;\">\n",
       "      <th></th>\n",
       "      <th>name</th>\n",
       "      <th>reviews.text</th>\n",
       "      <th>polarity</th>\n",
       "      <th>subjectivity</th>\n",
       "      <th>reviews.rating</th>\n",
       "    </tr>\n",
       "  </thead>\n",
       "  <tbody>\n",
       "    <tr>\n",
       "      <th>3</th>\n",
       "      <td>Aloft Arundel Mills</td>\n",
       "      <td>Currently in bed writing this for the past hr 1/2 there have been dogs barking and squealing call the front desk to advise basically to be told there's nothing they can do. 315.00 and I can't sleep.</td>\n",
       "      <td>-0.125000</td>\n",
       "      <td>0.325000</td>\n",
       "      <td>2.00</td>\n",
       "    </tr>\n",
       "    <tr>\n",
       "      <th>30</th>\n",
       "      <td>Hampton Inn Suites National HarborAlexandria Area</td>\n",
       "      <td>heat in room did not work properly, tv remote was broken excessive noise</td>\n",
       "      <td>-0.250000</td>\n",
       "      <td>0.533333</td>\n",
       "      <td>2.00</td>\n",
       "    </tr>\n",
       "    <tr>\n",
       "      <th>31</th>\n",
       "      <td>Hampton Inn Suites National HarborAlexandria Area</td>\n",
       "      <td>Even though we were having problems, i.e. Feather allergy, Flat tire, key not working...the front desk personell were always gracious and helpful.</td>\n",
       "      <td>-0.012500</td>\n",
       "      <td>0.562500</td>\n",
       "      <td>5.00</td>\n",
       "    </tr>\n",
       "    <tr>\n",
       "      <th>45</th>\n",
       "      <td>Hampton Inn Suites National HarborAlexandria Area</td>\n",
       "      <td>I was really disappointed with the TV service. Very few channels and poor quality.</td>\n",
       "      <td>-0.470000</td>\n",
       "      <td>0.493333</td>\n",
       "      <td>3.00</td>\n",
       "    </tr>\n",
       "    <tr>\n",
       "      <th>69</th>\n",
       "      <td>Fairmont Grand Del Mar</td>\n",
       "      <td>Expensive Yes. Service Above the norm! Nickel and dime you on the small stuff Nope! (one of my pet peeves if you are going to stay at a hotel of this caliber) This property gives you 5 star service. Forgot your work out clothes Let the staff know your size. Need some feminine products, be there in 5 minutes. The... More</td>\n",
       "      <td>-0.078125</td>\n",
       "      <td>0.425000</td>\n",
       "      <td>5.00</td>\n",
       "    </tr>\n",
       "    <tr>\n",
       "      <th>77</th>\n",
       "      <td>Best Western at OHare</td>\n",
       "      <td>Average hotel for decent price. It was balanced. Housekeeping did leave our door only ajar after cleaning one day. Arrrggghhhh!!!!! Nothing was missing.</td>\n",
       "      <td>-0.045833</td>\n",
       "      <td>0.529167</td>\n",
       "      <td>3.00</td>\n",
       "    </tr>\n",
       "    <tr>\n",
       "      <th>78</th>\n",
       "      <td>Best Western at OHare</td>\n",
       "      <td>The room key did not work i to go to lobby 4 times no parking under heavy construction noise the staff very incompetent I will not come back to this hotel</td>\n",
       "      <td>-0.163750</td>\n",
       "      <td>0.494167</td>\n",
       "      <td>3.00</td>\n",
       "    </tr>\n",
       "    <tr>\n",
       "      <th>85</th>\n",
       "      <td>Virgin Hotels Chicago</td>\n",
       "      <td>Bad: The room rate was terrible we had a Booking.com rate that was not honoured it soured the stay and was a big difference. We to date have no explanation!. Good: Location</td>\n",
       "      <td>-0.260000</td>\n",
       "      <td>0.493333</td>\n",
       "      <td>3.55</td>\n",
       "    </tr>\n",
       "    <tr>\n",
       "      <th>94</th>\n",
       "      <td>Virgin Hotels Chicago</td>\n",
       "      <td>Bad: Intermittent barking dog!. Good: Spacious suite, recommend end room on high floor</td>\n",
       "      <td>-0.005000</td>\n",
       "      <td>0.602222</td>\n",
       "      <td>4.80</td>\n",
       "    </tr>\n",
       "    <tr>\n",
       "      <th>101</th>\n",
       "      <td>The Boxer</td>\n",
       "      <td>Bad: I was supposed to get a room with two beds and ended up with a room with one full bed for me and my husband.it was very small!.</td>\n",
       "      <td>-0.252083</td>\n",
       "      <td>0.578889</td>\n",
       "      <td>4.15</td>\n",
       "    </tr>\n",
       "  </tbody>\n",
       "</table>\n",
       "</div>"
      ],
      "text/plain": [
       "                                                  name  \\\n",
       "3                                  Aloft Arundel Mills   \n",
       "30   Hampton Inn Suites National HarborAlexandria Area   \n",
       "31   Hampton Inn Suites National HarborAlexandria Area   \n",
       "45   Hampton Inn Suites National HarborAlexandria Area   \n",
       "69                              Fairmont Grand Del Mar   \n",
       "77                               Best Western at OHare   \n",
       "78                               Best Western at OHare   \n",
       "85                               Virgin Hotels Chicago   \n",
       "94                               Virgin Hotels Chicago   \n",
       "101                                          The Boxer   \n",
       "\n",
       "                                                                                                                                                                                                                                                                                                                          reviews.text  \\\n",
       "3                                                                                                                               Currently in bed writing this for the past hr 1/2 there have been dogs barking and squealing call the front desk to advise basically to be told there's nothing they can do. 315.00 and I can't sleep.   \n",
       "30                                                                                                                                                                                                                                                            heat in room did not work properly, tv remote was broken excessive noise   \n",
       "31                                                                                                                                                                                  Even though we were having problems, i.e. Feather allergy, Flat tire, key not working...the front desk personell were always gracious and helpful.   \n",
       "45                                                                                                                                                                                                                                                  I was really disappointed with the TV service. Very few channels and poor quality.   \n",
       "69   Expensive Yes. Service Above the norm! Nickel and dime you on the small stuff Nope! (one of my pet peeves if you are going to stay at a hotel of this caliber) This property gives you 5 star service. Forgot your work out clothes Let the staff know your size. Need some feminine products, be there in 5 minutes. The... More   \n",
       "77                                                                                                                                                                            Average hotel for decent price. It was balanced. Housekeeping did leave our door only ajar after cleaning one day. Arrrggghhhh!!!!! Nothing was missing.   \n",
       "78                                                                                                                                                                          The room key did not work i to go to lobby 4 times no parking under heavy construction noise the staff very incompetent I will not come back to this hotel   \n",
       "85                                                                                                                                                        Bad: The room rate was terrible we had a Booking.com rate that was not honoured it soured the stay and was a big difference. We to date have no explanation!. Good: Location   \n",
       "94                                                                                                                                                                                                                                              Bad: Intermittent barking dog!. Good: Spacious suite, recommend end room on high floor   \n",
       "101                                                                                                                                                                                               Bad: I was supposed to get a room with two beds and ended up with a room with one full bed for me and my husband.it was very small!.   \n",
       "\n",
       "     polarity  subjectivity  reviews.rating  \n",
       "3   -0.125000      0.325000            2.00  \n",
       "30  -0.250000      0.533333            2.00  \n",
       "31  -0.012500      0.562500            5.00  \n",
       "45  -0.470000      0.493333            3.00  \n",
       "69  -0.078125      0.425000            5.00  \n",
       "77  -0.045833      0.529167            3.00  \n",
       "78  -0.163750      0.494167            3.00  \n",
       "85  -0.260000      0.493333            3.55  \n",
       "94  -0.005000      0.602222            4.80  \n",
       "101 -0.252083      0.578889            4.15  "
      ]
     },
     "execution_count": 8,
     "metadata": {},
     "output_type": "execute_result"
    }
   ],
   "source": [
    "pd.set_option('display.max_colwidth', 1000)\n",
    "\n",
    "# Calcul du nombre total de commentaires\n",
    "total_comments = df.shape[0]\n",
    "\n",
    "# Calcul du nombre de commentaires négatifs\n",
    "negative_comments = df[df['polarity'] < 0].shape[0]\n",
    "\n",
    "# Calcul du pourcentage de commentaires négatifs\n",
    "percentage_negative = (negative_comments / total_comments) * 100\n",
    "\n",
    "print(f\"Nombre total de commentaires : {total_comments}\")\n",
    "print(f\"Nombre de commentaires négatifs : {negative_comments}\")\n",
    "print(f\"Pourcentage de commentaires négatifs : {percentage_negative:.2f}% \\n\\n\")\n",
    "\n",
    "# Affichage des commentaires négatives\n",
    "print(\"Commentaires négtavies :\")\n",
    "df[['name','reviews.text','polarity','subjectivity','reviews.rating']][df.polarity<0].head(10)"
   ]
  },
  {
   "cell_type": "markdown",
   "metadata": {},
   "source": [
    "### 3.1.2. Comentaires Positives"
   ]
  },
  {
   "cell_type": "code",
   "execution_count": 9,
   "metadata": {},
   "outputs": [
    {
     "name": "stdout",
     "output_type": "stream",
     "text": [
      "Nombre de commentaires négatifs : 8917\n",
      "Pourcentage de commentaires négatifs : 89.17% \n",
      "\n",
      "\n",
      "Commentaires positives :\n"
     ]
    },
    {
     "data": {
      "text/html": [
       "<div>\n",
       "<style scoped>\n",
       "    .dataframe tbody tr th:only-of-type {\n",
       "        vertical-align: middle;\n",
       "    }\n",
       "\n",
       "    .dataframe tbody tr th {\n",
       "        vertical-align: top;\n",
       "    }\n",
       "\n",
       "    .dataframe thead th {\n",
       "        text-align: right;\n",
       "    }\n",
       "</style>\n",
       "<table border=\"1\" class=\"dataframe\">\n",
       "  <thead>\n",
       "    <tr style=\"text-align: right;\">\n",
       "      <th></th>\n",
       "      <th>name</th>\n",
       "      <th>reviews.text</th>\n",
       "      <th>polarity</th>\n",
       "      <th>subjectivity</th>\n",
       "      <th>reviews.rating</th>\n",
       "    </tr>\n",
       "  </thead>\n",
       "  <tbody>\n",
       "    <tr>\n",
       "      <th>0</th>\n",
       "      <td>Rancho Valencia Resort Spa</td>\n",
       "      <td>Our experience at Rancho Valencia was absolutely perfect from beginning to end!!!! We felt special and very happy during our stayed. I would come back in a heart beat!!!</td>\n",
       "      <td>0.589286</td>\n",
       "      <td>0.642857</td>\n",
       "      <td>5.0</td>\n",
       "    </tr>\n",
       "    <tr>\n",
       "      <th>1</th>\n",
       "      <td>Rancho Valencia Resort Spa</td>\n",
       "      <td>Amazing place. Everyone was extremely warm and welcoming. We've stayed at some top notch places and this is definitely in our top 2. Great for a romantic getaway or take the kids along as we did. Had a couple stuffed animals waiting for our girls upon arrival. Can't wait to go back.</td>\n",
       "      <td>0.375000</td>\n",
       "      <td>0.531250</td>\n",
       "      <td>5.0</td>\n",
       "    </tr>\n",
       "    <tr>\n",
       "      <th>2</th>\n",
       "      <td>Rancho Valencia Resort Spa</td>\n",
       "      <td>We booked a 3 night stay at Rancho Valencia to play some tennis, since it is one of the highest rated tennis resorts in America. This place is really over the top from a luxury standpoint and overall experience. The villas are really perfect, the staff is great, attention to details (includes fresh squeezed orange juice each morning), restaurants, bar and room service amazing, and the tennis program was really impressive as well. We will want to come back here again.</td>\n",
       "      <td>0.488889</td>\n",
       "      <td>0.538889</td>\n",
       "      <td>5.0</td>\n",
       "    </tr>\n",
       "    <tr>\n",
       "      <th>4</th>\n",
       "      <td>Aloft Arundel Mills</td>\n",
       "      <td>I live in Md and the Aloft is my Home away from home...we stayed 1 night 7-7-16 ...Staff is great ! Especially Olivia who was Extra special because she remembered me by my voice over the phone ...which tells me she is very alert and pays attention to the customer their needs.AND SHE DID ! Thumbs up... More</td>\n",
       "      <td>0.320501</td>\n",
       "      <td>0.531633</td>\n",
       "      <td>5.0</td>\n",
       "    </tr>\n",
       "    <tr>\n",
       "      <th>5</th>\n",
       "      <td>Aloft Arundel Mills</td>\n",
       "      <td>I stayed here with my family for my daughters wedding. It had a very accommodating staff, Olivia was excellent. The rooms were very well maintained. Would highly recommend this hotel, especially if your wedding venue is Celebrations at the Bay!</td>\n",
       "      <td>0.312000</td>\n",
       "      <td>0.628000</td>\n",
       "      <td>5.0</td>\n",
       "    </tr>\n",
       "    <tr>\n",
       "      <th>6</th>\n",
       "      <td>Aloft Arundel Mills</td>\n",
       "      <td>Beautiful rooms and the nicest people working there. The front desk lady, Olivia, was extremely patient and helpful. We had lots of questions and she had just as many answers. The rooms were sleek and modern. The only thing that would make this hotel better would be free breakfast, but I really am asking for a lot. A++ stay. Thank... More</td>\n",
       "      <td>0.336111</td>\n",
       "      <td>0.644444</td>\n",
       "      <td>5.0</td>\n",
       "    </tr>\n",
       "    <tr>\n",
       "      <th>7</th>\n",
       "      <td>Aloft Arundel Mills</td>\n",
       "      <td>We stayed here while visiting Maryland Live!. Cute hotel in a great location. Clean, with a very modern look, upgraded bathrooms and amenities and super nice staff. Would definitely recommend and stay there again!</td>\n",
       "      <td>0.378807</td>\n",
       "      <td>0.688333</td>\n",
       "      <td>5.0</td>\n",
       "    </tr>\n",
       "    <tr>\n",
       "      <th>8</th>\n",
       "      <td>Aloft Arundel Mills</td>\n",
       "      <td>I travel a lot with my job, so I'm constantly staying at hotels. When my co-workers and I arrived late last night at the Aloft the people at the front desk were more than welcoming. When I wanted to order room service I was told it was too late however, Olivia at the front desk informed me of a Italian... More</td>\n",
       "      <td>0.057143</td>\n",
       "      <td>0.371429</td>\n",
       "      <td>5.0</td>\n",
       "    </tr>\n",
       "    <tr>\n",
       "      <th>9</th>\n",
       "      <td>Hampton Inn Suites PortlandVancouver</td>\n",
       "      <td>In my line of work, I use meeting space in hotels often. In my 15+ years of doing this work, this is the first time I've felt the undeniable pull to go out and write a hotel review, based solely on my meeting room experience. Though I did not use a guest room here, my colleagues who did shared that... More</td>\n",
       "      <td>0.375000</td>\n",
       "      <td>0.416667</td>\n",
       "      <td>5.0</td>\n",
       "    </tr>\n",
       "    <tr>\n",
       "      <th>10</th>\n",
       "      <td>Hampton Inn Suites PortlandVancouver</td>\n",
       "      <td>The staff is very friendly and helpful. The rooms are large and nicely furnished. Feels new, as if we were the first to stay there. Actually it is more opulent than I require. The free breakfast was good with sufficient choices including fresh fruit salad, eggs, bacon, bagels and pastries and more. It was a great location for our purpose:... More</td>\n",
       "      <td>0.449012</td>\n",
       "      <td>0.584704</td>\n",
       "      <td>5.0</td>\n",
       "    </tr>\n",
       "  </tbody>\n",
       "</table>\n",
       "</div>"
      ],
      "text/plain": [
       "                                    name  \\\n",
       "0             Rancho Valencia Resort Spa   \n",
       "1             Rancho Valencia Resort Spa   \n",
       "2             Rancho Valencia Resort Spa   \n",
       "4                    Aloft Arundel Mills   \n",
       "5                    Aloft Arundel Mills   \n",
       "6                    Aloft Arundel Mills   \n",
       "7                    Aloft Arundel Mills   \n",
       "8                    Aloft Arundel Mills   \n",
       "9   Hampton Inn Suites PortlandVancouver   \n",
       "10  Hampton Inn Suites PortlandVancouver   \n",
       "\n",
       "                                                                                                                                                                                                                                                                                                                                                                                                                                                                               reviews.text  \\\n",
       "0                                                                                                                                                                                                                                                                                                                 Our experience at Rancho Valencia was absolutely perfect from beginning to end!!!! We felt special and very happy during our stayed. I would come back in a heart beat!!!   \n",
       "1                                                                                                                                                                                               Amazing place. Everyone was extremely warm and welcoming. We've stayed at some top notch places and this is definitely in our top 2. Great for a romantic getaway or take the kids along as we did. Had a couple stuffed animals waiting for our girls upon arrival. Can't wait to go back.   \n",
       "2   We booked a 3 night stay at Rancho Valencia to play some tennis, since it is one of the highest rated tennis resorts in America. This place is really over the top from a luxury standpoint and overall experience. The villas are really perfect, the staff is great, attention to details (includes fresh squeezed orange juice each morning), restaurants, bar and room service amazing, and the tennis program was really impressive as well. We will want to come back here again.   \n",
       "4                                                                                                                                                                       I live in Md and the Aloft is my Home away from home...we stayed 1 night 7-7-16 ...Staff is great ! Especially Olivia who was Extra special because she remembered me by my voice over the phone ...which tells me she is very alert and pays attention to the customer their needs.AND SHE DID ! Thumbs up... More   \n",
       "5                                                                                                                                                                                                                                      I stayed here with my family for my daughters wedding. It had a very accommodating staff, Olivia was excellent. The rooms were very well maintained. Would highly recommend this hotel, especially if your wedding venue is Celebrations at the Bay!   \n",
       "6                                                                                                                                      Beautiful rooms and the nicest people working there. The front desk lady, Olivia, was extremely patient and helpful. We had lots of questions and she had just as many answers. The rooms were sleek and modern. The only thing that would make this hotel better would be free breakfast, but I really am asking for a lot. A++ stay. Thank... More   \n",
       "7                                                                                                                                                                                                                                                                     We stayed here while visiting Maryland Live!. Cute hotel in a great location. Clean, with a very modern look, upgraded bathrooms and amenities and super nice staff. Would definitely recommend and stay there again!   \n",
       "8                                                                                                                                                                   I travel a lot with my job, so I'm constantly staying at hotels. When my co-workers and I arrived late last night at the Aloft the people at the front desk were more than welcoming. When I wanted to order room service I was told it was too late however, Olivia at the front desk informed me of a Italian... More   \n",
       "9                                                                                                                                                                       In my line of work, I use meeting space in hotels often. In my 15+ years of doing this work, this is the first time I've felt the undeniable pull to go out and write a hotel review, based solely on my meeting room experience. Though I did not use a guest room here, my colleagues who did shared that... More   \n",
       "10                                                                                                                             The staff is very friendly and helpful. The rooms are large and nicely furnished. Feels new, as if we were the first to stay there. Actually it is more opulent than I require. The free breakfast was good with sufficient choices including fresh fruit salad, eggs, bacon, bagels and pastries and more. It was a great location for our purpose:... More   \n",
       "\n",
       "    polarity  subjectivity  reviews.rating  \n",
       "0   0.589286      0.642857             5.0  \n",
       "1   0.375000      0.531250             5.0  \n",
       "2   0.488889      0.538889             5.0  \n",
       "4   0.320501      0.531633             5.0  \n",
       "5   0.312000      0.628000             5.0  \n",
       "6   0.336111      0.644444             5.0  \n",
       "7   0.378807      0.688333             5.0  \n",
       "8   0.057143      0.371429             5.0  \n",
       "9   0.375000      0.416667             5.0  \n",
       "10  0.449012      0.584704             5.0  "
      ]
     },
     "execution_count": 9,
     "metadata": {},
     "output_type": "execute_result"
    }
   ],
   "source": [
    "pd.set_option('display.max_colwidth', 1000)\n",
    "\n",
    "# Calcul du nombre de commentaires positives\n",
    "positives_comments = df[df['polarity'] > 0].shape[0]\n",
    "\n",
    "# Calcul du pourcentage de commentaires négatifs\n",
    "percentage_positives = (positives_comments / total_comments) * 100\n",
    "\n",
    "print(f\"Nombre de commentaires négatifs : {positives_comments}\")\n",
    "print(f\"Pourcentage de commentaires négatifs : {percentage_positives:.2f}% \\n\\n\")\n",
    "\n",
    "# Affichage des commentaires positives\n",
    "print(\"Commentaires positives :\")\n",
    "df[['name','reviews.text','polarity','subjectivity','reviews.rating']][df.polarity>0].head(10)"
   ]
  },
  {
   "cell_type": "markdown",
   "metadata": {},
   "source": [
    "### 3.1.3. Commentaires Neutres"
   ]
  },
  {
   "cell_type": "code",
   "execution_count": 10,
   "metadata": {},
   "outputs": [
    {
     "name": "stdout",
     "output_type": "stream",
     "text": [
      "Nombre de commentaires négatifs : 123\n",
      "Pourcentage de commentaires négatifs : 1.23% \n",
      "\n",
      "\n",
      "Commentaires neutres :\n"
     ]
    },
    {
     "data": {
      "text/html": [
       "<div>\n",
       "<style scoped>\n",
       "    .dataframe tbody tr th:only-of-type {\n",
       "        vertical-align: middle;\n",
       "    }\n",
       "\n",
       "    .dataframe tbody tr th {\n",
       "        vertical-align: top;\n",
       "    }\n",
       "\n",
       "    .dataframe thead th {\n",
       "        text-align: right;\n",
       "    }\n",
       "</style>\n",
       "<table border=\"1\" class=\"dataframe\">\n",
       "  <thead>\n",
       "    <tr style=\"text-align: right;\">\n",
       "      <th></th>\n",
       "      <th>name</th>\n",
       "      <th>reviews.text</th>\n",
       "      <th>polarity</th>\n",
       "      <th>subjectivity</th>\n",
       "      <th>reviews.rating</th>\n",
       "    </tr>\n",
       "  </thead>\n",
       "  <tbody>\n",
       "    <tr>\n",
       "      <th>112</th>\n",
       "      <td>The Boxer</td>\n",
       "      <td>The location</td>\n",
       "      <td>0.0</td>\n",
       "      <td>0.0</td>\n",
       "      <td>5.00</td>\n",
       "    </tr>\n",
       "    <tr>\n",
       "      <th>653</th>\n",
       "      <td>W Boston</td>\n",
       "      <td>Dated... The room</td>\n",
       "      <td>0.0</td>\n",
       "      <td>0.0</td>\n",
       "      <td>3.55</td>\n",
       "    </tr>\n",
       "    <tr>\n",
       "      <th>691</th>\n",
       "      <td>W Boston</td>\n",
       "      <td>Big room</td>\n",
       "      <td>0.0</td>\n",
       "      <td>0.1</td>\n",
       "      <td>5.00</td>\n",
       "    </tr>\n",
       "    <tr>\n",
       "      <th>1300</th>\n",
       "      <td>Holiday Inn North Phoenix</td>\n",
       "      <td>This hotel has bedbugs!! The staff acted like it wasn't a big idea!! Don't stay here!!</td>\n",
       "      <td>0.0</td>\n",
       "      <td>0.1</td>\n",
       "      <td>1.00</td>\n",
       "    </tr>\n",
       "    <tr>\n",
       "      <th>1305</th>\n",
       "      <td>Holiday Inn North Phoenix</td>\n",
       "      <td>I like it</td>\n",
       "      <td>0.0</td>\n",
       "      <td>0.0</td>\n",
       "      <td>4.00</td>\n",
       "    </tr>\n",
       "    <tr>\n",
       "      <th>1569</th>\n",
       "      <td>Best Western Courtesy Inn</td>\n",
       "      <td>Stayed there to be close to downtown disney</td>\n",
       "      <td>0.0</td>\n",
       "      <td>0.0</td>\n",
       "      <td>4.00</td>\n",
       "    </tr>\n",
       "    <tr>\n",
       "      <th>1588</th>\n",
       "      <td>Pacific Inn</td>\n",
       "      <td>We had difficulty finding this motel. It is closer to Knott's Berry Farm over Disneyland. The check in lobby smelled of urine. The hotel does not have a lift of any sort for the second floor, therefore consider this if climbing stairs is an issue....More</td>\n",
       "      <td>0.0</td>\n",
       "      <td>0.0</td>\n",
       "      <td>2.00</td>\n",
       "    </tr>\n",
       "    <tr>\n",
       "      <th>1996</th>\n",
       "      <td>Clarion Inn &amp; Suites</td>\n",
       "      <td>Met our expectations.</td>\n",
       "      <td>0.0</td>\n",
       "      <td>0.0</td>\n",
       "      <td>3.00</td>\n",
       "    </tr>\n",
       "    <tr>\n",
       "      <th>2551</th>\n",
       "      <td>Hampton Inn-athens</td>\n",
       "      <td>although the initial nonsmoking room selected on line was found to have the lingering smell of smokers, the front desk staff did not hesitate to relocate us to a similar room that met our expectations. no hassles.</td>\n",
       "      <td>0.0</td>\n",
       "      <td>0.2</td>\n",
       "      <td>4.00</td>\n",
       "    </tr>\n",
       "    <tr>\n",
       "      <th>2689</th>\n",
       "      <td>Baymont Inn &amp; Suites Bowling Green</td>\n",
       "      <td>Room smelled musty, carpets and bedding had a sticky feel. Pool out of order. Keep driving and don't stop here.</td>\n",
       "      <td>0.0</td>\n",
       "      <td>0.0</td>\n",
       "      <td>1.00</td>\n",
       "    </tr>\n",
       "  </tbody>\n",
       "</table>\n",
       "</div>"
      ],
      "text/plain": [
       "                                    name  \\\n",
       "112                            The Boxer   \n",
       "653                             W Boston   \n",
       "691                             W Boston   \n",
       "1300           Holiday Inn North Phoenix   \n",
       "1305           Holiday Inn North Phoenix   \n",
       "1569           Best Western Courtesy Inn   \n",
       "1588                         Pacific Inn   \n",
       "1996                Clarion Inn & Suites   \n",
       "2551                  Hampton Inn-athens   \n",
       "2689  Baymont Inn & Suites Bowling Green   \n",
       "\n",
       "                                                                                                                                                                                                                                                        reviews.text  \\\n",
       "112                                                                                                                                                                                                                                                     The location   \n",
       "653                                                                                                                                                                                                                                                Dated... The room   \n",
       "691                                                                                                                                                                                                                                                         Big room   \n",
       "1300                                                                                                                                                                          This hotel has bedbugs!! The staff acted like it wasn't a big idea!! Don't stay here!!   \n",
       "1305                                                                                                                                                                                                                                                       I like it   \n",
       "1569                                                                                                                                                                                                                     Stayed there to be close to downtown disney   \n",
       "1588  We had difficulty finding this motel. It is closer to Knott's Berry Farm over Disneyland. The check in lobby smelled of urine. The hotel does not have a lift of any sort for the second floor, therefore consider this if climbing stairs is an issue....More   \n",
       "1996                                                                                                                                                                                                                                           Met our expectations.   \n",
       "2551                                           although the initial nonsmoking room selected on line was found to have the lingering smell of smokers, the front desk staff did not hesitate to relocate us to a similar room that met our expectations. no hassles.   \n",
       "2689                                                                                                                                                 Room smelled musty, carpets and bedding had a sticky feel. Pool out of order. Keep driving and don't stop here.   \n",
       "\n",
       "      polarity  subjectivity  reviews.rating  \n",
       "112        0.0           0.0            5.00  \n",
       "653        0.0           0.0            3.55  \n",
       "691        0.0           0.1            5.00  \n",
       "1300       0.0           0.1            1.00  \n",
       "1305       0.0           0.0            4.00  \n",
       "1569       0.0           0.0            4.00  \n",
       "1588       0.0           0.0            2.00  \n",
       "1996       0.0           0.0            3.00  \n",
       "2551       0.0           0.2            4.00  \n",
       "2689       0.0           0.0            1.00  "
      ]
     },
     "execution_count": 10,
     "metadata": {},
     "output_type": "execute_result"
    }
   ],
   "source": [
    "pd.set_option('display.max_colwidth', 1000)\n",
    "# Calcul du nombre de commentaires positives\n",
    "neutre_comments = df[df['polarity'] == 0].shape[0]\n",
    "\n",
    "# Calcul du pourcentage de commentaires négatifs\n",
    "percentage_neutre = (neutre_comments / total_comments) * 100\n",
    "\n",
    "print(f\"Nombre de commentaires négatifs : {neutre_comments}\")\n",
    "print(f\"Pourcentage de commentaires négatifs : {percentage_neutre:.2f}% \\n\\n\")\n",
    "\n",
    "# Affichage des commentaires positives\n",
    "print(\"Commentaires neutres :\")\n",
    "df[['name','reviews.text','polarity','subjectivity','reviews.rating']][df.polarity==0].head(10)"
   ]
  },
  {
   "cell_type": "markdown",
   "metadata": {},
   "source": [
    "### 3.1.4. Avis Fortement Positives"
   ]
  },
  {
   "cell_type": "code",
   "execution_count": 12,
   "metadata": {},
   "outputs": [
    {
     "name": "stdout",
     "output_type": "stream",
     "text": [
      "polarité plus de 0.8 :\n"
     ]
    },
    {
     "data": {
      "text/html": [
       "<div>\n",
       "<style scoped>\n",
       "    .dataframe tbody tr th:only-of-type {\n",
       "        vertical-align: middle;\n",
       "    }\n",
       "\n",
       "    .dataframe tbody tr th {\n",
       "        vertical-align: top;\n",
       "    }\n",
       "\n",
       "    .dataframe thead th {\n",
       "        text-align: right;\n",
       "    }\n",
       "</style>\n",
       "<table border=\"1\" class=\"dataframe\">\n",
       "  <thead>\n",
       "    <tr style=\"text-align: right;\">\n",
       "      <th></th>\n",
       "      <th>name</th>\n",
       "      <th>reviews.text</th>\n",
       "      <th>polarity</th>\n",
       "      <th>subjectivity</th>\n",
       "      <th>reviews.rating</th>\n",
       "    </tr>\n",
       "  </thead>\n",
       "  <tbody>\n",
       "    <tr>\n",
       "      <th>20</th>\n",
       "      <td>The Inn at Solvang</td>\n",
       "      <td>Everything was sold out in State College for Garth's concerts and the Inn came up as available...what an amazing find!! I'll be making the drive now each visit, just to stay there! The Inn is wonderfully decorated and I so enjoyed browsing all the books. Breakfast was amazing each morning. Thank you Stephanie and team!!</td>\n",
       "      <td>0.859375</td>\n",
       "      <td>0.875000</td>\n",
       "      <td>5.0</td>\n",
       "    </tr>\n",
       "    <tr>\n",
       "      <th>51</th>\n",
       "      <td>Hampton Inn Suites National HarborAlexandria Area</td>\n",
       "      <td>I can't comment on the breakfast because we slept through it but everything else was excellent! I dont know why anyone would pay twice the price to stay at the Gaylord. 5 stars all the way!</td>\n",
       "      <td>1.000000</td>\n",
       "      <td>1.000000</td>\n",
       "      <td>5.0</td>\n",
       "    </tr>\n",
       "    <tr>\n",
       "      <th>136</th>\n",
       "      <td>The Boxer</td>\n",
       "      <td>Good: The location was perfect for walking to everything</td>\n",
       "      <td>0.850000</td>\n",
       "      <td>0.800000</td>\n",
       "      <td>4.4</td>\n",
       "    </tr>\n",
       "    <tr>\n",
       "      <th>342</th>\n",
       "      <td>The Charlesmark Hotel</td>\n",
       "      <td>Good: An excellent concierge.He thought through problems and gave you an informed choice of solutions.</td>\n",
       "      <td>0.850000</td>\n",
       "      <td>0.800000</td>\n",
       "      <td>4.6</td>\n",
       "    </tr>\n",
       "    <tr>\n",
       "      <th>344</th>\n",
       "      <td>The Charlesmark Hotel</td>\n",
       "      <td>Everything was perfect</td>\n",
       "      <td>1.000000</td>\n",
       "      <td>1.000000</td>\n",
       "      <td>5.0</td>\n",
       "    </tr>\n",
       "    <tr>\n",
       "      <th>352</th>\n",
       "      <td>The Charlesmark Hotel</td>\n",
       "      <td>Good: Staff was wonderful! The location perfect. Nice breakfast</td>\n",
       "      <td>0.825000</td>\n",
       "      <td>0.900000</td>\n",
       "      <td>4.8</td>\n",
       "    </tr>\n",
       "    <tr>\n",
       "      <th>356</th>\n",
       "      <td>The Charlesmark Hotel</td>\n",
       "      <td>Good: Excellent location</td>\n",
       "      <td>0.850000</td>\n",
       "      <td>0.800000</td>\n",
       "      <td>4.6</td>\n",
       "    </tr>\n",
       "    <tr>\n",
       "      <th>406</th>\n",
       "      <td>Room Mate Lord Balfour</td>\n",
       "      <td>Good: Courtesy, friendliness of employees. Perfect location.</td>\n",
       "      <td>0.850000</td>\n",
       "      <td>0.800000</td>\n",
       "      <td>5.0</td>\n",
       "    </tr>\n",
       "    <tr>\n",
       "      <th>407</th>\n",
       "      <td>Room Mate Lord Balfour</td>\n",
       "      <td>Good: Best Location SouthBeach, nice staff!</td>\n",
       "      <td>0.816667</td>\n",
       "      <td>0.633333</td>\n",
       "      <td>4.8</td>\n",
       "    </tr>\n",
       "    <tr>\n",
       "      <th>421</th>\n",
       "      <td>Room Mate Lord Balfour</td>\n",
       "      <td>Good: Location is just excellent! And the fact that they provide you included sunbed at the beach!</td>\n",
       "      <td>0.850000</td>\n",
       "      <td>0.800000</td>\n",
       "      <td>5.0</td>\n",
       "    </tr>\n",
       "  </tbody>\n",
       "</table>\n",
       "</div>"
      ],
      "text/plain": [
       "                                                  name  \\\n",
       "20                                  The Inn at Solvang   \n",
       "51   Hampton Inn Suites National HarborAlexandria Area   \n",
       "136                                          The Boxer   \n",
       "342                              The Charlesmark Hotel   \n",
       "344                              The Charlesmark Hotel   \n",
       "352                              The Charlesmark Hotel   \n",
       "356                              The Charlesmark Hotel   \n",
       "406                             Room Mate Lord Balfour   \n",
       "407                             Room Mate Lord Balfour   \n",
       "421                             Room Mate Lord Balfour   \n",
       "\n",
       "                                                                                                                                                                                                                                                                                                                          reviews.text  \\\n",
       "20   Everything was sold out in State College for Garth's concerts and the Inn came up as available...what an amazing find!! I'll be making the drive now each visit, just to stay there! The Inn is wonderfully decorated and I so enjoyed browsing all the books. Breakfast was amazing each morning. Thank you Stephanie and team!!   \n",
       "51                                                                                                                                       I can't comment on the breakfast because we slept through it but everything else was excellent! I dont know why anyone would pay twice the price to stay at the Gaylord. 5 stars all the way!   \n",
       "136                                                                                                                                                                                                                                                                           Good: The location was perfect for walking to everything   \n",
       "342                                                                                                                                                                                                                             Good: An excellent concierge.He thought through problems and gave you an informed choice of solutions.   \n",
       "344                                                                                                                                                                                                                                                                                                             Everything was perfect   \n",
       "352                                                                                                                                                                                                                                                                    Good: Staff was wonderful! The location perfect. Nice breakfast   \n",
       "356                                                                                                                                                                                                                                                                                                           Good: Excellent location   \n",
       "406                                                                                                                                                                                                                                                                       Good: Courtesy, friendliness of employees. Perfect location.   \n",
       "407                                                                                                                                                                                                                                                                                        Good: Best Location SouthBeach, nice staff!   \n",
       "421                                                                                                                                                                                                                                 Good: Location is just excellent! And the fact that they provide you included sunbed at the beach!   \n",
       "\n",
       "     polarity  subjectivity  reviews.rating  \n",
       "20   0.859375      0.875000             5.0  \n",
       "51   1.000000      1.000000             5.0  \n",
       "136  0.850000      0.800000             4.4  \n",
       "342  0.850000      0.800000             4.6  \n",
       "344  1.000000      1.000000             5.0  \n",
       "352  0.825000      0.900000             4.8  \n",
       "356  0.850000      0.800000             4.6  \n",
       "406  0.850000      0.800000             5.0  \n",
       "407  0.816667      0.633333             4.8  \n",
       "421  0.850000      0.800000             5.0  "
      ]
     },
     "execution_count": 12,
     "metadata": {},
     "output_type": "execute_result"
    }
   ],
   "source": [
    "pd.set_option('display.max_colwidth', 1000)\n",
    "\n",
    "print(\"polarité plus de 0.8 :\")\n",
    "df[['name','reviews.text','polarity','subjectivity','reviews.rating']][df.polarity>0.8].head(10)"
   ]
  },
  {
   "cell_type": "markdown",
   "metadata": {},
   "source": [
    "### 3.1.5. Avis Fortement Négatives"
   ]
  },
  {
   "cell_type": "code",
   "execution_count": 13,
   "metadata": {},
   "outputs": [
    {
     "name": "stdout",
     "output_type": "stream",
     "text": [
      "Polarité moins de -0.5 :\n"
     ]
    },
    {
     "data": {
      "text/html": [
       "<div>\n",
       "<style scoped>\n",
       "    .dataframe tbody tr th:only-of-type {\n",
       "        vertical-align: middle;\n",
       "    }\n",
       "\n",
       "    .dataframe tbody tr th {\n",
       "        vertical-align: top;\n",
       "    }\n",
       "\n",
       "    .dataframe thead th {\n",
       "        text-align: right;\n",
       "    }\n",
       "</style>\n",
       "<table border=\"1\" class=\"dataframe\">\n",
       "  <thead>\n",
       "    <tr style=\"text-align: right;\">\n",
       "      <th></th>\n",
       "      <th>name</th>\n",
       "      <th>reviews.text</th>\n",
       "      <th>polarity</th>\n",
       "      <th>subjectivity</th>\n",
       "      <th>reviews.rating</th>\n",
       "    </tr>\n",
       "  </thead>\n",
       "  <tbody>\n",
       "    <tr>\n",
       "      <th>148</th>\n",
       "      <td>The Boxer</td>\n",
       "      <td>Bad: Buffet food.</td>\n",
       "      <td>-0.700000</td>\n",
       "      <td>0.666667</td>\n",
       "      <td>4.15</td>\n",
       "    </tr>\n",
       "    <tr>\n",
       "      <th>192</th>\n",
       "      <td>Fremont Hotel &amp; Casino</td>\n",
       "      <td>Bad: Rooms small, air conditioning don't work!!.</td>\n",
       "      <td>-0.545312</td>\n",
       "      <td>0.533333</td>\n",
       "      <td>2.10</td>\n",
       "    </tr>\n",
       "    <tr>\n",
       "      <th>197</th>\n",
       "      <td>Fremont Hotel &amp; Casino</td>\n",
       "      <td>Bad: none.</td>\n",
       "      <td>-0.700000</td>\n",
       "      <td>0.666667</td>\n",
       "      <td>1.65</td>\n",
       "    </tr>\n",
       "    <tr>\n",
       "      <th>233</th>\n",
       "      <td>Fremont Hotel &amp; Casino</td>\n",
       "      <td>Bad: Hassle checking in confirmation email lost by bookings or Fremont hotel had my email almost didn't use mine scary .</td>\n",
       "      <td>-0.600000</td>\n",
       "      <td>0.833333</td>\n",
       "      <td>3.75</td>\n",
       "    </tr>\n",
       "    <tr>\n",
       "      <th>326</th>\n",
       "      <td>The Charlesmark Hotel</td>\n",
       "      <td>Bad: Breakfast.</td>\n",
       "      <td>-0.700000</td>\n",
       "      <td>0.666667</td>\n",
       "      <td>3.95</td>\n",
       "    </tr>\n",
       "    <tr>\n",
       "      <th>419</th>\n",
       "      <td>Room Mate Lord Balfour</td>\n",
       "      <td>Bad: The valet parking was the worst at one time waited 45 min then 30 min for my vehicle to arrive. Twice the excuse given was the ticket inside vehicle was wrong.</td>\n",
       "      <td>-0.562500</td>\n",
       "      <td>0.654167</td>\n",
       "      <td>4.40</td>\n",
       "    </tr>\n",
       "    <tr>\n",
       "      <th>449</th>\n",
       "      <td>Room Mate Lord Balfour</td>\n",
       "      <td>Bad: Invoicing of non used items after leaving the hotel.</td>\n",
       "      <td>-0.700000</td>\n",
       "      <td>0.666667</td>\n",
       "      <td>3.15</td>\n",
       "    </tr>\n",
       "    <tr>\n",
       "      <th>463</th>\n",
       "      <td>The Westin Las Vegas Hotel &amp; Spa</td>\n",
       "      <td>Bad: Was told I would get a robe and didn't.</td>\n",
       "      <td>-0.700000</td>\n",
       "      <td>0.666667</td>\n",
       "      <td>3.75</td>\n",
       "    </tr>\n",
       "    <tr>\n",
       "      <th>503</th>\n",
       "      <td>The Westin Las Vegas Hotel &amp; Spa</td>\n",
       "      <td>Bad: No casino.</td>\n",
       "      <td>-0.700000</td>\n",
       "      <td>0.666667</td>\n",
       "      <td>4.80</td>\n",
       "    </tr>\n",
       "    <tr>\n",
       "      <th>527</th>\n",
       "      <td>The Westin Las Vegas Hotel &amp; Spa</td>\n",
       "      <td>Bad: Walls are very thin, be prepared to hear your neighbors.</td>\n",
       "      <td>-0.610000</td>\n",
       "      <td>0.833333</td>\n",
       "      <td>3.75</td>\n",
       "    </tr>\n",
       "  </tbody>\n",
       "</table>\n",
       "</div>"
      ],
      "text/plain": [
       "                                 name  \\\n",
       "148                         The Boxer   \n",
       "192            Fremont Hotel & Casino   \n",
       "197            Fremont Hotel & Casino   \n",
       "233            Fremont Hotel & Casino   \n",
       "326             The Charlesmark Hotel   \n",
       "419            Room Mate Lord Balfour   \n",
       "449            Room Mate Lord Balfour   \n",
       "463  The Westin Las Vegas Hotel & Spa   \n",
       "503  The Westin Las Vegas Hotel & Spa   \n",
       "527  The Westin Las Vegas Hotel & Spa   \n",
       "\n",
       "                                                                                                                                                             reviews.text  \\\n",
       "148                                                                                                                                                     Bad: Buffet food.   \n",
       "192                                                                                                                      Bad: Rooms small, air conditioning don't work!!.   \n",
       "197                                                                                                                                                            Bad: none.   \n",
       "233                                              Bad: Hassle checking in confirmation email lost by bookings or Fremont hotel had my email almost didn't use mine scary .   \n",
       "326                                                                                                                                                       Bad: Breakfast.   \n",
       "419  Bad: The valet parking was the worst at one time waited 45 min then 30 min for my vehicle to arrive. Twice the excuse given was the ticket inside vehicle was wrong.   \n",
       "449                                                                                                             Bad: Invoicing of non used items after leaving the hotel.   \n",
       "463                                                                                                                          Bad: Was told I would get a robe and didn't.   \n",
       "503                                                                                                                                                       Bad: No casino.   \n",
       "527                                                                                                         Bad: Walls are very thin, be prepared to hear your neighbors.   \n",
       "\n",
       "     polarity  subjectivity  reviews.rating  \n",
       "148 -0.700000      0.666667            4.15  \n",
       "192 -0.545312      0.533333            2.10  \n",
       "197 -0.700000      0.666667            1.65  \n",
       "233 -0.600000      0.833333            3.75  \n",
       "326 -0.700000      0.666667            3.95  \n",
       "419 -0.562500      0.654167            4.40  \n",
       "449 -0.700000      0.666667            3.15  \n",
       "463 -0.700000      0.666667            3.75  \n",
       "503 -0.700000      0.666667            4.80  \n",
       "527 -0.610000      0.833333            3.75  "
      ]
     },
     "execution_count": 13,
     "metadata": {},
     "output_type": "execute_result"
    }
   ],
   "source": [
    "\n",
    "pd.set_option('display.max_colwidth', 1000)\n",
    "\n",
    "print(\"Polarité moins de -0.5 :\")\n",
    "df[['name','reviews.text','polarity','subjectivity','reviews.rating']][df.polarity<-0.5].head(10)\n"
   ]
  },
  {
   "cell_type": "markdown",
   "metadata": {},
   "source": [
    "### 3.1.6. Avis hautement subjectifs"
   ]
  },
  {
   "cell_type": "code",
   "execution_count": 14,
   "metadata": {},
   "outputs": [
    {
     "name": "stdout",
     "output_type": "stream",
     "text": [
      "Subjectivité plus de 0.8 :\n"
     ]
    },
    {
     "data": {
      "text/html": [
       "<div>\n",
       "<style scoped>\n",
       "    .dataframe tbody tr th:only-of-type {\n",
       "        vertical-align: middle;\n",
       "    }\n",
       "\n",
       "    .dataframe tbody tr th {\n",
       "        vertical-align: top;\n",
       "    }\n",
       "\n",
       "    .dataframe thead th {\n",
       "        text-align: right;\n",
       "    }\n",
       "</style>\n",
       "<table border=\"1\" class=\"dataframe\">\n",
       "  <thead>\n",
       "    <tr style=\"text-align: right;\">\n",
       "      <th></th>\n",
       "      <th>name</th>\n",
       "      <th>reviews.text</th>\n",
       "      <th>polarity</th>\n",
       "      <th>subjectivity</th>\n",
       "      <th>reviews.rating</th>\n",
       "    </tr>\n",
       "  </thead>\n",
       "  <tbody>\n",
       "    <tr>\n",
       "      <th>20</th>\n",
       "      <td>The Inn at Solvang</td>\n",
       "      <td>Everything was sold out in State College for Garth's concerts and the Inn came up as available...what an amazing find!! I'll be making the drive now each visit, just to stay there! The Inn is wonderfully decorated and I so enjoyed browsing all the books. Breakfast was amazing each morning. Thank you Stephanie and team!!</td>\n",
       "      <td>0.859375</td>\n",
       "      <td>0.875000</td>\n",
       "      <td>5.00</td>\n",
       "    </tr>\n",
       "    <tr>\n",
       "      <th>35</th>\n",
       "      <td>Hampton Inn Suites National HarborAlexandria Area</td>\n",
       "      <td>Free breakfast! Attentive staff Fantastic location</td>\n",
       "      <td>0.433333</td>\n",
       "      <td>0.866667</td>\n",
       "      <td>5.00</td>\n",
       "    </tr>\n",
       "    <tr>\n",
       "      <th>42</th>\n",
       "      <td>Hampton Inn Suites National HarborAlexandria Area</td>\n",
       "      <td>I loved my stay VIP service all the way. I didn't want to leave. I can honestly say I will visit again. I give it 5 stars</td>\n",
       "      <td>0.650000</td>\n",
       "      <td>0.850000</td>\n",
       "      <td>5.00</td>\n",
       "    </tr>\n",
       "    <tr>\n",
       "      <th>51</th>\n",
       "      <td>Hampton Inn Suites National HarborAlexandria Area</td>\n",
       "      <td>I can't comment on the breakfast because we slept through it but everything else was excellent! I dont know why anyone would pay twice the price to stay at the Gaylord. 5 stars all the way!</td>\n",
       "      <td>1.000000</td>\n",
       "      <td>1.000000</td>\n",
       "      <td>5.00</td>\n",
       "    </tr>\n",
       "    <tr>\n",
       "      <th>55</th>\n",
       "      <td>Hampton Inn Suites National HarborAlexandria Area</td>\n",
       "      <td>I stayed here with some friends for a convention. It was a good room and the free breakfast was nice.</td>\n",
       "      <td>0.566667</td>\n",
       "      <td>0.800000</td>\n",
       "      <td>4.00</td>\n",
       "    </tr>\n",
       "    <tr>\n",
       "      <th>59</th>\n",
       "      <td>Fairmont Grand Del Mar</td>\n",
       "      <td>We hosted our annual Client Event at The Grand Del Mar and it was excellent!! The service, property, rooms, restaurants, and GOLF absolutely magnificent. Our conference managers were a gem, great service! Thank you for making an important event run so smoothly.</td>\n",
       "      <td>0.716667</td>\n",
       "      <td>0.875000</td>\n",
       "      <td>5.00</td>\n",
       "    </tr>\n",
       "    <tr>\n",
       "      <th>67</th>\n",
       "      <td>Fairmont Grand Del Mar</td>\n",
       "      <td>The resort and staff are wonderful. The hotel is very nice and the groups are beautiful. The location is secluded so you need a rental car or to book the house car in advance. The concierge staff has not been to most of the spots so use trip advisor to help find the right places.</td>\n",
       "      <td>0.683143</td>\n",
       "      <td>0.807143</td>\n",
       "      <td>5.00</td>\n",
       "    </tr>\n",
       "    <tr>\n",
       "      <th>105</th>\n",
       "      <td>The Boxer</td>\n",
       "      <td>Good: Beautiful rooms and amenities - L'occitane products. The restaurant Finch great food and amazing bar. Loved the Boxer</td>\n",
       "      <td>0.730000</td>\n",
       "      <td>0.810000</td>\n",
       "      <td>5.00</td>\n",
       "    </tr>\n",
       "    <tr>\n",
       "      <th>129</th>\n",
       "      <td>The Boxer</td>\n",
       "      <td>the bed was very comfortable</td>\n",
       "      <td>0.520000</td>\n",
       "      <td>1.000000</td>\n",
       "      <td>5.00</td>\n",
       "    </tr>\n",
       "    <tr>\n",
       "      <th>143</th>\n",
       "      <td>The Boxer</td>\n",
       "      <td>The bed was uncomfortable It was close walking distance to everything</td>\n",
       "      <td>-0.500000</td>\n",
       "      <td>1.000000</td>\n",
       "      <td>4.15</td>\n",
       "    </tr>\n",
       "  </tbody>\n",
       "</table>\n",
       "</div>"
      ],
      "text/plain": [
       "                                                  name  \\\n",
       "20                                  The Inn at Solvang   \n",
       "35   Hampton Inn Suites National HarborAlexandria Area   \n",
       "42   Hampton Inn Suites National HarborAlexandria Area   \n",
       "51   Hampton Inn Suites National HarborAlexandria Area   \n",
       "55   Hampton Inn Suites National HarborAlexandria Area   \n",
       "59                              Fairmont Grand Del Mar   \n",
       "67                              Fairmont Grand Del Mar   \n",
       "105                                          The Boxer   \n",
       "129                                          The Boxer   \n",
       "143                                          The Boxer   \n",
       "\n",
       "                                                                                                                                                                                                                                                                                                                          reviews.text  \\\n",
       "20   Everything was sold out in State College for Garth's concerts and the Inn came up as available...what an amazing find!! I'll be making the drive now each visit, just to stay there! The Inn is wonderfully decorated and I so enjoyed browsing all the books. Breakfast was amazing each morning. Thank you Stephanie and team!!   \n",
       "35                                                                                                                                                                                                                                                                                  Free breakfast! Attentive staff Fantastic location   \n",
       "42                                                                                                                                                                                                           I loved my stay VIP service all the way. I didn't want to leave. I can honestly say I will visit again. I give it 5 stars   \n",
       "51                                                                                                                                       I can't comment on the breakfast because we slept through it but everything else was excellent! I dont know why anyone would pay twice the price to stay at the Gaylord. 5 stars all the way!   \n",
       "55                                                                                                                                                                                                                               I stayed here with some friends for a convention. It was a good room and the free breakfast was nice.   \n",
       "59                                                               We hosted our annual Client Event at The Grand Del Mar and it was excellent!! The service, property, rooms, restaurants, and GOLF absolutely magnificent. Our conference managers were a gem, great service! Thank you for making an important event run so smoothly.   \n",
       "67                                            The resort and staff are wonderful. The hotel is very nice and the groups are beautiful. The location is secluded so you need a rental car or to book the house car in advance. The concierge staff has not been to most of the spots so use trip advisor to help find the right places.   \n",
       "105                                                                                                                                                                                                        Good: Beautiful rooms and amenities - L'occitane products. The restaurant Finch great food and amazing bar. Loved the Boxer   \n",
       "129                                                                                                                                                                                                                                                                                                       the bed was very comfortable   \n",
       "143                                                                                                                                                                                                                                                              The bed was uncomfortable It was close walking distance to everything   \n",
       "\n",
       "     polarity  subjectivity  reviews.rating  \n",
       "20   0.859375      0.875000            5.00  \n",
       "35   0.433333      0.866667            5.00  \n",
       "42   0.650000      0.850000            5.00  \n",
       "51   1.000000      1.000000            5.00  \n",
       "55   0.566667      0.800000            4.00  \n",
       "59   0.716667      0.875000            5.00  \n",
       "67   0.683143      0.807143            5.00  \n",
       "105  0.730000      0.810000            5.00  \n",
       "129  0.520000      1.000000            5.00  \n",
       "143 -0.500000      1.000000            4.15  "
      ]
     },
     "execution_count": 14,
     "metadata": {},
     "output_type": "execute_result"
    }
   ],
   "source": [
    "pd.set_option('display.max_colwidth', 1000)\n",
    "\n",
    "print(\"Subjectivité plus de 0.8 :\")\n",
    "df[['name','reviews.text','polarity','subjectivity','reviews.rating']][df.subjectivity>0.8].head(10)"
   ]
  },
  {
   "cell_type": "markdown",
   "metadata": {},
   "source": [
    "### 3.1.7.  Avis faiblement subjectifs"
   ]
  },
  {
   "cell_type": "code",
   "execution_count": 15,
   "metadata": {},
   "outputs": [
    {
     "name": "stdout",
     "output_type": "stream",
     "text": [
      "Subjectivité moins de 0.3 :\n"
     ]
    },
    {
     "data": {
      "text/html": [
       "<div>\n",
       "<style scoped>\n",
       "    .dataframe tbody tr th:only-of-type {\n",
       "        vertical-align: middle;\n",
       "    }\n",
       "\n",
       "    .dataframe tbody tr th {\n",
       "        vertical-align: top;\n",
       "    }\n",
       "\n",
       "    .dataframe thead th {\n",
       "        text-align: right;\n",
       "    }\n",
       "</style>\n",
       "<table border=\"1\" class=\"dataframe\">\n",
       "  <thead>\n",
       "    <tr style=\"text-align: right;\">\n",
       "      <th></th>\n",
       "      <th>name</th>\n",
       "      <th>reviews.text</th>\n",
       "      <th>polarity</th>\n",
       "      <th>subjectivity</th>\n",
       "      <th>reviews.rating</th>\n",
       "    </tr>\n",
       "  </thead>\n",
       "  <tbody>\n",
       "    <tr>\n",
       "      <th>112</th>\n",
       "      <td>The Boxer</td>\n",
       "      <td>The location</td>\n",
       "      <td>0.000000</td>\n",
       "      <td>0.000000</td>\n",
       "      <td>5.00</td>\n",
       "    </tr>\n",
       "    <tr>\n",
       "      <th>158</th>\n",
       "      <td>Fremont Hotel &amp; Casino</td>\n",
       "      <td>Bad: The room I booked was a non-smoking but when we got to the hotel, the gentleman at the counter said they didn't have any and have not had any available for several days. The guy then said that in order for me to get my money back, I'd have to go through the third party that I booked the room through. Good: Nothing</td>\n",
       "      <td>0.066667</td>\n",
       "      <td>0.277778</td>\n",
       "      <td>1.65</td>\n",
       "    </tr>\n",
       "    <tr>\n",
       "      <th>176</th>\n",
       "      <td>Fremont Hotel &amp; Casino</td>\n",
       "      <td>Bad: The cleanliness wasn't the best. One of our towels and bed sheets had red stains on them which the staff informed us was rust, and not blood....upon arrival the toilet wouldn't flush as well. We got stuck in a smoking room even though we didn't book a smoking room. The noise was unbearable, and when combined with the smoke just added up to disaster. Good: Close to the public transportation systems. In the middle of downtown Las Vegas.</td>\n",
       "      <td>0.138095</td>\n",
       "      <td>0.233333</td>\n",
       "      <td>2.50</td>\n",
       "    </tr>\n",
       "    <tr>\n",
       "      <th>250</th>\n",
       "      <td>Fremont Hotel &amp; Casino</td>\n",
       "      <td>Bad: The cleanliness wasn't the best. One of our towels and bed sheets had red stains on them which the staff informed us was rust, and not blood....upon arrival the toilet wouldn't flush as well. We got stuck in a smoking room even though we didn't book a smoking room. The noise was unbearable, and when combined with the smoke just added up to disaster. Good: Close to the public transportation systems. In the middle of downtown Las Vegas.</td>\n",
       "      <td>0.138095</td>\n",
       "      <td>0.233333</td>\n",
       "      <td>2.50</td>\n",
       "    </tr>\n",
       "    <tr>\n",
       "      <th>355</th>\n",
       "      <td>The Charlesmark Hotel</td>\n",
       "      <td>Nothing to complain about Everything was fine and week with the price. It is very central in Boston and close to the public transportation.</td>\n",
       "      <td>0.138889</td>\n",
       "      <td>0.297222</td>\n",
       "      <td>5.00</td>\n",
       "    </tr>\n",
       "    <tr>\n",
       "      <th>653</th>\n",
       "      <td>W Boston</td>\n",
       "      <td>Dated... The room</td>\n",
       "      <td>0.000000</td>\n",
       "      <td>0.000000</td>\n",
       "      <td>3.55</td>\n",
       "    </tr>\n",
       "    <tr>\n",
       "      <th>691</th>\n",
       "      <td>W Boston</td>\n",
       "      <td>Big room</td>\n",
       "      <td>0.000000</td>\n",
       "      <td>0.100000</td>\n",
       "      <td>5.00</td>\n",
       "    </tr>\n",
       "    <tr>\n",
       "      <th>748</th>\n",
       "      <td>The St. Regis New York</td>\n",
       "      <td>This was our second stay at the St. Regis, and this time we booked through American Express Platinum concierge. As part of their fine hotel's program, we booked for 2 days and the third night was comped. It also included 100.00 towards meals and complete breakfast for 2. Upon checking in, Hugo acknowledged me as a Platinum SPG guest and upgraded us to the Madison Suite! Every room comes with a butler, who will bring you complimentary tea or coffee service. There's a house Bentley which is available on a first come,first served basis. The food is extremely good in their restaurant and the King Cole bar is internationally famous.Dear 112traveler47, Thank you so much for staying at The St. Regis New York during your recent visit to New York City.We are so grateful for your feedback, and we thank you for taking the time to review your experience on TripAdvisor. We hope to see you again soon!Sincerely, Octavia MargineanHotel Manager</td>\n",
       "      <td>0.190314</td>\n",
       "      <td>0.292316</td>\n",
       "      <td>5.00</td>\n",
       "    </tr>\n",
       "    <tr>\n",
       "      <th>1299</th>\n",
       "      <td>Holiday Inn North Phoenix</td>\n",
       "      <td>Garbage hotel beware do not use the toxic water there if you shower in it you will smell like waste water</td>\n",
       "      <td>-0.200000</td>\n",
       "      <td>0.000000</td>\n",
       "      <td>1.00</td>\n",
       "    </tr>\n",
       "    <tr>\n",
       "      <th>1300</th>\n",
       "      <td>Holiday Inn North Phoenix</td>\n",
       "      <td>This hotel has bedbugs!! The staff acted like it wasn't a big idea!! Don't stay here!!</td>\n",
       "      <td>0.000000</td>\n",
       "      <td>0.100000</td>\n",
       "      <td>1.00</td>\n",
       "    </tr>\n",
       "  </tbody>\n",
       "</table>\n",
       "</div>"
      ],
      "text/plain": [
       "                           name  \\\n",
       "112                   The Boxer   \n",
       "158      Fremont Hotel & Casino   \n",
       "176      Fremont Hotel & Casino   \n",
       "250      Fremont Hotel & Casino   \n",
       "355       The Charlesmark Hotel   \n",
       "653                    W Boston   \n",
       "691                    W Boston   \n",
       "748      The St. Regis New York   \n",
       "1299  Holiday Inn North Phoenix   \n",
       "1300  Holiday Inn North Phoenix   \n",
       "\n",
       "                                                                                                                                                                                                                                                                                                                                                                                                                                                                                                                                                                                                                                                                                                                                                                                                                                                                                                                                                                       reviews.text  \\\n",
       "112                                                                                                                                                                                                                                                                                                                                                                                                                                                                                                                                                                                                                                                                                                                                                                                                                                                                                                                                                                    The location   \n",
       "158                                                                                                                                                                                                                                                                                                                                                                                                                                                                                                                                                                                                                                                Bad: The room I booked was a non-smoking but when we got to the hotel, the gentleman at the counter said they didn't have any and have not had any available for several days. The guy then said that in order for me to get my money back, I'd have to go through the third party that I booked the room through. Good: Nothing   \n",
       "176                                                                                                                                                                                                                                                                                                                                                                                                                                                                                                                     Bad: The cleanliness wasn't the best. One of our towels and bed sheets had red stains on them which the staff informed us was rust, and not blood....upon arrival the toilet wouldn't flush as well. We got stuck in a smoking room even though we didn't book a smoking room. The noise was unbearable, and when combined with the smoke just added up to disaster. Good: Close to the public transportation systems. In the middle of downtown Las Vegas.   \n",
       "250                                                                                                                                                                                                                                                                                                                                                                                                                                                                                                                     Bad: The cleanliness wasn't the best. One of our towels and bed sheets had red stains on them which the staff informed us was rust, and not blood....upon arrival the toilet wouldn't flush as well. We got stuck in a smoking room even though we didn't book a smoking room. The noise was unbearable, and when combined with the smoke just added up to disaster. Good: Close to the public transportation systems. In the middle of downtown Las Vegas.   \n",
       "355                                                                                                                                                                                                                                                                                                                                                                                                                                                                                                                                                                                                                                                                                                                                                                                                                                     Nothing to complain about Everything was fine and week with the price. It is very central in Boston and close to the public transportation.   \n",
       "653                                                                                                                                                                                                                                                                                                                                                                                                                                                                                                                                                                                                                                                                                                                                                                                                                                                                                                                                                               Dated... The room   \n",
       "691                                                                                                                                                                                                                                                                                                                                                                                                                                                                                                                                                                                                                                                                                                                                                                                                                                                                                                                                                                        Big room   \n",
       "748   This was our second stay at the St. Regis, and this time we booked through American Express Platinum concierge. As part of their fine hotel's program, we booked for 2 days and the third night was comped. It also included 100.00 towards meals and complete breakfast for 2. Upon checking in, Hugo acknowledged me as a Platinum SPG guest and upgraded us to the Madison Suite! Every room comes with a butler, who will bring you complimentary tea or coffee service. There's a house Bentley which is available on a first come,first served basis. The food is extremely good in their restaurant and the King Cole bar is internationally famous.Dear 112traveler47, Thank you so much for staying at The St. Regis New York during your recent visit to New York City.We are so grateful for your feedback, and we thank you for taking the time to review your experience on TripAdvisor. We hope to see you again soon!Sincerely, Octavia MargineanHotel Manager   \n",
       "1299                                                                                                                                                                                                                                                                                                                                                                                                                                                                                                                                                                                                                                                                                                                                                                                                                                                                      Garbage hotel beware do not use the toxic water there if you shower in it you will smell like waste water   \n",
       "1300                                                                                                                                                                                                                                                                                                                                                                                                                                                                                                                                                                                                                                                                                                                                                                                                                                                                                         This hotel has bedbugs!! The staff acted like it wasn't a big idea!! Don't stay here!!   \n",
       "\n",
       "      polarity  subjectivity  reviews.rating  \n",
       "112   0.000000      0.000000            5.00  \n",
       "158   0.066667      0.277778            1.65  \n",
       "176   0.138095      0.233333            2.50  \n",
       "250   0.138095      0.233333            2.50  \n",
       "355   0.138889      0.297222            5.00  \n",
       "653   0.000000      0.000000            3.55  \n",
       "691   0.000000      0.100000            5.00  \n",
       "748   0.190314      0.292316            5.00  \n",
       "1299 -0.200000      0.000000            1.00  \n",
       "1300  0.000000      0.100000            1.00  "
      ]
     },
     "execution_count": 15,
     "metadata": {},
     "output_type": "execute_result"
    }
   ],
   "source": [
    "pd.set_option('display.max_colwidth', 1000)\n",
    "\n",
    "print(\"Subjectivité moins de 0.3 :\")\n",
    "df[['name','reviews.text','polarity','subjectivity','reviews.rating']][df.subjectivity<0.3].head(10)"
   ]
  },
  {
   "cell_type": "markdown",
   "metadata": {},
   "source": [
    "# 4. Transformation des données"
   ]
  },
  {
   "cell_type": "code",
   "execution_count": 11,
   "metadata": {},
   "outputs": [
    {
     "name": "stderr",
     "output_type": "stream",
     "text": [
      "C:\\Users\\Mossab Weda\\AppData\\Local\\Temp\\ipykernel_19324\\2263899872.py:2: FutureWarning: ChainedAssignmentError: behaviour will change in pandas 3.0!\n",
      "You are setting values through chained assignment. Currently this works in certain cases, but when using Copy-on-Write (which will become the default behaviour in pandas 3.0) this will never work to update the original DataFrame or Series, because the intermediate object on which we are setting values will behave as a copy.\n",
      "A typical example is when you are setting values in a column of a DataFrame, like:\n",
      "\n",
      "df[\"col\"][row_indexer] = value\n",
      "\n",
      "Use `df.loc[row_indexer, \"col\"] = values` instead, to perform the assignment in a single step and ensure this keeps updating the original `df`.\n",
      "\n",
      "See the caveats in the documentation: https://pandas.pydata.org/pandas-docs/stable/user_guide/indexing.html#returning-a-view-versus-a-copy\n",
      "\n",
      "  df['polarity'][df.polarity==0] = 0\n",
      "C:\\Users\\Mossab Weda\\AppData\\Local\\Temp\\ipykernel_19324\\2263899872.py:2: SettingWithCopyWarning: \n",
      "A value is trying to be set on a copy of a slice from a DataFrame\n",
      "\n",
      "See the caveats in the documentation: https://pandas.pydata.org/pandas-docs/stable/user_guide/indexing.html#returning-a-view-versus-a-copy\n",
      "  df['polarity'][df.polarity==0] = 0\n",
      "C:\\Users\\Mossab Weda\\AppData\\Local\\Temp\\ipykernel_19324\\2263899872.py:3: FutureWarning: ChainedAssignmentError: behaviour will change in pandas 3.0!\n",
      "You are setting values through chained assignment. Currently this works in certain cases, but when using Copy-on-Write (which will become the default behaviour in pandas 3.0) this will never work to update the original DataFrame or Series, because the intermediate object on which we are setting values will behave as a copy.\n",
      "A typical example is when you are setting values in a column of a DataFrame, like:\n",
      "\n",
      "df[\"col\"][row_indexer] = value\n",
      "\n",
      "Use `df.loc[row_indexer, \"col\"] = values` instead, to perform the assignment in a single step and ensure this keeps updating the original `df`.\n",
      "\n",
      "See the caveats in the documentation: https://pandas.pydata.org/pandas-docs/stable/user_guide/indexing.html#returning-a-view-versus-a-copy\n",
      "\n",
      "  df['polarity'][df.polarity > 0] = 1\n",
      "C:\\Users\\Mossab Weda\\AppData\\Local\\Temp\\ipykernel_19324\\2263899872.py:3: SettingWithCopyWarning: \n",
      "A value is trying to be set on a copy of a slice from a DataFrame\n",
      "\n",
      "See the caveats in the documentation: https://pandas.pydata.org/pandas-docs/stable/user_guide/indexing.html#returning-a-view-versus-a-copy\n",
      "  df['polarity'][df.polarity > 0] = 1\n",
      "C:\\Users\\Mossab Weda\\AppData\\Local\\Temp\\ipykernel_19324\\2263899872.py:4: FutureWarning: ChainedAssignmentError: behaviour will change in pandas 3.0!\n",
      "You are setting values through chained assignment. Currently this works in certain cases, but when using Copy-on-Write (which will become the default behaviour in pandas 3.0) this will never work to update the original DataFrame or Series, because the intermediate object on which we are setting values will behave as a copy.\n",
      "A typical example is when you are setting values in a column of a DataFrame, like:\n",
      "\n",
      "df[\"col\"][row_indexer] = value\n",
      "\n",
      "Use `df.loc[row_indexer, \"col\"] = values` instead, to perform the assignment in a single step and ensure this keeps updating the original `df`.\n",
      "\n",
      "See the caveats in the documentation: https://pandas.pydata.org/pandas-docs/stable/user_guide/indexing.html#returning-a-view-versus-a-copy\n",
      "\n",
      "  df['polarity'][df.polarity < 0] = -1\n",
      "C:\\Users\\Mossab Weda\\AppData\\Local\\Temp\\ipykernel_19324\\2263899872.py:4: SettingWithCopyWarning: \n",
      "A value is trying to be set on a copy of a slice from a DataFrame\n",
      "\n",
      "See the caveats in the documentation: https://pandas.pydata.org/pandas-docs/stable/user_guide/indexing.html#returning-a-view-versus-a-copy\n",
      "  df['polarity'][df.polarity < 0] = -1\n"
     ]
    }
   ],
   "source": [
    "# Conversion des valeurs de polarité de continues à catégorielles\n",
    "df['polarity'][df.polarity==0] = 0\n",
    "df['polarity'][df.polarity > 0] = 1\n",
    "df['polarity'][df.polarity < 0] = -1"
   ]
  },
  {
   "cell_type": "code",
   "execution_count": 18,
   "metadata": {},
   "outputs": [
    {
     "data": {
      "text/html": [
       "<div>\n",
       "<style scoped>\n",
       "    .dataframe tbody tr th:only-of-type {\n",
       "        vertical-align: middle;\n",
       "    }\n",
       "\n",
       "    .dataframe tbody tr th {\n",
       "        vertical-align: top;\n",
       "    }\n",
       "\n",
       "    .dataframe thead th {\n",
       "        text-align: right;\n",
       "    }\n",
       "</style>\n",
       "<table border=\"1\" class=\"dataframe\">\n",
       "  <thead>\n",
       "    <tr style=\"text-align: right;\">\n",
       "      <th></th>\n",
       "      <th>id</th>\n",
       "      <th>dateAdded</th>\n",
       "      <th>dateUpdated</th>\n",
       "      <th>address</th>\n",
       "      <th>categories</th>\n",
       "      <th>primaryCategories</th>\n",
       "      <th>city</th>\n",
       "      <th>country</th>\n",
       "      <th>keys</th>\n",
       "      <th>latitude</th>\n",
       "      <th>longitude</th>\n",
       "      <th>name</th>\n",
       "      <th>...</th>\n",
       "      <th>reviews.dateSeen</th>\n",
       "      <th>reviews.rating</th>\n",
       "      <th>reviews.sourceURLs</th>\n",
       "      <th>reviews.text</th>\n",
       "      <th>reviews.title</th>\n",
       "      <th>reviews.userCity</th>\n",
       "      <th>reviews.userProvince</th>\n",
       "      <th>reviews.username</th>\n",
       "      <th>sourceURLs</th>\n",
       "      <th>websites</th>\n",
       "      <th>polarity</th>\n",
       "      <th>subjectivity</th>\n",
       "    </tr>\n",
       "  </thead>\n",
       "  <tbody>\n",
       "    <tr>\n",
       "      <th>0</th>\n",
       "      <td>AVwc252WIN2L1WUfpqLP</td>\n",
       "      <td>2016-10-30T21:42:42Z</td>\n",
       "      <td>2018-09-10T21:06:27Z</td>\n",
       "      <td>5921 Valencia Cir</td>\n",
       "      <td>Hotels,Hotels and motels,Hotel and motel reservations,Resorts,Resort,Hotel</td>\n",
       "      <td>Accommodation &amp; Food Services</td>\n",
       "      <td>Rancho Santa Fe</td>\n",
       "      <td>US</td>\n",
       "      <td>us/ca/ranchosantafe/5921valenciacir/359754519</td>\n",
       "      <td>32.990959</td>\n",
       "      <td>-117.186136</td>\n",
       "      <td>Rancho Valencia Resort Spa</td>\n",
       "      <td>...</td>\n",
       "      <td>2016-08-03T00:00:00Z,2016-07-26T00:00:00Z,2016-08-02T00:00:00Z,2016-07-17T00:00:00Z,2016-08-27T00:00:00Z,2016-08-23T00:00:00Z,2016-08-09T00:00:00Z,2016-11-07T00:00:00Z,2016-08-26T00:00:00Z</td>\n",
       "      <td>5.0</td>\n",
       "      <td>https://www.hotels.com/hotel/125419/reviews%20/</td>\n",
       "      <td>Our experience at Rancho Valencia was absolutely perfect from beginning to end!!!! We felt special and very happy during our stayed. I would come back in a heart beat!!!</td>\n",
       "      <td>Best romantic vacation ever!!!!</td>\n",
       "      <td>NULL</td>\n",
       "      <td>NULL</td>\n",
       "      <td>Paula</td>\n",
       "      <td>http://www.hotels.com/ho125419/%25252525253Flocale%25252525253Den_US%252525252526pos%25252525253DHCOM_US,http://www.yellowbook.com/profile/rancho-valencia-resort-and-spa_1895174051.html,https://www.hotels.com/hotel/125419/reviews%20/,https://foursquare.com/v/rancho-valencia-resort--spa/4aaedb79f964a5208f6320e3,http://www.gayot.com/Hotels/Select-Your-City/United-States/California/San-Diego/Rancho-Valencia-Resort-Spa-Rancho-Santa-Fe-SDHOT02319-02</td>\n",
       "      <td>http://www.ranchovalencia.com</td>\n",
       "      <td>1.0</td>\n",
       "      <td>0.642857</td>\n",
       "    </tr>\n",
       "    <tr>\n",
       "      <th>1</th>\n",
       "      <td>AVwc252WIN2L1WUfpqLP</td>\n",
       "      <td>2016-10-30T21:42:42Z</td>\n",
       "      <td>2018-09-10T21:06:27Z</td>\n",
       "      <td>5921 Valencia Cir</td>\n",
       "      <td>Hotels,Hotels and motels,Hotel and motel reservations,Resorts,Resort,Hotel</td>\n",
       "      <td>Accommodation &amp; Food Services</td>\n",
       "      <td>Rancho Santa Fe</td>\n",
       "      <td>US</td>\n",
       "      <td>us/ca/ranchosantafe/5921valenciacir/359754519</td>\n",
       "      <td>32.990959</td>\n",
       "      <td>-117.186136</td>\n",
       "      <td>Rancho Valencia Resort Spa</td>\n",
       "      <td>...</td>\n",
       "      <td>2016-08-02T00:00:00Z,2016-08-26T00:00:00Z,2016-08-03T00:00:00Z,2016-07-17T00:00:00Z,2016-08-09T00:00:00Z,2016-08-23T00:00:00Z,2016-08-27T00:00:00Z,2016-11-15T00:00:00Z,2016-07-26T00:00:00Z</td>\n",
       "      <td>5.0</td>\n",
       "      <td>https://www.hotels.com/hotel/125419/reviews%20/</td>\n",
       "      <td>Amazing place. Everyone was extremely warm and welcoming. We've stayed at some top notch places and this is definitely in our top 2. Great for a romantic getaway or take the kids along as we did. Had a couple stuffed animals waiting for our girls upon arrival. Can't wait to go back.</td>\n",
       "      <td>Sweet sweet serenity</td>\n",
       "      <td>NULL</td>\n",
       "      <td>NULL</td>\n",
       "      <td>D</td>\n",
       "      <td>http://www.hotels.com/ho125419/%25252525253Flocale%25252525253Den_US%252525252526pos%25252525253DHCOM_US,http://www.yellowbook.com/profile/rancho-valencia-resort-and-spa_1895174051.html,https://www.hotels.com/hotel/125419/reviews%20/,https://foursquare.com/v/rancho-valencia-resort--spa/4aaedb79f964a5208f6320e3,http://www.gayot.com/Hotels/Select-Your-City/United-States/California/San-Diego/Rancho-Valencia-Resort-Spa-Rancho-Santa-Fe-SDHOT02319-02</td>\n",
       "      <td>http://www.ranchovalencia.com</td>\n",
       "      <td>1.0</td>\n",
       "      <td>0.531250</td>\n",
       "    </tr>\n",
       "    <tr>\n",
       "      <th>2</th>\n",
       "      <td>AVwc252WIN2L1WUfpqLP</td>\n",
       "      <td>2016-10-30T21:42:42Z</td>\n",
       "      <td>2018-09-10T21:06:27Z</td>\n",
       "      <td>5921 Valencia Cir</td>\n",
       "      <td>Hotels,Hotels and motels,Hotel and motel reservations,Resorts,Resort,Hotel</td>\n",
       "      <td>Accommodation &amp; Food Services</td>\n",
       "      <td>Rancho Santa Fe</td>\n",
       "      <td>US</td>\n",
       "      <td>us/ca/ranchosantafe/5921valenciacir/359754519</td>\n",
       "      <td>32.990959</td>\n",
       "      <td>-117.186136</td>\n",
       "      <td>Rancho Valencia Resort Spa</td>\n",
       "      <td>...</td>\n",
       "      <td>2016-11-15T00:00:00Z,2016-08-23T00:00:00Z,2016-08-27T00:00:00Z,2016-07-26T00:00:00Z,2016-08-02T00:00:00Z,2016-07-17T00:00:00Z,2016-08-03T00:00:00Z,2016-08-09T00:00:00Z,2016-08-26T00:00:00Z</td>\n",
       "      <td>5.0</td>\n",
       "      <td>https://www.hotels.com/hotel/125419/reviews%20/</td>\n",
       "      <td>We booked a 3 night stay at Rancho Valencia to play some tennis, since it is one of the highest rated tennis resorts in America. This place is really over the top from a luxury standpoint and overall experience. The villas are really perfect, the staff is great, attention to details (includes fresh squeezed orange juice each morning), restaurants, bar and room service amazing, and the tennis program was really impressive as well. We will want to come back here again.</td>\n",
       "      <td>Amazing Property and Experience</td>\n",
       "      <td>NULL</td>\n",
       "      <td>NULL</td>\n",
       "      <td>Ron</td>\n",
       "      <td>http://www.hotels.com/ho125419/%25252525253Flocale%25252525253Den_US%252525252526pos%25252525253DHCOM_US,http://www.yellowbook.com/profile/rancho-valencia-resort-and-spa_1895174051.html,https://www.hotels.com/hotel/125419/reviews%20/,https://foursquare.com/v/rancho-valencia-resort--spa/4aaedb79f964a5208f6320e3,http://www.gayot.com/Hotels/Select-Your-City/United-States/California/San-Diego/Rancho-Valencia-Resort-Spa-Rancho-Santa-Fe-SDHOT02319-02</td>\n",
       "      <td>http://www.ranchovalencia.com</td>\n",
       "      <td>1.0</td>\n",
       "      <td>0.538889</td>\n",
       "    </tr>\n",
       "    <tr>\n",
       "      <th>3</th>\n",
       "      <td>AVwdOclqIN2L1WUfti38</td>\n",
       "      <td>2015-11-28T19:19:35Z</td>\n",
       "      <td>2018-09-10T21:06:16Z</td>\n",
       "      <td>7520 Teague Rd</td>\n",
       "      <td>Hotels,Hotels and motels,Travel agencies and bureaus,Hotel and Motel Management,Hotel &amp; Motel Management,Motels,Hotel</td>\n",
       "      <td>Accommodation &amp; Food Services</td>\n",
       "      <td>Hanover</td>\n",
       "      <td>US</td>\n",
       "      <td>us/md/hanover/7520teaguerd/-2043779672</td>\n",
       "      <td>39.155929</td>\n",
       "      <td>-76.716341</td>\n",
       "      <td>Aloft Arundel Mills</td>\n",
       "      <td>...</td>\n",
       "      <td>2016-05-21T00:00:00Z,2016-07-31T00:00:00Z</td>\n",
       "      <td>2.0</td>\n",
       "      <td>https://www.tripadvisor.com/Hotel_Review-g41185-d1239660-Reviews-Aloft_Arundel_Mills-Hanover_Maryland.html,https://www.tripadvisor.com/Hotel_Review-g41185-d1239660-Reviews-or40-Aloft_Arundel_Mills-Hanover_Maryland.html%2525252523REVIEWS</td>\n",
       "      <td>Currently in bed writing this for the past hr 1/2 there have been dogs barking and squealing call the front desk to advise basically to be told there's nothing they can do. 315.00 and I can't sleep.</td>\n",
       "      <td>Never again...beware, if you want sleep.</td>\n",
       "      <td>Richmond</td>\n",
       "      <td>VA</td>\n",
       "      <td>jaeem2016</td>\n",
       "      <td>http://www.yellowbook.com/profile/aloft-arundel-mills_1896561264.html,https://www.yellowpages.com/hanover-md/mip/aloft-arundel-mills-458499145,https://www.hotels.com/hotel/309972/reviews%20/,http://www.yellowpages.com/hanover-md/mip/arundel-mills-hotel-partners-471898728,https://www.tripadvisor.com/Hotel_Review-g41185-d1239660-Reviews-Aloft_Arundel_Mills-Hanover_Maryland.html,https://foursquare.com/v/aloft-arundel-mills/4b82b437f964a5206edf30e3,http://www.yellowpages.com/hanover-md/mip/aloft-arundel-mills-458499145</td>\n",
       "      <td>http://www.starwoodhotels.com/alofthotels/property/overview/index.html?propertyID=3050?scid=45f93f1b-bd77-45c9-8dab-83b6a417f6fe,http://www.aloftarundelmills.com,https://www.marriott.com/hotels/travel/bwima-aloft-arundel-mills-bwi-airport/</td>\n",
       "      <td>-1.0</td>\n",
       "      <td>0.325000</td>\n",
       "    </tr>\n",
       "    <tr>\n",
       "      <th>4</th>\n",
       "      <td>AVwdOclqIN2L1WUfti38</td>\n",
       "      <td>2015-11-28T19:19:35Z</td>\n",
       "      <td>2018-09-10T21:06:16Z</td>\n",
       "      <td>7520 Teague Rd</td>\n",
       "      <td>Hotels,Hotels and motels,Travel agencies and bureaus,Hotel and Motel Management,Hotel &amp; Motel Management,Motels,Hotel</td>\n",
       "      <td>Accommodation &amp; Food Services</td>\n",
       "      <td>Hanover</td>\n",
       "      <td>US</td>\n",
       "      <td>us/md/hanover/7520teaguerd/-2043779672</td>\n",
       "      <td>39.155929</td>\n",
       "      <td>-76.716341</td>\n",
       "      <td>Aloft Arundel Mills</td>\n",
       "      <td>...</td>\n",
       "      <td>2016-07-31T00:00:00Z</td>\n",
       "      <td>5.0</td>\n",
       "      <td>https://www.tripadvisor.com/Hotel_Review-g41185-d1239660-Reviews-or10-Aloft_Arundel_Mills-Hanover_Maryland.html%2525252523REVIEWS</td>\n",
       "      <td>I live in Md and the Aloft is my Home away from home...we stayed 1 night 7-7-16 ...Staff is great ! Especially Olivia who was Extra special because she remembered me by my voice over the phone ...which tells me she is very alert and pays attention to the customer their needs.AND SHE DID ! Thumbs up... More</td>\n",
       "      <td>ALWAYS GREAT STAY...</td>\n",
       "      <td>Laurel</td>\n",
       "      <td>MD</td>\n",
       "      <td>MamaNiaOne</td>\n",
       "      <td>http://www.yellowbook.com/profile/aloft-arundel-mills_1896561264.html,https://www.yellowpages.com/hanover-md/mip/aloft-arundel-mills-458499145,https://www.hotels.com/hotel/309972/reviews%20/,http://www.yellowpages.com/hanover-md/mip/arundel-mills-hotel-partners-471898728,https://www.tripadvisor.com/Hotel_Review-g41185-d1239660-Reviews-Aloft_Arundel_Mills-Hanover_Maryland.html,https://foursquare.com/v/aloft-arundel-mills/4b82b437f964a5206edf30e3,http://www.yellowpages.com/hanover-md/mip/aloft-arundel-mills-458499145</td>\n",
       "      <td>http://www.starwoodhotels.com/alofthotels/property/overview/index.html?propertyID=3050?scid=45f93f1b-bd77-45c9-8dab-83b6a417f6fe,http://www.aloftarundelmills.com,https://www.marriott.com/hotels/travel/bwima-aloft-arundel-mills-bwi-airport/</td>\n",
       "      <td>1.0</td>\n",
       "      <td>0.531633</td>\n",
       "    </tr>\n",
       "  </tbody>\n",
       "</table>\n",
       "<p>5 rows × 27 columns</p>\n",
       "</div>"
      ],
      "text/plain": [
       "                     id             dateAdded           dateUpdated  \\\n",
       "0  AVwc252WIN2L1WUfpqLP  2016-10-30T21:42:42Z  2018-09-10T21:06:27Z   \n",
       "1  AVwc252WIN2L1WUfpqLP  2016-10-30T21:42:42Z  2018-09-10T21:06:27Z   \n",
       "2  AVwc252WIN2L1WUfpqLP  2016-10-30T21:42:42Z  2018-09-10T21:06:27Z   \n",
       "3  AVwdOclqIN2L1WUfti38  2015-11-28T19:19:35Z  2018-09-10T21:06:16Z   \n",
       "4  AVwdOclqIN2L1WUfti38  2015-11-28T19:19:35Z  2018-09-10T21:06:16Z   \n",
       "\n",
       "             address  \\\n",
       "0  5921 Valencia Cir   \n",
       "1  5921 Valencia Cir   \n",
       "2  5921 Valencia Cir   \n",
       "3     7520 Teague Rd   \n",
       "4     7520 Teague Rd   \n",
       "\n",
       "                                                                                                              categories  \\\n",
       "0                                             Hotels,Hotels and motels,Hotel and motel reservations,Resorts,Resort,Hotel   \n",
       "1                                             Hotels,Hotels and motels,Hotel and motel reservations,Resorts,Resort,Hotel   \n",
       "2                                             Hotels,Hotels and motels,Hotel and motel reservations,Resorts,Resort,Hotel   \n",
       "3  Hotels,Hotels and motels,Travel agencies and bureaus,Hotel and Motel Management,Hotel & Motel Management,Motels,Hotel   \n",
       "4  Hotels,Hotels and motels,Travel agencies and bureaus,Hotel and Motel Management,Hotel & Motel Management,Motels,Hotel   \n",
       "\n",
       "               primaryCategories             city country  \\\n",
       "0  Accommodation & Food Services  Rancho Santa Fe      US   \n",
       "1  Accommodation & Food Services  Rancho Santa Fe      US   \n",
       "2  Accommodation & Food Services  Rancho Santa Fe      US   \n",
       "3  Accommodation & Food Services          Hanover      US   \n",
       "4  Accommodation & Food Services          Hanover      US   \n",
       "\n",
       "                                            keys   latitude   longitude  \\\n",
       "0  us/ca/ranchosantafe/5921valenciacir/359754519  32.990959 -117.186136   \n",
       "1  us/ca/ranchosantafe/5921valenciacir/359754519  32.990959 -117.186136   \n",
       "2  us/ca/ranchosantafe/5921valenciacir/359754519  32.990959 -117.186136   \n",
       "3         us/md/hanover/7520teaguerd/-2043779672  39.155929  -76.716341   \n",
       "4         us/md/hanover/7520teaguerd/-2043779672  39.155929  -76.716341   \n",
       "\n",
       "                         name  ...  \\\n",
       "0  Rancho Valencia Resort Spa  ...   \n",
       "1  Rancho Valencia Resort Spa  ...   \n",
       "2  Rancho Valencia Resort Spa  ...   \n",
       "3         Aloft Arundel Mills  ...   \n",
       "4         Aloft Arundel Mills  ...   \n",
       "\n",
       "                                                                                                                                                                               reviews.dateSeen  \\\n",
       "0  2016-08-03T00:00:00Z,2016-07-26T00:00:00Z,2016-08-02T00:00:00Z,2016-07-17T00:00:00Z,2016-08-27T00:00:00Z,2016-08-23T00:00:00Z,2016-08-09T00:00:00Z,2016-11-07T00:00:00Z,2016-08-26T00:00:00Z   \n",
       "1  2016-08-02T00:00:00Z,2016-08-26T00:00:00Z,2016-08-03T00:00:00Z,2016-07-17T00:00:00Z,2016-08-09T00:00:00Z,2016-08-23T00:00:00Z,2016-08-27T00:00:00Z,2016-11-15T00:00:00Z,2016-07-26T00:00:00Z   \n",
       "2  2016-11-15T00:00:00Z,2016-08-23T00:00:00Z,2016-08-27T00:00:00Z,2016-07-26T00:00:00Z,2016-08-02T00:00:00Z,2016-07-17T00:00:00Z,2016-08-03T00:00:00Z,2016-08-09T00:00:00Z,2016-08-26T00:00:00Z   \n",
       "3                                                                                                                                                     2016-05-21T00:00:00Z,2016-07-31T00:00:00Z   \n",
       "4                                                                                                                                                                          2016-07-31T00:00:00Z   \n",
       "\n",
       "  reviews.rating  \\\n",
       "0            5.0   \n",
       "1            5.0   \n",
       "2            5.0   \n",
       "3            2.0   \n",
       "4            5.0   \n",
       "\n",
       "                                                                                                                                                                                                                             reviews.sourceURLs  \\\n",
       "0                                                                                                                                                                                               https://www.hotels.com/hotel/125419/reviews%20/   \n",
       "1                                                                                                                                                                                               https://www.hotels.com/hotel/125419/reviews%20/   \n",
       "2                                                                                                                                                                                               https://www.hotels.com/hotel/125419/reviews%20/   \n",
       "3  https://www.tripadvisor.com/Hotel_Review-g41185-d1239660-Reviews-Aloft_Arundel_Mills-Hanover_Maryland.html,https://www.tripadvisor.com/Hotel_Review-g41185-d1239660-Reviews-or40-Aloft_Arundel_Mills-Hanover_Maryland.html%2525252523REVIEWS   \n",
       "4                                                                                                             https://www.tripadvisor.com/Hotel_Review-g41185-d1239660-Reviews-or10-Aloft_Arundel_Mills-Hanover_Maryland.html%2525252523REVIEWS   \n",
       "\n",
       "                                                                                                                                                                                                                                                                                                                                                                                                                                                                              reviews.text  \\\n",
       "0                                                                                                                                                                                                                                                                                                                Our experience at Rancho Valencia was absolutely perfect from beginning to end!!!! We felt special and very happy during our stayed. I would come back in a heart beat!!!   \n",
       "1                                                                                                                                                                                              Amazing place. Everyone was extremely warm and welcoming. We've stayed at some top notch places and this is definitely in our top 2. Great for a romantic getaway or take the kids along as we did. Had a couple stuffed animals waiting for our girls upon arrival. Can't wait to go back.   \n",
       "2  We booked a 3 night stay at Rancho Valencia to play some tennis, since it is one of the highest rated tennis resorts in America. This place is really over the top from a luxury standpoint and overall experience. The villas are really perfect, the staff is great, attention to details (includes fresh squeezed orange juice each morning), restaurants, bar and room service amazing, and the tennis program was really impressive as well. We will want to come back here again.   \n",
       "3                                                                                                                                                                                                                                                                                   Currently in bed writing this for the past hr 1/2 there have been dogs barking and squealing call the front desk to advise basically to be told there's nothing they can do. 315.00 and I can't sleep.   \n",
       "4                                                                                                                                                                      I live in Md and the Aloft is my Home away from home...we stayed 1 night 7-7-16 ...Staff is great ! Especially Olivia who was Extra special because she remembered me by my voice over the phone ...which tells me she is very alert and pays attention to the customer their needs.AND SHE DID ! Thumbs up... More   \n",
       "\n",
       "                              reviews.title reviews.userCity  \\\n",
       "0           Best romantic vacation ever!!!!             NULL   \n",
       "1                      Sweet sweet serenity             NULL   \n",
       "2           Amazing Property and Experience             NULL   \n",
       "3  Never again...beware, if you want sleep.         Richmond   \n",
       "4                      ALWAYS GREAT STAY...           Laurel   \n",
       "\n",
       "  reviews.userProvince reviews.username  \\\n",
       "0                 NULL            Paula   \n",
       "1                 NULL                D   \n",
       "2                 NULL              Ron   \n",
       "3                   VA        jaeem2016   \n",
       "4                   MD       MamaNiaOne   \n",
       "\n",
       "                                                                                                                                                                                                                                                                                                                                                                                                                                                                                                                                 sourceURLs  \\\n",
       "0                                                                          http://www.hotels.com/ho125419/%25252525253Flocale%25252525253Den_US%252525252526pos%25252525253DHCOM_US,http://www.yellowbook.com/profile/rancho-valencia-resort-and-spa_1895174051.html,https://www.hotels.com/hotel/125419/reviews%20/,https://foursquare.com/v/rancho-valencia-resort--spa/4aaedb79f964a5208f6320e3,http://www.gayot.com/Hotels/Select-Your-City/United-States/California/San-Diego/Rancho-Valencia-Resort-Spa-Rancho-Santa-Fe-SDHOT02319-02   \n",
       "1                                                                          http://www.hotels.com/ho125419/%25252525253Flocale%25252525253Den_US%252525252526pos%25252525253DHCOM_US,http://www.yellowbook.com/profile/rancho-valencia-resort-and-spa_1895174051.html,https://www.hotels.com/hotel/125419/reviews%20/,https://foursquare.com/v/rancho-valencia-resort--spa/4aaedb79f964a5208f6320e3,http://www.gayot.com/Hotels/Select-Your-City/United-States/California/San-Diego/Rancho-Valencia-Resort-Spa-Rancho-Santa-Fe-SDHOT02319-02   \n",
       "2                                                                          http://www.hotels.com/ho125419/%25252525253Flocale%25252525253Den_US%252525252526pos%25252525253DHCOM_US,http://www.yellowbook.com/profile/rancho-valencia-resort-and-spa_1895174051.html,https://www.hotels.com/hotel/125419/reviews%20/,https://foursquare.com/v/rancho-valencia-resort--spa/4aaedb79f964a5208f6320e3,http://www.gayot.com/Hotels/Select-Your-City/United-States/California/San-Diego/Rancho-Valencia-Resort-Spa-Rancho-Santa-Fe-SDHOT02319-02   \n",
       "3  http://www.yellowbook.com/profile/aloft-arundel-mills_1896561264.html,https://www.yellowpages.com/hanover-md/mip/aloft-arundel-mills-458499145,https://www.hotels.com/hotel/309972/reviews%20/,http://www.yellowpages.com/hanover-md/mip/arundel-mills-hotel-partners-471898728,https://www.tripadvisor.com/Hotel_Review-g41185-d1239660-Reviews-Aloft_Arundel_Mills-Hanover_Maryland.html,https://foursquare.com/v/aloft-arundel-mills/4b82b437f964a5206edf30e3,http://www.yellowpages.com/hanover-md/mip/aloft-arundel-mills-458499145   \n",
       "4  http://www.yellowbook.com/profile/aloft-arundel-mills_1896561264.html,https://www.yellowpages.com/hanover-md/mip/aloft-arundel-mills-458499145,https://www.hotels.com/hotel/309972/reviews%20/,http://www.yellowpages.com/hanover-md/mip/arundel-mills-hotel-partners-471898728,https://www.tripadvisor.com/Hotel_Review-g41185-d1239660-Reviews-Aloft_Arundel_Mills-Hanover_Maryland.html,https://foursquare.com/v/aloft-arundel-mills/4b82b437f964a5206edf30e3,http://www.yellowpages.com/hanover-md/mip/aloft-arundel-mills-458499145   \n",
       "\n",
       "                                                                                                                                                                                                                                          websites  \\\n",
       "0                                                                                                                                                                                                                    http://www.ranchovalencia.com   \n",
       "1                                                                                                                                                                                                                    http://www.ranchovalencia.com   \n",
       "2                                                                                                                                                                                                                    http://www.ranchovalencia.com   \n",
       "3  http://www.starwoodhotels.com/alofthotels/property/overview/index.html?propertyID=3050?scid=45f93f1b-bd77-45c9-8dab-83b6a417f6fe,http://www.aloftarundelmills.com,https://www.marriott.com/hotels/travel/bwima-aloft-arundel-mills-bwi-airport/   \n",
       "4  http://www.starwoodhotels.com/alofthotels/property/overview/index.html?propertyID=3050?scid=45f93f1b-bd77-45c9-8dab-83b6a417f6fe,http://www.aloftarundelmills.com,https://www.marriott.com/hotels/travel/bwima-aloft-arundel-mills-bwi-airport/   \n",
       "\n",
       "  polarity subjectivity  \n",
       "0      1.0     0.642857  \n",
       "1      1.0     0.531250  \n",
       "2      1.0     0.538889  \n",
       "3     -1.0     0.325000  \n",
       "4      1.0     0.531633  \n",
       "\n",
       "[5 rows x 27 columns]"
      ]
     },
     "execution_count": 18,
     "metadata": {},
     "output_type": "execute_result"
    }
   ],
   "source": [
    "df.head()"
   ]
  },
  {
   "cell_type": "code",
   "execution_count": 17,
   "metadata": {},
   "outputs": [
    {
     "data": {
      "text/plain": [
       "polarity\n",
       " 1.0    8917\n",
       "-1.0     960\n",
       " 0.0     123\n",
       "Name: count, dtype: int64"
      ]
     },
     "execution_count": 17,
     "metadata": {},
     "output_type": "execute_result"
    },
    {
     "data": {
      "image/png": "[encoded data removed]",
      "text/plain": [
       "<Figure size 640x480 with 1 Axes>"
      ]
     },
     "metadata": {},
     "output_type": "display_data"
    }
   ],
   "source": [
    "df.polarity.value_counts().plot.bar()\n",
    "df.polarity.value_counts()"
   ]
  },
  {
   "cell_type": "markdown",
   "metadata": {},
   "source": [
    "# 4. Analyse Descriptive"
   ]
  },
  {
   "cell_type": "code",
   "execution_count": 19,
   "metadata": {},
   "outputs": [
    {
     "data": {
      "text/plain": [
       "<Axes: >"
      ]
     },
     "execution_count": 19,
     "metadata": {},
     "output_type": "execute_result"
    },
    {
     "data": {
      "image/png": "[encoded data removed]",
      "text/plain": [
       "<Figure size 640x480 with 1 Axes>"
      ]
     },
     "metadata": {},
     "output_type": "display_data"
    }
   ],
   "source": [
    "df['reviews.rating'].hist(bins=50)"
   ]
  },
  {
   "cell_type": "markdown",
   "metadata": {},
   "source": [
    "## 4.1. Distribution de polarité et de subjectivité"
   ]
  },
  {
   "cell_type": "code",
   "execution_count": 21,
   "metadata": {},
   "outputs": [
    {
     "data": {
      "text/plain": [
       "<Axes: >"
      ]
     },
     "execution_count": 21,
     "metadata": {},
     "output_type": "execute_result"
    },
    {
     "data": {
      "image/png": "[encoded data removed]",
      "text/plain": [
       "<Figure size 640x480 with 1 Axes>"
      ]
     },
     "metadata": {},
     "output_type": "display_data"
    }
   ],
   "source": [
    "df.subjectivity.hist(bins=50)"
   ]
  },
  {
   "cell_type": "code",
   "execution_count": 22,
   "metadata": {},
   "outputs": [
    {
     "data": {
      "text/plain": [
       "<Axes: >"
      ]
     },
     "execution_count": 22,
     "metadata": {},
     "output_type": "execute_result"
    },
    {
     "data": {
      "image/png": "[encoded data removed]",
      "text/plain": [
       "<Figure size 640x480 with 1 Axes>"
      ]
     },
     "metadata": {},
     "output_type": "display_data"
    }
   ],
   "source": [
    "df.polarity.hist(bins=50)"
   ]
  },
  {
   "cell_type": "markdown",
   "metadata": {},
   "source": []
  },
  {
   "cell_type": "markdown",
   "metadata": {},
   "source": [
    "## 4.2. pourcentage des commentaires pour chaque Services"
   ]
  },
  {
   "cell_type": "code",
   "execution_count": 15,
   "metadata": {},
   "outputs": [
    {
     "data": {
      "text/plain": [
       "array(['Accommodation & Food Services', 'Healthcare & Social Assistance',\n",
       "       'Arts Entertainment & Recreation', 'Wholesale Trade', 'Utilities'],\n",
       "      dtype=object)"
      ]
     },
     "execution_count": 15,
     "metadata": {},
     "output_type": "execute_result"
    }
   ],
   "source": [
    "categories_to_modify = [\n",
    "    'Healthcare & Social Assistance,Accommodation & Food Services',\n",
    "    'Accommodation & Food Services,Arts Entertainment & Recreation',\n",
    "    'Wholesale Trade,Accommodation & Food Services'\n",
    "]\n",
    "\n",
    "# Fonction pour suprimer le segment repeter dans chaque service (primaryCategories)\n",
    "def remove_repeated_segment(category):\n",
    "    if category in categories_to_modify:\n",
    "        # supprimer 'Accommodation & Food Services,' et ',Accommodation & Food Services' dans les noms des services\n",
    "        return category.replace('Accommodation & Food Services,', '').replace(',Accommodation & Food Services', '')\n",
    "    else:\n",
    "        return category\n",
    "    \n",
    "# application du fonction\n",
    "df['primaryCategories'] = df['primaryCategories'].apply(remove_repeated_segment)\n",
    "\n",
    "df['primaryCategories'].unique()"
   ]
  },
  {
   "cell_type": "code",
   "execution_count": 16,
   "metadata": {},
   "outputs": [
    {
     "data": {
      "application/vnd.plotly.v1+json": {
       "config": {
        "plotlyServerURL": "https://plot.ly"
       },
       "data": [
        {
         "alignmentgroup": "True",
         "hovertemplate": "variable=Neutral %<br>primaryCategories=%{x}<br>Percentage (%)=%{y}<extra></extra>",
         "legendgroup": "Neutral %",
         "marker": {
          "color": "#636efa",
          "pattern": {
           "shape": ""
          }
         },
         "name": "Neutral %",
         "offsetgroup": "Neutral %",
         "orientation": "v",
         "showlegend": true,
         "textposition": "auto",
         "type": "bar",
         "x": [
          "Accommodation & Food Services",
          "Arts Entertainment & Recreation",
          "Healthcare & Social Assistance",
          "Utilities",
          "Wholesale Trade"
         ],
         "xaxis": "x",
         "y": [
          1.2389202256244962,
          0,
          0,
          0,
          0
         ],
         "yaxis": "y"
        },
        {
         "alignmentgroup": "True",
         "hovertemplate": "variable=Positive %<br>primaryCategories=%{x}<br>Percentage (%)=%{y}<extra></extra>",
         "legendgroup": "Positive %",
         "marker": {
          "color": "#EF553B",
          "pattern": {
           "shape": ""
          }
         },
         "name": "Positive %",
         "offsetgroup": "Positive %",
         "orientation": "v",
         "showlegend": true,
         "textposition": "auto",
         "type": "bar",
         "x": [
          "Accommodation & Food Services",
          "Arts Entertainment & Recreation",
          "Healthcare & Social Assistance",
          "Utilities",
          "Wholesale Trade"
         ],
         "xaxis": "x",
         "y": [
          89.1317485898469,
          91.30434782608695,
          100,
          100,
          100
         ],
         "yaxis": "y"
        },
        {
         "alignmentgroup": "True",
         "hovertemplate": "variable=Negative %<br>primaryCategories=%{x}<br>Percentage (%)=%{y}<extra></extra>",
         "legendgroup": "Negative %",
         "marker": {
          "color": "#00cc96",
          "pattern": {
           "shape": ""
          }
         },
         "name": "Negative %",
         "offsetgroup": "Negative %",
         "orientation": "v",
         "showlegend": true,
         "textposition": "auto",
         "type": "bar",
         "x": [
          "Accommodation & Food Services",
          "Arts Entertainment & Recreation",
          "Healthcare & Social Assistance",
          "Utilities",
          "Wholesale Trade"
         ],
         "xaxis": "x",
         "y": [
          9.629331184528606,
          8.695652173913043,
          0,
          0,
          0
         ],
         "yaxis": "y"
        }
       ],
       "layout": {
        "barmode": "group",
        "legend": {
         "title": {
          "text": "variable"
         },
         "tracegroupgap": 0
        },
        "template": {
         "data": {
          "bar": [
           {
            "error_x": {
             "color": "#2a3f5f"
            },
            "error_y": {
             "color": "#2a3f5f"
            },
            "marker": {
             "line": {
              "color": "#E5ECF6",
              "width": 0.5
             },
             "pattern": {
              "fillmode": "overlay",
              "size": 10,
              "solidity": 0.2
             }
            },
            "type": "bar"
           }
          ],
          "barpolar": [
           {
            "marker": {
             "line": {
              "color": "#E5ECF6",
              "width": 0.5
             },
             "pattern": {
              "fillmode": "overlay",
              "size": 10,
              "solidity": 0.2
             }
            },
            "type": "barpolar"
           }
          ],
          "carpet": [
           {
            "aaxis": {
             "endlinecolor": "#2a3f5f",
             "gridcolor": "white",
             "linecolor": "white",
             "minorgridcolor": "white",
             "startlinecolor": "#2a3f5f"
            },
            "baxis": {
             "endlinecolor": "#2a3f5f",
             "gridcolor": "white",
             "linecolor": "white",
             "minorgridcolor": "white",
             "startlinecolor": "#2a3f5f"
            },
            "type": "carpet"
           }
          ],
          "choropleth": [
           {
            "colorbar": {
             "outlinewidth": 0,
             "ticks": ""
            },
            "type": "choropleth"
           }
          ],
          "contour": [
           {
            "colorbar": {
             "outlinewidth": 0,
             "ticks": ""
            },
            "colorscale": [
             [
              0,
              "#0d0887"
             ],
             [
              0.1111111111111111,
              "#46039f"
             ],
             [
              0.2222222222222222,
              "#7201a8"
             ],
             [
              0.3333333333333333,
              "#9c179e"
             ],
             [
              0.4444444444444444,
              "#bd3786"
             ],
             [
              0.5555555555555556,
              "#d8576b"
             ],
             [
              0.6666666666666666,
              "#ed7953"
             ],
             [
              0.7777777777777778,
              "#fb9f3a"
             ],
             [
              0.8888888888888888,
              "#fdca26"
             ],
             [
              1,
              "#f0f921"
             ]
            ],
            "type": "contour"
           }
          ],
          "contourcarpet": [
           {
            "colorbar": {
             "outlinewidth": 0,
             "ticks": ""
            },
            "type": "contourcarpet"
           }
          ],
          "heatmap": [
           {
            "colorbar": {
             "outlinewidth": 0,
             "ticks": ""
            },
            "colorscale": [
             [
              0,
              "#0d0887"
             ],
             [
              0.1111111111111111,
              "#46039f"
             ],
             [
              0.2222222222222222,
              "#7201a8"
             ],
             [
              0.3333333333333333,
              "#9c179e"
             ],
             [
              0.4444444444444444,
              "#bd3786"
             ],
             [
              0.5555555555555556,
              "#d8576b"
             ],
             [
              0.6666666666666666,
              "#ed7953"
             ],
             [
              0.7777777777777778,
              "#fb9f3a"
             ],
             [
              0.8888888888888888,
              "#fdca26"
             ],
             [
              1,
              "#f0f921"
             ]
            ],
            "type": "heatmap"
           }
          ],
          "heatmapgl": [
           {
            "colorbar": {
             "outlinewidth": 0,
             "ticks": ""
            },
            "colorscale": [
             [
              0,
              "#0d0887"
             ],
             [
              0.1111111111111111,
              "#46039f"
             ],
             [
              0.2222222222222222,
              "#7201a8"
             ],
             [
              0.3333333333333333,
              "#9c179e"
             ],
             [
              0.4444444444444444,
              "#bd3786"
             ],
             [
              0.5555555555555556,
              "#d8576b"
             ],
             [
              0.6666666666666666,
              "#ed7953"
             ],
             [
              0.7777777777777778,
              "#fb9f3a"
             ],
             [
              0.8888888888888888,
              "#fdca26"
             ],
             [
              1,
              "#f0f921"
             ]
            ],
            "type": "heatmapgl"
           }
          ],
          "histogram": [
           {
            "marker": {
             "pattern": {
              "fillmode": "overlay",
              "size": 10,
              "solidity": 0.2
             }
            },
            "type": "histogram"
           }
          ],
          "histogram2d": [
           {
            "colorbar": {
             "outlinewidth": 0,
             "ticks": ""
            },
            "colorscale": [
             [
              0,
              "#0d0887"
             ],
             [
              0.1111111111111111,
              "#46039f"
             ],
             [
              0.2222222222222222,
              "#7201a8"
             ],
             [
              0.3333333333333333,
              "#9c179e"
             ],
             [
              0.4444444444444444,
              "#bd3786"
             ],
             [
              0.5555555555555556,
              "#d8576b"
             ],
             [
              0.6666666666666666,
              "#ed7953"
             ],
             [
              0.7777777777777778,
              "#fb9f3a"
             ],
             [
              0.8888888888888888,
              "#fdca26"
             ],
             [
              1,
              "#f0f921"
             ]
            ],
            "type": "histogram2d"
           }
          ],
          "histogram2dcontour": [
           {
            "colorbar": {
             "outlinewidth": 0,
             "ticks": ""
            },
            "colorscale": [
             [
              0,
              "#0d0887"
             ],
             [
              0.1111111111111111,
              "#46039f"
             ],
             [
              0.2222222222222222,
              "#7201a8"
             ],
             [
              0.3333333333333333,
              "#9c179e"
             ],
             [
              0.4444444444444444,
              "#bd3786"
             ],
             [
              0.5555555555555556,
              "#d8576b"
             ],
             [
              0.6666666666666666,
              "#ed7953"
             ],
             [
              0.7777777777777778,
              "#fb9f3a"
             ],
             [
              0.8888888888888888,
              "#fdca26"
             ],
             [
              1,
              "#f0f921"
             ]
            ],
            "type": "histogram2dcontour"
           }
          ],
          "mesh3d": [
           {
            "colorbar": {
             "outlinewidth": 0,
             "ticks": ""
            },
            "type": "mesh3d"
           }
          ],
          "parcoords": [
           {
            "line": {
             "colorbar": {
              "outlinewidth": 0,
              "ticks": ""
             }
            },
            "type": "parcoords"
           }
          ],
          "pie": [
           {
            "automargin": true,
            "type": "pie"
           }
          ],
          "scatter": [
           {
            "fillpattern": {
             "fillmode": "overlay",
             "size": 10,
             "solidity": 0.2
            },
            "type": "scatter"
           }
          ],
          "scatter3d": [
           {
            "line": {
             "colorbar": {
              "outlinewidth": 0,
              "ticks": ""
             }
            },
            "marker": {
             "colorbar": {
              "outlinewidth": 0,
              "ticks": ""
             }
            },
            "type": "scatter3d"
           }
          ],
          "scattercarpet": [
           {
            "marker": {
             "colorbar": {
              "outlinewidth": 0,
              "ticks": ""
             }
            },
            "type": "scattercarpet"
           }
          ],
          "scattergeo": [
           {
            "marker": {
             "colorbar": {
              "outlinewidth": 0,
              "ticks": ""
             }
            },
            "type": "scattergeo"
           }
          ],
          "scattergl": [
           {
            "marker": {
             "colorbar": {
              "outlinewidth": 0,
              "ticks": ""
             }
            },
            "type": "scattergl"
           }
          ],
          "scattermapbox": [
           {
            "marker": {
             "colorbar": {
              "outlinewidth": 0,
              "ticks": ""
             }
            },
            "type": "scattermapbox"
           }
          ],
          "scatterpolar": [
           {
            "marker": {
             "colorbar": {
              "outlinewidth": 0,
              "ticks": ""
             }
            },
            "type": "scatterpolar"
           }
          ],
          "scatterpolargl": [
           {
            "marker": {
             "colorbar": {
              "outlinewidth": 0,
              "ticks": ""
             }
            },
            "type": "scatterpolargl"
           }
          ],
          "scatterternary": [
           {
            "marker": {
             "colorbar": {
              "outlinewidth": 0,
              "ticks": ""
             }
            },
            "type": "scatterternary"
           }
          ],
          "surface": [
           {
            "colorbar": {
             "outlinewidth": 0,
             "ticks": ""
            },
            "colorscale": [
             [
              0,
              "#0d0887"
             ],
             [
              0.1111111111111111,
              "#46039f"
             ],
             [
              0.2222222222222222,
              "#7201a8"
             ],
             [
              0.3333333333333333,
              "#9c179e"
             ],
             [
              0.4444444444444444,
              "#bd3786"
             ],
             [
              0.5555555555555556,
              "#d8576b"
             ],
             [
              0.6666666666666666,
              "#ed7953"
             ],
             [
              0.7777777777777778,
              "#fb9f3a"
             ],
             [
              0.8888888888888888,
              "#fdca26"
             ],
             [
              1,
              "#f0f921"
             ]
            ],
            "type": "surface"
           }
          ],
          "table": [
           {
            "cells": {
             "fill": {
              "color": "#EBF0F8"
             },
             "line": {
              "color": "white"
             }
            },
            "header": {
             "fill": {
              "color": "#C8D4E3"
             },
             "line": {
              "color": "white"
             }
            },
            "type": "table"
           }
          ]
         },
         "layout": {
          "annotationdefaults": {
           "arrowcolor": "#2a3f5f",
           "arrowhead": 0,
           "arrowwidth": 1
          },
          "autotypenumbers": "strict",
          "coloraxis": {
           "colorbar": {
            "outlinewidth": 0,
            "ticks": ""
           }
          },
          "colorscale": {
           "diverging": [
            [
             0,
             "#8e0152"
            ],
            [
             0.1,
             "#c51b7d"
            ],
            [
             0.2,
             "#de77ae"
            ],
            [
             0.3,
             "#f1b6da"
            ],
            [
             0.4,
             "#fde0ef"
            ],
            [
             0.5,
             "#f7f7f7"
            ],
            [
             0.6,
             "#e6f5d0"
            ],
            [
             0.7,
             "#b8e186"
            ],
            [
             0.8,
             "#7fbc41"
            ],
            [
             0.9,
             "#4d9221"
            ],
            [
             1,
             "#276419"
            ]
           ],
           "sequential": [
            [
             0,
             "#0d0887"
            ],
            [
             0.1111111111111111,
             "#46039f"
            ],
            [
             0.2222222222222222,
             "#7201a8"
            ],
            [
             0.3333333333333333,
             "#9c179e"
            ],
            [
             0.4444444444444444,
             "#bd3786"
            ],
            [
             0.5555555555555556,
             "#d8576b"
            ],
            [
             0.6666666666666666,
             "#ed7953"
            ],
            [
             0.7777777777777778,
             "#fb9f3a"
            ],
            [
             0.8888888888888888,
             "#fdca26"
            ],
            [
             1,
             "#f0f921"
            ]
           ],
           "sequentialminus": [
            [
             0,
             "#0d0887"
            ],
            [
             0.1111111111111111,
             "#46039f"
            ],
            [
             0.2222222222222222,
             "#7201a8"
            ],
            [
             0.3333333333333333,
             "#9c179e"
            ],
            [
             0.4444444444444444,
             "#bd3786"
            ],
            [
             0.5555555555555556,
             "#d8576b"
            ],
            [
             0.6666666666666666,
             "#ed7953"
            ],
            [
             0.7777777777777778,
             "#fb9f3a"
            ],
            [
             0.8888888888888888,
             "#fdca26"
            ],
            [
             1,
             "#f0f921"
            ]
           ]
          },
          "colorway": [
           "#636efa",
           "#EF553B",
           "#00cc96",
           "#ab63fa",
           "#FFA15A",
           "#19d3f3",
           "#FF6692",
           "#B6E880",
           "#FF97FF",
           "#FECB52"
          ],
          "font": {
           "color": "#2a3f5f"
          },
          "geo": {
           "bgcolor": "white",
           "lakecolor": "white",
           "landcolor": "#E5ECF6",
           "showlakes": true,
           "showland": true,
           "subunitcolor": "white"
          },
          "hoverlabel": {
           "align": "left"
          },
          "hovermode": "closest",
          "mapbox": {
           "style": "light"
          },
          "paper_bgcolor": "white",
          "plot_bgcolor": "#E5ECF6",
          "polar": {
           "angularaxis": {
            "gridcolor": "white",
            "linecolor": "white",
            "ticks": ""
           },
           "bgcolor": "#E5ECF6",
           "radialaxis": {
            "gridcolor": "white",
            "linecolor": "white",
            "ticks": ""
           }
          },
          "scene": {
           "xaxis": {
            "backgroundcolor": "#E5ECF6",
            "gridcolor": "white",
            "gridwidth": 2,
            "linecolor": "white",
            "showbackground": true,
            "ticks": "",
            "zerolinecolor": "white"
           },
           "yaxis": {
            "backgroundcolor": "#E5ECF6",
            "gridcolor": "white",
            "gridwidth": 2,
            "linecolor": "white",
            "showbackground": true,
            "ticks": "",
            "zerolinecolor": "white"
           },
           "zaxis": {
            "backgroundcolor": "#E5ECF6",
            "gridcolor": "white",
            "gridwidth": 2,
            "linecolor": "white",
            "showbackground": true,
            "ticks": "",
            "zerolinecolor": "white"
           }
          },
          "shapedefaults": {
           "line": {
            "color": "#2a3f5f"
           }
          },
          "ternary": {
           "aaxis": {
            "gridcolor": "white",
            "linecolor": "white",
            "ticks": ""
           },
           "baxis": {
            "gridcolor": "white",
            "linecolor": "white",
            "ticks": ""
           },
           "bgcolor": "#E5ECF6",
           "caxis": {
            "gridcolor": "white",
            "linecolor": "white",
            "ticks": ""
           }
          },
          "title": {
           "x": 0.05
          },
          "xaxis": {
           "automargin": true,
           "gridcolor": "white",
           "linecolor": "white",
           "ticks": "",
           "title": {
            "standoff": 15
           },
           "zerolinecolor": "white",
           "zerolinewidth": 2
          },
          "yaxis": {
           "automargin": true,
           "gridcolor": "white",
           "linecolor": "white",
           "ticks": "",
           "title": {
            "standoff": 15
           },
           "zerolinecolor": "white",
           "zerolinewidth": 2
          }
         }
        },
        "title": {
         "text": "Percentage Distribution of Sentiments Across Categories"
        },
        "xaxis": {
         "anchor": "y",
         "domain": [
          0,
          1
         ],
         "title": {
          "text": "primaryCategories"
         }
        },
        "yaxis": {
         "anchor": "x",
         "domain": [
          0,
          1
         ],
         "title": {
          "text": "Percentage (%)"
         }
        }
       }
      }
     },
     "metadata": {},
     "output_type": "display_data"
    }
   ],
   "source": [
    "# Pivot table creation remains the same\n",
    "pivot_df = df.pivot_table(index='primaryCategories', columns='polarity', aggfunc='size', fill_value=0)\n",
    "\n",
    "# Reset index to make 'primaryCategories' a column again\n",
    "pivot_df.reset_index(inplace=True)\n",
    "\n",
    "# Rename columns for clarity\n",
    "pivot_df.columns.name = None\n",
    "pivot_df.rename(columns={0: 'Neutral', 1: 'Positive', -1: 'Negative'}, inplace=True)\n",
    "\n",
    "# Calculate percentages for Neutral, Positive, and Negative sentiments\n",
    "pivot_df['Total'] = pivot_df[['Neutral', 'Positive', 'Negative']].sum(axis=1)\n",
    "pivot_df['Neutral %'] = pivot_df['Neutral'] / pivot_df['Total'] * 100\n",
    "pivot_df['Positive %'] = pivot_df['Positive'] / pivot_df['Total'] * 100\n",
    "pivot_df['Negative %'] = pivot_df['Negative'] / pivot_df['Total'] * 100\n",
    "\n",
    "# Filter for relevant columns\n",
    "relevant_columns = ['primaryCategories', 'Neutral %', 'Positive %', 'Negative %']\n",
    "\n",
    "# Plotting\n",
    "fig = px.bar(pivot_df[relevant_columns], x='primaryCategories', y=[col for col in relevant_columns if col!= 'primaryCategories'],\n",
    "             title='Percentage Distribution of Sentiments Across Categories',\n",
    "             labels={'value':'Percentage (%)'},\n",
    "             barmode='group')\n",
    "\n",
    "fig.show()\n"
   ]
  }
 ],
 "metadata": {
  "kernelspec": {
   "display_name": "Python 3",
   "language": "python",
   "name": "python3"
  },
  "language_info": {
   "codemirror_mode": {
    "name": "ipython",
    "version": 3
   },
   "file_extension": ".py",
   "mimetype": "text/x-python",
   "name": "python",
   "nbconvert_exporter": "python",
   "pygments_lexer": "ipython3",
   "version": "3.12.1"
  }
 },
 "nbformat": 4,
 "nbformat_minor": 2
}
